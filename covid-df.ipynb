{
 "cells": [
  {
   "cell_type": "code",
   "execution_count": 1,
   "id": "extreme-finder",
   "metadata": {
    "_cell_guid": "b1076dfc-b9ad-4769-8c92-a6c4dae69d19",
    "_uuid": "8f2839f25d086af736a60e9eeb907d3b93b6e0e5",
    "execution": {
     "iopub.execute_input": "2021-04-20T19:02:46.503809Z",
     "iopub.status.busy": "2021-04-20T19:02:46.502029Z",
     "iopub.status.idle": "2021-04-20T19:02:46.523604Z",
     "shell.execute_reply": "2021-04-20T19:02:46.522680Z"
    },
    "papermill": {
     "duration": 0.077671,
     "end_time": "2021-04-20T19:02:46.523859",
     "exception": false,
     "start_time": "2021-04-20T19:02:46.446188",
     "status": "completed"
    },
    "tags": []
   },
   "outputs": [
    {
     "name": "stdout",
     "output_type": "stream",
     "text": [
      "/kaggle/input/coviddf/vacinacaoDF.csv\n",
      "/kaggle/input/coviddf/dados-abertos.csv\n",
      "/kaggle/input/coviddf/vacina.csv\n",
      "/kaggle/input/coviddf/subgrupo.csv\n",
      "/kaggle/input/coviddf/grupo.csv\n",
      "/kaggle/input/coviddf/cepDF.csv\n"
     ]
    }
   ],
   "source": [
    "# This Python 3 environment comes with many helpful analytics libraries installed\n",
    "# It is defined by the kaggle/python Docker image: https://github.com/kaggle/docker-python\n",
    "# For example, here's several helpful packages to load\n",
    "\n",
    "import numpy as np # linear algebra\n",
    "import pandas as pd # data processing, CSV file I/O (e.g. pd.read_csv)\n",
    "\n",
    "# Input data files are available in the read-only \"../input/\" directory\n",
    "# For example, running this (by clicking run or pressing Shift+Enter) will list all files under the input directory\n",
    "\n",
    "import os\n",
    "for dirname, _, filenames in os.walk('/kaggle/input'):\n",
    "    for filename in filenames:\n",
    "        print(os.path.join(dirname, filename))\n",
    "\n",
    "# You can write up to 20GB to the current directory (/kaggle/working/) that gets preserved as output when you create a version using \"Save & Run All\" \n",
    "# You can also write temporary files to /kaggle/temp/, but they won't be saved outside of the current session"
   ]
  },
  {
   "cell_type": "markdown",
   "id": "dress-importance",
   "metadata": {
    "papermill": {
     "duration": 0.049767,
     "end_time": "2021-04-20T19:02:46.626346",
     "exception": false,
     "start_time": "2021-04-20T19:02:46.576579",
     "status": "completed"
    },
    "tags": []
   },
   "source": [
    "### dados_aberto.csv fiz download no:\n",
    "https://covid19.ssp.df.gov.br/extensions/covid19/covid19.html#/"
   ]
  },
  {
   "cell_type": "markdown",
   "id": "pretty-friend",
   "metadata": {
    "papermill": {
     "duration": 0.050658,
     "end_time": "2021-04-20T19:02:46.729605",
     "exception": false,
     "start_time": "2021-04-20T19:02:46.678947",
     "status": "completed"
    },
    "tags": []
   },
   "source": [
    "### os desmais data sets fiz download no banco de dados que meu professor disponibilizou dos dados de vacinação de Covid do Ministério da Saúde:\n",
    "\n",
    "* Importo as bibliotecas necessárias para conexão e coleta dos dados\n",
    "\n",
    "import psycopg2\n",
    "\n",
    "import pandas as pd\n",
    "from sqlalchemy import create_engine\n",
    "\n",
    "* Descrevo os parâmetros de conexão conforme configurado\n",
    "\n",
    "db_server_info = {'host': 'dbcdiaiesb.ca7zq9oeqx18.us-east-2.rds.amazonaws.com', \n",
    "                  'porta': 5432, \n",
    "                  'dbname': 'dbs_vacina',\n",
    "                  'user': 'cdia_iesb', \n",
    "                  'password': 'JOqiAqnc3'} \n",
    "\n",
    "conn_str = '{}://{}:{}@{}:{}/{}'.format('postgresql+psycopg2', \n",
    "                                  db_server_info['user'], \n",
    "                                  db_server_info['password'], \n",
    "                                  db_server_info['host'], \n",
    "                                  db_server_info['porta'], \n",
    "                                  db_server_info['dbname']) \n",
    "\n",
    "alchemyEngine = create_engine(conn_str, pool_recycle=3600)\n",
    "\n",
    "postgreSQLConnection = alchemyEngine.connect() \n",
    "\n",
    "* bases de dados\n",
    "\n",
    "dfGrupo = pd.read_sql_query('SELECT * FROM pos.tbl_grupo', postgreSQLConnection)\n",
    "dfSubgrupo = pd.read_sql_query('SELECT * FROM pos.tbl_subgrupo', postgreSQLConnection)\n",
    "\n",
    "dfGrupo.to_csv('grupo.csv')\n",
    "dfSubgrupo.to_csv('subgrupo.csv') \n",
    "\n",
    "dfCep = pd.read_sql_query('SELECT * FROM pos.tbl_cep WHERE id_cidade = 5300108', postgreSQLConnection)\n",
    "\n",
    "dfCep.to_csv('cepDF.csv') \n",
    "\n",
    "dfVacinacao = pd.read_sql_query('SELECT * FROM pos.tbl_vacinacao as A INNER JOIN pos.tbl_paciente as B ON A.hash_paciente = B.hash WHERE B.id_cidade = 5300108 ', postgreSQLConnection)\n",
    "\n",
    "dfVacinacao.to_csv('vacinacaoDF.csv')\n",
    "\n",
    "dfVacina = pd.read_sql_query('SELECT * FROM pos.tbl_vacina', postgreSQLConnection)\n",
    "\n",
    "dfVacina.to_csv('vacina.csv')\n",
    "\n",
    "* Fechando essa base de dados\n",
    "\n",
    "postgreSQLConnection.close()\n"
   ]
  },
  {
   "cell_type": "markdown",
   "id": "systematic-banner",
   "metadata": {
    "papermill": {
     "duration": 0.050726,
     "end_time": "2021-04-20T19:02:46.830777",
     "exception": false,
     "start_time": "2021-04-20T19:02:46.780051",
     "status": "completed"
    },
    "tags": []
   },
   "source": [
    "## carregando dados"
   ]
  },
  {
   "cell_type": "code",
   "execution_count": 2,
   "id": "governing-certification",
   "metadata": {
    "execution": {
     "iopub.execute_input": "2021-04-20T19:02:46.938277Z",
     "iopub.status.busy": "2021-04-20T19:02:46.937559Z",
     "iopub.status.idle": "2021-04-20T19:02:46.941312Z",
     "shell.execute_reply": "2021-04-20T19:02:46.940555Z"
    },
    "papermill": {
     "duration": 0.058781,
     "end_time": "2021-04-20T19:02:46.941478",
     "exception": false,
     "start_time": "2021-04-20T19:02:46.882697",
     "status": "completed"
    },
    "tags": []
   },
   "outputs": [],
   "source": [
    "import warnings\n",
    "warnings.filterwarnings(\"ignore\")"
   ]
  },
  {
   "cell_type": "code",
   "execution_count": 3,
   "id": "adjacent-louisville",
   "metadata": {
    "execution": {
     "iopub.execute_input": "2021-04-20T19:02:47.048221Z",
     "iopub.status.busy": "2021-04-20T19:02:47.047514Z",
     "iopub.status.idle": "2021-04-20T19:02:48.603971Z",
     "shell.execute_reply": "2021-04-20T19:02:48.604747Z"
    },
    "papermill": {
     "duration": 1.612207,
     "end_time": "2021-04-20T19:02:48.604958",
     "exception": false,
     "start_time": "2021-04-20T19:02:46.992751",
     "status": "completed"
    },
    "tags": []
   },
   "outputs": [],
   "source": [
    "obitodf = pd.read_csv('/kaggle/input/coviddf/dados-abertos.csv', sep=';', encoding='utf-8',index_col=0)"
   ]
  },
  {
   "cell_type": "code",
   "execution_count": 4,
   "id": "casual-violence",
   "metadata": {
    "execution": {
     "iopub.execute_input": "2021-04-20T19:02:48.710297Z",
     "iopub.status.busy": "2021-04-20T19:02:48.709515Z",
     "iopub.status.idle": "2021-04-20T19:02:48.775498Z",
     "shell.execute_reply": "2021-04-20T19:02:48.773782Z"
    },
    "papermill": {
     "duration": 0.119876,
     "end_time": "2021-04-20T19:02:48.775653",
     "exception": false,
     "start_time": "2021-04-20T19:02:48.655777",
     "status": "completed"
    },
    "tags": []
   },
   "outputs": [],
   "source": [
    "vacina = pd.read_csv('/kaggle/input/coviddf/vacina.csv',index_col=0)\n",
    "grupo = pd.read_csv('/kaggle/input/coviddf/grupo.csv',index_col=0)\n",
    "subgrupo = pd.read_csv('/kaggle/input/coviddf/subgrupo.csv',index_col=0)"
   ]
  },
  {
   "cell_type": "code",
   "execution_count": 5,
   "id": "daily-arlington",
   "metadata": {
    "execution": {
     "iopub.execute_input": "2021-04-20T19:02:48.884289Z",
     "iopub.status.busy": "2021-04-20T19:02:48.883399Z",
     "iopub.status.idle": "2021-04-20T19:02:51.228312Z",
     "shell.execute_reply": "2021-04-20T19:02:51.228896Z"
    },
    "papermill": {
     "duration": 2.402882,
     "end_time": "2021-04-20T19:02:51.229191",
     "exception": false,
     "start_time": "2021-04-20T19:02:48.826309",
     "status": "completed"
    },
    "tags": []
   },
   "outputs": [],
   "source": [
    "vacinacao = pd.read_csv('/kaggle/input/coviddf/vacinacaoDF.csv',index_col=0)"
   ]
  },
  {
   "cell_type": "code",
   "execution_count": 6,
   "id": "prepared-establishment",
   "metadata": {
    "execution": {
     "iopub.execute_input": "2021-04-20T19:02:51.335853Z",
     "iopub.status.busy": "2021-04-20T19:02:51.335033Z",
     "iopub.status.idle": "2021-04-20T19:02:51.365305Z",
     "shell.execute_reply": "2021-04-20T19:02:51.366023Z"
    },
    "papermill": {
     "duration": 0.08504,
     "end_time": "2021-04-20T19:02:51.366239",
     "exception": false,
     "start_time": "2021-04-20T19:02:51.281199",
     "status": "completed"
    },
    "tags": []
   },
   "outputs": [
    {
     "data": {
      "text/html": [
       "<div>\n",
       "<style scoped>\n",
       "    .dataframe tbody tr th:only-of-type {\n",
       "        vertical-align: middle;\n",
       "    }\n",
       "\n",
       "    .dataframe tbody tr th {\n",
       "        vertical-align: top;\n",
       "    }\n",
       "\n",
       "    .dataframe thead th {\n",
       "        text-align: right;\n",
       "    }\n",
       "</style>\n",
       "<table border=\"1\" class=\"dataframe\">\n",
       "  <thead>\n",
       "    <tr style=\"text-align: right;\">\n",
       "      <th></th>\n",
       "      <th>0</th>\n",
       "      <th>1</th>\n",
       "      <th>2</th>\n",
       "      <th>3</th>\n",
       "      <th>4</th>\n",
       "    </tr>\n",
       "  </thead>\n",
       "  <tbody>\n",
       "    <tr>\n",
       "      <th>id</th>\n",
       "      <td>879456</td>\n",
       "      <td>884047</td>\n",
       "      <td>888358</td>\n",
       "      <td>888369</td>\n",
       "      <td>889362</td>\n",
       "    </tr>\n",
       "    <tr>\n",
       "      <th>id_documento</th>\n",
       "      <td>64f74027-f10c-4cc0-b223-fefce4e1175a-i0b0</td>\n",
       "      <td>baee6faa-f535-47e9-8631-66b345890e7d-i0b0</td>\n",
       "      <td>0c9d60cf-1471-4828-bb4e-bac8a6d7eb01-i0b0</td>\n",
       "      <td>808f7504-9886-4b37-b71a-3374c2b9aed2-i0b0</td>\n",
       "      <td>265d7fb6-c0d2-4be8-8680-6f2066ebfb8f-i0b0</td>\n",
       "    </tr>\n",
       "    <tr>\n",
       "      <th>hash_paciente</th>\n",
       "      <td>c5106f2b14b6a67309171462166c8d42b8737d45442f41...</td>\n",
       "      <td>079408d80b0aa596c1c41bdcc22cd78eb9a0e7dd380b93...</td>\n",
       "      <td>ce16533ab45e900429d29d30da63335c547b65f0ee0c58...</td>\n",
       "      <td>aa6080577d450fe7d631143550df2da1a4088285b20949...</td>\n",
       "      <td>f8baf1d1b8b6fbcdeeb9493e32fc88161af0a085a77a5a...</td>\n",
       "    </tr>\n",
       "    <tr>\n",
       "      <th>estabelecimento_id</th>\n",
       "      <td>7368895</td>\n",
       "      <td>2381524</td>\n",
       "      <td>10847</td>\n",
       "      <td>10626</td>\n",
       "      <td>9698752</td>\n",
       "    </tr>\n",
       "    <tr>\n",
       "      <th>data_aplicacao</th>\n",
       "      <td>2021-02-03</td>\n",
       "      <td>2021-02-19</td>\n",
       "      <td>2021-02-02</td>\n",
       "      <td>2021-02-02</td>\n",
       "      <td>2021-02-23</td>\n",
       "    </tr>\n",
       "    <tr>\n",
       "      <th>vacina_id</th>\n",
       "      <td>85</td>\n",
       "      <td>86</td>\n",
       "      <td>85</td>\n",
       "      <td>86</td>\n",
       "      <td>86</td>\n",
       "    </tr>\n",
       "    <tr>\n",
       "      <th>vacina_lote</th>\n",
       "      <td>4120Z005</td>\n",
       "      <td>200279</td>\n",
       "      <td>4120Z005</td>\n",
       "      <td>202010021</td>\n",
       "      <td>200279</td>\n",
       "    </tr>\n",
       "    <tr>\n",
       "      <th>dose_declarada</th>\n",
       "      <td>1</td>\n",
       "      <td>1</td>\n",
       "      <td>1</td>\n",
       "      <td>1</td>\n",
       "      <td>1</td>\n",
       "    </tr>\n",
       "    <tr>\n",
       "      <th>sistema_origem</th>\n",
       "      <td>Novo PNI</td>\n",
       "      <td>Novo PNI</td>\n",
       "      <td>Novo PNI</td>\n",
       "      <td>Novo PNI</td>\n",
       "      <td>Novo PNI</td>\n",
       "    </tr>\n",
       "    <tr>\n",
       "      <th>data_importacao</th>\n",
       "      <td>2021-02-09</td>\n",
       "      <td>2021-02-22</td>\n",
       "      <td>2021-02-02</td>\n",
       "      <td>2021-02-02</td>\n",
       "      <td>2021-02-23</td>\n",
       "    </tr>\n",
       "    <tr>\n",
       "      <th>id.1</th>\n",
       "      <td>8666289</td>\n",
       "      <td>333120</td>\n",
       "      <td>9062190</td>\n",
       "      <td>7493972</td>\n",
       "      <td>10939937</td>\n",
       "    </tr>\n",
       "    <tr>\n",
       "      <th>hash</th>\n",
       "      <td>c5106f2b14b6a67309171462166c8d42b8737d45442f41...</td>\n",
       "      <td>079408d80b0aa596c1c41bdcc22cd78eb9a0e7dd380b93...</td>\n",
       "      <td>ce16533ab45e900429d29d30da63335c547b65f0ee0c58...</td>\n",
       "      <td>aa6080577d450fe7d631143550df2da1a4088285b20949...</td>\n",
       "      <td>f8baf1d1b8b6fbcdeeb9493e32fc88161af0a085a77a5a...</td>\n",
       "    </tr>\n",
       "    <tr>\n",
       "      <th>nascimento</th>\n",
       "      <td>1940-01-10</td>\n",
       "      <td>1942-02-22</td>\n",
       "      <td>1937-12-06</td>\n",
       "      <td>1934-10-09</td>\n",
       "      <td>1940-12-15</td>\n",
       "    </tr>\n",
       "    <tr>\n",
       "      <th>sexo</th>\n",
       "      <td>M</td>\n",
       "      <td>F</td>\n",
       "      <td>M</td>\n",
       "      <td>M</td>\n",
       "      <td>F</td>\n",
       "    </tr>\n",
       "    <tr>\n",
       "      <th>nacionalidade</th>\n",
       "      <td>B</td>\n",
       "      <td>B</td>\n",
       "      <td>B</td>\n",
       "      <td>B</td>\n",
       "      <td>B</td>\n",
       "    </tr>\n",
       "    <tr>\n",
       "      <th>id_cidade</th>\n",
       "      <td>5300108</td>\n",
       "      <td>5300108</td>\n",
       "      <td>5300108</td>\n",
       "      <td>5300108</td>\n",
       "      <td>5300108</td>\n",
       "    </tr>\n",
       "    <tr>\n",
       "      <th>id_cep</th>\n",
       "      <td>NaN</td>\n",
       "      <td>76365.0</td>\n",
       "      <td>72450.0</td>\n",
       "      <td>NaN</td>\n",
       "      <td>72210.0</td>\n",
       "    </tr>\n",
       "    <tr>\n",
       "      <th>id_raca_cor</th>\n",
       "      <td>99</td>\n",
       "      <td>3</td>\n",
       "      <td>1</td>\n",
       "      <td>99</td>\n",
       "      <td>4</td>\n",
       "    </tr>\n",
       "    <tr>\n",
       "      <th>id_grupo</th>\n",
       "      <td>2.0</td>\n",
       "      <td>2.0</td>\n",
       "      <td>2.0</td>\n",
       "      <td>2.0</td>\n",
       "      <td>2.0</td>\n",
       "    </tr>\n",
       "    <tr>\n",
       "      <th>id_subgrupo</th>\n",
       "      <td>205</td>\n",
       "      <td>204</td>\n",
       "      <td>205</td>\n",
       "      <td>205</td>\n",
       "      <td>205</td>\n",
       "    </tr>\n",
       "  </tbody>\n",
       "</table>\n",
       "</div>"
      ],
      "text/plain": [
       "                                                                    0  \\\n",
       "id                                                             879456   \n",
       "id_documento                64f74027-f10c-4cc0-b223-fefce4e1175a-i0b0   \n",
       "hash_paciente       c5106f2b14b6a67309171462166c8d42b8737d45442f41...   \n",
       "estabelecimento_id                                            7368895   \n",
       "data_aplicacao                                             2021-02-03   \n",
       "vacina_id                                                          85   \n",
       "vacina_lote                                                  4120Z005   \n",
       "dose_declarada                                                      1   \n",
       "sistema_origem                                               Novo PNI   \n",
       "data_importacao                                            2021-02-09   \n",
       "id.1                                                          8666289   \n",
       "hash                c5106f2b14b6a67309171462166c8d42b8737d45442f41...   \n",
       "nascimento                                                 1940-01-10   \n",
       "sexo                                                                M   \n",
       "nacionalidade                                                       B   \n",
       "id_cidade                                                     5300108   \n",
       "id_cep                                                            NaN   \n",
       "id_raca_cor                                                        99   \n",
       "id_grupo                                                          2.0   \n",
       "id_subgrupo                                                       205   \n",
       "\n",
       "                                                                    1  \\\n",
       "id                                                             884047   \n",
       "id_documento                baee6faa-f535-47e9-8631-66b345890e7d-i0b0   \n",
       "hash_paciente       079408d80b0aa596c1c41bdcc22cd78eb9a0e7dd380b93...   \n",
       "estabelecimento_id                                            2381524   \n",
       "data_aplicacao                                             2021-02-19   \n",
       "vacina_id                                                          86   \n",
       "vacina_lote                                                    200279   \n",
       "dose_declarada                                                      1   \n",
       "sistema_origem                                               Novo PNI   \n",
       "data_importacao                                            2021-02-22   \n",
       "id.1                                                           333120   \n",
       "hash                079408d80b0aa596c1c41bdcc22cd78eb9a0e7dd380b93...   \n",
       "nascimento                                                 1942-02-22   \n",
       "sexo                                                                F   \n",
       "nacionalidade                                                       B   \n",
       "id_cidade                                                     5300108   \n",
       "id_cep                                                        76365.0   \n",
       "id_raca_cor                                                         3   \n",
       "id_grupo                                                          2.0   \n",
       "id_subgrupo                                                       204   \n",
       "\n",
       "                                                                    2  \\\n",
       "id                                                             888358   \n",
       "id_documento                0c9d60cf-1471-4828-bb4e-bac8a6d7eb01-i0b0   \n",
       "hash_paciente       ce16533ab45e900429d29d30da63335c547b65f0ee0c58...   \n",
       "estabelecimento_id                                              10847   \n",
       "data_aplicacao                                             2021-02-02   \n",
       "vacina_id                                                          85   \n",
       "vacina_lote                                                  4120Z005   \n",
       "dose_declarada                                                      1   \n",
       "sistema_origem                                               Novo PNI   \n",
       "data_importacao                                            2021-02-02   \n",
       "id.1                                                          9062190   \n",
       "hash                ce16533ab45e900429d29d30da63335c547b65f0ee0c58...   \n",
       "nascimento                                                 1937-12-06   \n",
       "sexo                                                                M   \n",
       "nacionalidade                                                       B   \n",
       "id_cidade                                                     5300108   \n",
       "id_cep                                                        72450.0   \n",
       "id_raca_cor                                                         1   \n",
       "id_grupo                                                          2.0   \n",
       "id_subgrupo                                                       205   \n",
       "\n",
       "                                                                    3  \\\n",
       "id                                                             888369   \n",
       "id_documento                808f7504-9886-4b37-b71a-3374c2b9aed2-i0b0   \n",
       "hash_paciente       aa6080577d450fe7d631143550df2da1a4088285b20949...   \n",
       "estabelecimento_id                                              10626   \n",
       "data_aplicacao                                             2021-02-02   \n",
       "vacina_id                                                          86   \n",
       "vacina_lote                                                 202010021   \n",
       "dose_declarada                                                      1   \n",
       "sistema_origem                                               Novo PNI   \n",
       "data_importacao                                            2021-02-02   \n",
       "id.1                                                          7493972   \n",
       "hash                aa6080577d450fe7d631143550df2da1a4088285b20949...   \n",
       "nascimento                                                 1934-10-09   \n",
       "sexo                                                                M   \n",
       "nacionalidade                                                       B   \n",
       "id_cidade                                                     5300108   \n",
       "id_cep                                                            NaN   \n",
       "id_raca_cor                                                        99   \n",
       "id_grupo                                                          2.0   \n",
       "id_subgrupo                                                       205   \n",
       "\n",
       "                                                                    4  \n",
       "id                                                             889362  \n",
       "id_documento                265d7fb6-c0d2-4be8-8680-6f2066ebfb8f-i0b0  \n",
       "hash_paciente       f8baf1d1b8b6fbcdeeb9493e32fc88161af0a085a77a5a...  \n",
       "estabelecimento_id                                            9698752  \n",
       "data_aplicacao                                             2021-02-23  \n",
       "vacina_id                                                          86  \n",
       "vacina_lote                                                    200279  \n",
       "dose_declarada                                                      1  \n",
       "sistema_origem                                               Novo PNI  \n",
       "data_importacao                                            2021-02-23  \n",
       "id.1                                                         10939937  \n",
       "hash                f8baf1d1b8b6fbcdeeb9493e32fc88161af0a085a77a5a...  \n",
       "nascimento                                                 1940-12-15  \n",
       "sexo                                                                F  \n",
       "nacionalidade                                                       B  \n",
       "id_cidade                                                     5300108  \n",
       "id_cep                                                        72210.0  \n",
       "id_raca_cor                                                         4  \n",
       "id_grupo                                                          2.0  \n",
       "id_subgrupo                                                       205  "
      ]
     },
     "execution_count": 6,
     "metadata": {},
     "output_type": "execute_result"
    }
   ],
   "source": [
    "vacinacao.head().T"
   ]
  },
  {
   "cell_type": "markdown",
   "id": "convenient-fundamentals",
   "metadata": {
    "papermill": {
     "duration": 0.0536,
     "end_time": "2021-04-20T19:02:51.472150",
     "exception": false,
     "start_time": "2021-04-20T19:02:51.418550",
     "status": "completed"
    },
    "tags": []
   },
   "source": [
    "## análise vacinacao"
   ]
  },
  {
   "cell_type": "code",
   "execution_count": 7,
   "id": "superior-moscow",
   "metadata": {
    "execution": {
     "iopub.execute_input": "2021-04-20T19:02:51.584724Z",
     "iopub.status.busy": "2021-04-20T19:02:51.583659Z",
     "iopub.status.idle": "2021-04-20T19:02:52.655283Z",
     "shell.execute_reply": "2021-04-20T19:02:52.654676Z"
    },
    "papermill": {
     "duration": 1.130857,
     "end_time": "2021-04-20T19:02:52.655466",
     "exception": false,
     "start_time": "2021-04-20T19:02:51.524609",
     "status": "completed"
    },
    "tags": []
   },
   "outputs": [],
   "source": [
    "import matplotlib.pyplot as plt\n",
    "import seaborn as sns\n",
    "%matplotlib inline \n",
    "sns.set_palette('pastel')"
   ]
  },
  {
   "cell_type": "code",
   "execution_count": 8,
   "id": "blind-fireplace",
   "metadata": {
    "execution": {
     "iopub.execute_input": "2021-04-20T19:02:52.763858Z",
     "iopub.status.busy": "2021-04-20T19:02:52.762851Z",
     "iopub.status.idle": "2021-04-20T19:02:53.157173Z",
     "shell.execute_reply": "2021-04-20T19:02:53.157639Z"
    },
    "papermill": {
     "duration": 0.449818,
     "end_time": "2021-04-20T19:02:53.157816",
     "exception": false,
     "start_time": "2021-04-20T19:02:52.707998",
     "status": "completed"
    },
    "tags": []
   },
   "outputs": [
    {
     "data": {
      "image/png": "[encoded data removed]",
      "text/plain": [
       "<Figure size 432x288 with 1 Axes>"
      ]
     },
     "metadata": {
      "needs_background": "light"
     },
     "output_type": "display_data"
    }
   ],
   "source": [
    "sexovac= sns.countplot(x='sexo',data=vacinacao)\n",
    "\n",
    "sexovac.set_title('Pessoas vacinadas por sexo no DF', y=1.03)\n",
    "\n",
    "sns.despine(left=True, bottom=True) #retirando os eixos\n",
    "sexovac.set(xlabel='',\n",
    "            ylabel='')\n",
    "\n",
    "total = len(vacinacao['sexo'])*1.\n",
    "for p in sexovac.patches:\n",
    "    percentage = '{:.1f}%'.format(100 * p.get_height()/total)\n",
    "    x = p.get_x() + 0.3\n",
    "    y = p.get_y() + p.get_height() + 1000\n",
    "    sexovac.annotate(percentage, (x, y))\n",
    "\n",
    "sexovac.axes.get_yaxis().set_visible(False) #tornando os valores do eixo y invisivel\n",
    "plt.xticks(np.arange(2), ['Masculino', 'Feminino'])\n",
    "plt.show()"
   ]
  },
  {
   "cell_type": "code",
   "execution_count": 9,
   "id": "expanded-hammer",
   "metadata": {
    "execution": {
     "iopub.execute_input": "2021-04-20T19:02:53.268473Z",
     "iopub.status.busy": "2021-04-20T19:02:53.267724Z",
     "iopub.status.idle": "2021-04-20T19:02:53.380369Z",
     "shell.execute_reply": "2021-04-20T19:02:53.379694Z"
    },
    "papermill": {
     "duration": 0.169263,
     "end_time": "2021-04-20T19:02:53.380523",
     "exception": false,
     "start_time": "2021-04-20T19:02:53.211260",
     "status": "completed"
    },
    "tags": []
   },
   "outputs": [
    {
     "data": {
      "image/png": "[encoded data removed]",
      "text/plain": [
       "<Figure size 432x288 with 1 Axes>"
      ]
     },
     "metadata": {
      "needs_background": "light"
     },
     "output_type": "display_data"
    }
   ],
   "source": [
    "dosevac= sns.countplot(x='dose_declarada',data=vacinacao)\n",
    "\n",
    "dosevac.set_title('Pessoas vacinadas por dose no DF', y=1.03)\n",
    "sns.despine(left=True, bottom=True) #retirando os eixos\n",
    "dosevac.set(xlabel='',\n",
    "            ylabel='')\n",
    "\n",
    "total = len(vacinacao['dose_declarada'])*1.\n",
    "for p in dosevac.patches:\n",
    "    percentage = '{:.1f}%'.format(100 * p.get_height()/total)\n",
    "    x = p.get_x() + 0.3\n",
    "    y = p.get_y() + p.get_height() + 1000\n",
    "    dosevac.annotate(percentage, (x, y))\n",
    "\n",
    "dosevac.axes.get_yaxis().set_visible(False) #tornando os valores do eixo y invisivel\n",
    "plt.xticks(np.arange(2), ['1ª Dose', '2ª Dose'])\n",
    "plt.show()"
   ]
  },
  {
   "cell_type": "code",
   "execution_count": 10,
   "id": "creative-assist",
   "metadata": {
    "execution": {
     "iopub.execute_input": "2021-04-20T19:02:53.499014Z",
     "iopub.status.busy": "2021-04-20T19:02:53.497819Z",
     "iopub.status.idle": "2021-04-20T19:02:53.794234Z",
     "shell.execute_reply": "2021-04-20T19:02:53.794722Z"
    },
    "papermill": {
     "duration": 0.360657,
     "end_time": "2021-04-20T19:02:53.794916",
     "exception": false,
     "start_time": "2021-04-20T19:02:53.434259",
     "status": "completed"
    },
    "tags": []
   },
   "outputs": [
    {
     "data": {
      "image/png": "[encoded data removed]",
      "text/plain": [
       "<Figure size 432x288 with 1 Axes>"
      ]
     },
     "metadata": {
      "needs_background": "light"
     },
     "output_type": "display_data"
    }
   ],
   "source": [
    "dosevac= sns.countplot(x='dose_declarada',data=vacinacao, hue='sexo')\n",
    "\n",
    "dosevac.set_title('Doses vacinadas por sexo no DF', y=1.03)\n",
    "sns.despine(left=True, bottom=True) #retirando os eixos\n",
    "dosevac.set(xlabel='',\n",
    "            ylabel='')\n",
    "\n",
    "total = len(vacinacao['dose_declarada'])*1.\n",
    "for p in dosevac.patches:\n",
    "    percentage = '{:.1f}%'.format(100 * p.get_height()/total)\n",
    "    x = p.get_x() + 0.1\n",
    "    y = p.get_y() + p.get_height() + 1000\n",
    "    dosevac.annotate(percentage, (x, y))\n",
    "\n",
    "dosevac.axes.get_yaxis().set_visible(False) #tornando os valores do eixo y invisivel\n",
    "plt.xticks(np.arange(2), ['1ª Dose', '2ª Dose'])\n",
    "plt.show()"
   ]
  },
  {
   "cell_type": "code",
   "execution_count": 11,
   "id": "persistent-color",
   "metadata": {
    "execution": {
     "iopub.execute_input": "2021-04-20T19:02:53.912803Z",
     "iopub.status.busy": "2021-04-20T19:02:53.911786Z",
     "iopub.status.idle": "2021-04-20T19:02:54.463315Z",
     "shell.execute_reply": "2021-04-20T19:02:54.463832Z"
    },
    "papermill": {
     "duration": 0.612665,
     "end_time": "2021-04-20T19:02:54.464042",
     "exception": false,
     "start_time": "2021-04-20T19:02:53.851377",
     "status": "completed"
    },
    "tags": []
   },
   "outputs": [],
   "source": [
    "# unindo o DF vacinacao com vacina p/ ter os nomes referentes a vacina\n",
    "vacinas = pd.merge(vacinacao, vacina, right_on=\"id\", left_on=\"vacina_id\")\n",
    "vacinas.drop(columns='vacina_id', axis=1, inplace=True)"
   ]
  },
  {
   "cell_type": "code",
   "execution_count": 12,
   "id": "periodic-shoot",
   "metadata": {
    "execution": {
     "iopub.execute_input": "2021-04-20T19:02:54.586323Z",
     "iopub.status.busy": "2021-04-20T19:02:54.585346Z",
     "iopub.status.idle": "2021-04-20T19:02:54.614963Z",
     "shell.execute_reply": "2021-04-20T19:02:54.614399Z"
    },
    "papermill": {
     "duration": 0.094014,
     "end_time": "2021-04-20T19:02:54.615118",
     "exception": false,
     "start_time": "2021-04-20T19:02:54.521104",
     "status": "completed"
    },
    "tags": []
   },
   "outputs": [
    {
     "data": {
      "text/plain": [
       "86    0.757976\n",
       "85    0.242011\n",
       "87    0.000009\n",
       "81    0.000004\n",
       "Name: id_y, dtype: float64"
      ]
     },
     "execution_count": 12,
     "metadata": {},
     "output_type": "execute_result"
    }
   ],
   "source": [
    "vacinas['id_y'].value_counts(normalize=True)"
   ]
  },
  {
   "cell_type": "code",
   "execution_count": 13,
   "id": "lovely-transmission",
   "metadata": {
    "execution": {
     "iopub.execute_input": "2021-04-20T19:02:54.736741Z",
     "iopub.status.busy": "2021-04-20T19:02:54.735725Z",
     "iopub.status.idle": "2021-04-20T19:02:54.796316Z",
     "shell.execute_reply": "2021-04-20T19:02:54.796807Z"
    },
    "papermill": {
     "duration": 0.126074,
     "end_time": "2021-04-20T19:02:54.797009",
     "exception": false,
     "start_time": "2021-04-20T19:02:54.670935",
     "status": "completed"
    },
    "tags": []
   },
   "outputs": [],
   "source": [
    "# filtrando as linhas q a vacina é 85 ou 86\n",
    "\n",
    "vacinas=vacinas.loc[(vacinas['id_y']== 85) | (vacinas['id_y']== 86)]"
   ]
  },
  {
   "cell_type": "code",
   "execution_count": 14,
   "id": "proud-administrator",
   "metadata": {
    "execution": {
     "iopub.execute_input": "2021-04-20T19:02:54.964117Z",
     "iopub.status.busy": "2021-04-20T19:02:54.951526Z",
     "iopub.status.idle": "2021-04-20T19:02:55.283003Z",
     "shell.execute_reply": "2021-04-20T19:02:55.282380Z"
    },
    "papermill": {
     "duration": 0.43117,
     "end_time": "2021-04-20T19:02:55.283147",
     "exception": false,
     "start_time": "2021-04-20T19:02:54.851977",
     "status": "completed"
    },
    "tags": []
   },
   "outputs": [
    {
     "data": {
      "image/png": "[encoded data removed]",
      "text/plain": [
       "<Figure size 432x288 with 1 Axes>"
      ]
     },
     "metadata": {
      "needs_background": "light"
     },
     "output_type": "display_data"
    }
   ],
   "source": [
    "ax= sns.countplot(y='nome_vacina',data=vacinas)\n",
    "\n",
    "total = len(vacinas['nome_vacina'])*1.\n",
    "\n",
    "for p in ax.patches:\n",
    "        percentage = '{:.1f}%'.format(100 * p.get_width()/total)\n",
    "        x = p.get_x() + p.get_width() + 0.02\n",
    "        y = p.get_y() + p.get_height()/2\n",
    "        ax.annotate(percentage, (x, y))\n",
    "        \n",
    "sns.despine(left=True, bottom=True) #retirando os eixos\n",
    "ax.set(xlabel='',\n",
    "       ylabel='',\n",
    "       title='Vacinas utilizadas no DF')\n",
    "ax.axes.get_xaxis().set_visible(False) #tornando os valores do eixo x invisivel\n",
    "plt.show()"
   ]
  },
  {
   "cell_type": "code",
   "execution_count": 15,
   "id": "fresh-queen",
   "metadata": {
    "execution": {
     "iopub.execute_input": "2021-04-20T19:02:55.417367Z",
     "iopub.status.busy": "2021-04-20T19:02:55.416694Z",
     "iopub.status.idle": "2021-04-20T19:02:55.487618Z",
     "shell.execute_reply": "2021-04-20T19:02:55.486800Z"
    },
    "papermill": {
     "duration": 0.146609,
     "end_time": "2021-04-20T19:02:55.487780",
     "exception": false,
     "start_time": "2021-04-20T19:02:55.341171",
     "status": "completed"
    },
    "tags": []
   },
   "outputs": [],
   "source": [
    "import datetime as dt\n",
    "# transformando em datetime\n",
    "vacinacao['data_aplicacao'] = pd.to_datetime(vacinacao['data_aplicacao'])\n",
    "\n",
    "# contando aplicacoes por dia da vacina\n",
    "vacinacao['aplicacoes_por_data'] = vacinacao['data_aplicacao'].map(vacinacao['data_aplicacao'].value_counts())\n"
   ]
  },
  {
   "cell_type": "code",
   "execution_count": 16,
   "id": "elder-dominican",
   "metadata": {
    "execution": {
     "iopub.execute_input": "2021-04-20T19:02:55.605488Z",
     "iopub.status.busy": "2021-04-20T19:02:55.604422Z",
     "iopub.status.idle": "2021-04-20T19:02:55.680648Z",
     "shell.execute_reply": "2021-04-20T19:02:55.681151Z"
    },
    "papermill": {
     "duration": 0.137755,
     "end_time": "2021-04-20T19:02:55.681350",
     "exception": false,
     "start_time": "2021-04-20T19:02:55.543595",
     "status": "completed"
    },
    "tags": []
   },
   "outputs": [],
   "source": [
    "vacinacao['mes'] = vacinacao['data_aplicacao'].dt.month\n",
    "vacinacao['dia'] =  vacinacao['data_aplicacao'].dt.day\n",
    "vacinacao['dia_semana'] = vacinacao['data_aplicacao'].dt.dayofweek"
   ]
  },
  {
   "cell_type": "code",
   "execution_count": 17,
   "id": "charming-spiritual",
   "metadata": {
    "execution": {
     "iopub.execute_input": "2021-04-20T19:02:55.798828Z",
     "iopub.status.busy": "2021-04-20T19:02:55.797862Z",
     "iopub.status.idle": "2021-04-20T19:02:55.876421Z",
     "shell.execute_reply": "2021-04-20T19:02:55.876951Z"
    },
    "papermill": {
     "duration": 0.139197,
     "end_time": "2021-04-20T19:02:55.877153",
     "exception": false,
     "start_time": "2021-04-20T19:02:55.737956",
     "status": "completed"
    },
    "tags": []
   },
   "outputs": [],
   "source": [
    "janeiro=vacinacao[vacinacao['mes'] == 1]\n",
    "fevereiro=vacinacao[vacinacao['mes'] == 2]\n",
    "marco=vacinacao[vacinacao['mes'] == 3]\n",
    "abril=vacinacao[vacinacao['mes'] == 4]"
   ]
  },
  {
   "cell_type": "code",
   "execution_count": 18,
   "id": "acting-parts",
   "metadata": {
    "execution": {
     "iopub.execute_input": "2021-04-20T19:02:55.994339Z",
     "iopub.status.busy": "2021-04-20T19:02:55.993276Z",
     "iopub.status.idle": "2021-04-20T19:03:00.908125Z",
     "shell.execute_reply": "2021-04-20T19:03:00.908598Z"
    },
    "papermill": {
     "duration": 4.975265,
     "end_time": "2021-04-20T19:03:00.908785",
     "exception": false,
     "start_time": "2021-04-20T19:02:55.933520",
     "status": "completed"
    },
    "tags": []
   },
   "outputs": [
    {
     "data": {
      "image/png": "[encoded data removed]",
      "text/plain": [
       "<Figure size 432x288 with 1 Axes>"
      ]
     },
     "metadata": {
      "needs_background": "light"
     },
     "output_type": "display_data"
    }
   ],
   "source": [
    "vac_dia=sns.lineplot(x='data_aplicacao', y='aplicacoes_por_data', data=vacinacao)\n",
    "sns.despine(left=True, bottom=True) #retirando os eixos\n",
    "vac_dia.set(xlabel='',\n",
    "       ylabel='',\n",
    "       title='Vacinações por dia no DF')\n",
    "\n",
    "#plt.xticks(np.arange(6), ['15/01', '01/02', '15/02', '01/03', '15/03', '01/04'])\n",
    "plt.show()"
   ]
  },
  {
   "cell_type": "code",
   "execution_count": 19,
   "id": "abroad-miami",
   "metadata": {
    "execution": {
     "iopub.execute_input": "2021-04-20T19:03:01.028963Z",
     "iopub.status.busy": "2021-04-20T19:03:01.027969Z",
     "iopub.status.idle": "2021-04-20T19:03:01.034915Z",
     "shell.execute_reply": "2021-04-20T19:03:01.035418Z"
    },
    "papermill": {
     "duration": 0.069027,
     "end_time": "2021-04-20T19:03:01.035599",
     "exception": false,
     "start_time": "2021-04-20T19:03:00.966572",
     "status": "completed"
    },
    "tags": []
   },
   "outputs": [
    {
     "data": {
      "text/plain": [
       "6379"
      ]
     },
     "execution_count": 19,
     "metadata": {},
     "output_type": "execute_result"
    }
   ],
   "source": [
    "janeiro['aplicacoes_por_data'].max()"
   ]
  },
  {
   "cell_type": "code",
   "execution_count": 20,
   "id": "enclosed-ontario",
   "metadata": {
    "execution": {
     "iopub.execute_input": "2021-04-20T19:03:01.162240Z",
     "iopub.status.busy": "2021-04-20T19:03:01.161339Z",
     "iopub.status.idle": "2021-04-20T19:03:01.165742Z",
     "shell.execute_reply": "2021-04-20T19:03:01.165120Z"
    },
    "papermill": {
     "duration": 0.070427,
     "end_time": "2021-04-20T19:03:01.165913",
     "exception": false,
     "start_time": "2021-04-20T19:03:01.095486",
     "status": "completed"
    },
    "tags": []
   },
   "outputs": [
    {
     "data": {
      "text/plain": [
       "14182"
      ]
     },
     "execution_count": 20,
     "metadata": {},
     "output_type": "execute_result"
    }
   ],
   "source": [
    "fevereiro['aplicacoes_por_data'].max()"
   ]
  },
  {
   "cell_type": "code",
   "execution_count": 21,
   "id": "expanded-cuisine",
   "metadata": {
    "execution": {
     "iopub.execute_input": "2021-04-20T19:03:01.288981Z",
     "iopub.status.busy": "2021-04-20T19:03:01.288272Z",
     "iopub.status.idle": "2021-04-20T19:03:01.294473Z",
     "shell.execute_reply": "2021-04-20T19:03:01.293684Z"
    },
    "papermill": {
     "duration": 0.068958,
     "end_time": "2021-04-20T19:03:01.294616",
     "exception": false,
     "start_time": "2021-04-20T19:03:01.225658",
     "status": "completed"
    },
    "tags": []
   },
   "outputs": [
    {
     "data": {
      "text/plain": [
       "10131"
      ]
     },
     "execution_count": 21,
     "metadata": {},
     "output_type": "execute_result"
    }
   ],
   "source": [
    "marco['aplicacoes_por_data'].max()"
   ]
  },
  {
   "cell_type": "code",
   "execution_count": 22,
   "id": "peaceful-david",
   "metadata": {
    "execution": {
     "iopub.execute_input": "2021-04-20T19:03:01.416528Z",
     "iopub.status.busy": "2021-04-20T19:03:01.415839Z",
     "iopub.status.idle": "2021-04-20T19:03:01.420773Z",
     "shell.execute_reply": "2021-04-20T19:03:01.421422Z"
    },
    "papermill": {
     "duration": 0.06756,
     "end_time": "2021-04-20T19:03:01.421610",
     "exception": false,
     "start_time": "2021-04-20T19:03:01.354050",
     "status": "completed"
    },
    "tags": []
   },
   "outputs": [
    {
     "data": {
      "text/plain": [
       "47"
      ]
     },
     "execution_count": 22,
     "metadata": {},
     "output_type": "execute_result"
    }
   ],
   "source": [
    "abril['aplicacoes_por_data'].max()"
   ]
  },
  {
   "cell_type": "code",
   "execution_count": 23,
   "id": "crude-engineer",
   "metadata": {
    "execution": {
     "iopub.execute_input": "2021-04-20T19:03:01.544563Z",
     "iopub.status.busy": "2021-04-20T19:03:01.543863Z",
     "iopub.status.idle": "2021-04-20T19:03:07.037479Z",
     "shell.execute_reply": "2021-04-20T19:03:07.038049Z"
    },
    "papermill": {
     "duration": 5.556809,
     "end_time": "2021-04-20T19:03:07.038219",
     "exception": false,
     "start_time": "2021-04-20T19:03:01.481410",
     "status": "completed"
    },
    "tags": []
   },
   "outputs": [
    {
     "data": {
      "image/png": "[encoded data removed]",
      "text/plain": [
       "<Figure size 720x720 with 4 Axes>"
      ]
     },
     "metadata": {
      "needs_background": "light"
     },
     "output_type": "display_data"
    }
   ],
   "source": [
    "m=sns.relplot( x='dia', y='aplicacoes_por_data', data=vacinacao, col='mes',col_wrap=2, kind='line')\n",
    "\n",
    "m.fig.suptitle('Pessoas vacinadas no DF', y=1.03)\n",
    "\n",
    "m.set(ylabel='Vacinações',\n",
    "       xlabel='Dia')\n",
    "m.set_titles('Mês {col_name}')\n",
    "plt.show()"
   ]
  },
  {
   "cell_type": "code",
   "execution_count": 24,
   "id": "eastern-steps",
   "metadata": {
    "execution": {
     "iopub.execute_input": "2021-04-20T19:03:07.169132Z",
     "iopub.status.busy": "2021-04-20T19:03:07.168465Z",
     "iopub.status.idle": "2021-04-20T19:03:10.396092Z",
     "shell.execute_reply": "2021-04-20T19:03:10.395427Z"
    },
    "papermill": {
     "duration": 3.296221,
     "end_time": "2021-04-20T19:03:10.396244",
     "exception": false,
     "start_time": "2021-04-20T19:03:07.100023",
     "status": "completed"
    },
    "tags": []
   },
   "outputs": [
    {
     "data": {
      "image/png": "[encoded data removed]",
      "text/plain": [
       "<Figure size 432x288 with 1 Axes>"
      ]
     },
     "metadata": {
      "needs_background": "light"
     },
     "output_type": "display_data"
    }
   ],
   "source": [
    "dsvac=sns.lineplot( x='dia_semana', y='aplicacoes_por_data', data=vacinacao, hue='mes', marker = 'o')\n",
    "\n",
    "\n",
    "sns.despine(left=True) #retirando os eixos\n",
    "dsvac.set(xlabel='',\n",
    "       ylabel='',\n",
    "       title='Aplicacao da vacina no DF por dias da semana')\n",
    "\n",
    "ticks = list(range(0, 7)) # pontos do eixo x\n",
    "labels = \"Seg Ter Qua Qui Sex Sáb Dom\".split()\n",
    "plt.xticks(ticks, labels)\n",
    "plt.show()"
   ]
  },
  {
   "cell_type": "code",
   "execution_count": 25,
   "id": "actual-pioneer",
   "metadata": {
    "execution": {
     "iopub.execute_input": "2021-04-20T19:03:10.645313Z",
     "iopub.status.busy": "2021-04-20T19:03:10.629638Z",
     "iopub.status.idle": "2021-04-20T19:03:11.206018Z",
     "shell.execute_reply": "2021-04-20T19:03:11.206527Z"
    },
    "papermill": {
     "duration": 0.747186,
     "end_time": "2021-04-20T19:03:11.206729",
     "exception": false,
     "start_time": "2021-04-20T19:03:10.459543",
     "status": "completed"
    },
    "tags": []
   },
   "outputs": [
    {
     "data": {
      "image/png": "[encoded data removed]",
      "text/plain": [
       "<Figure size 432x288 with 1 Axes>"
      ]
     },
     "metadata": {
      "needs_background": "light"
     },
     "output_type": "display_data"
    },
    {
     "data": {
      "image/png": "[encoded data removed]",
      "text/plain": [
       "<Figure size 432x288 with 1 Axes>"
      ]
     },
     "metadata": {
      "needs_background": "light"
     },
     "output_type": "display_data"
    },
    {
     "data": {
      "image/png": "[encoded data removed]",
      "text/plain": [
       "<Figure size 432x288 with 1 Axes>"
      ]
     },
     "metadata": {
      "needs_background": "light"
     },
     "output_type": "display_data"
    },
    {
     "data": {
      "image/png": "[encoded data removed]",
      "text/plain": [
       "<Figure size 432x288 with 1 Axes>"
      ]
     },
     "metadata": {
      "needs_background": "light"
     },
     "output_type": "display_data"
    }
   ],
   "source": [
    "jvac=sns.countplot(x='dia_semana', data=janeiro)\n",
    "\n",
    "\n",
    "sns.despine(left=True, bottom=True) #retirando os eixos\n",
    "jvac.set(xlabel='',\n",
    "       ylabel='')\n",
    "jvac.set_title('Vacinação no DF por dias da semana em Janeiro', y=1.09)\n",
    "\n",
    "# anotar porcentagem\n",
    "total = len(janeiro['dia_semana'])*1.\n",
    "for p in jvac.patches:\n",
    "    percentage = '{:.1f}%'.format(100 * p.get_height()/total)\n",
    "    x = p.get_x() + 0.1\n",
    "    y = p.get_y() + p.get_height()+ 100\n",
    "    jvac.annotate(percentage, (x, y))\n",
    "\n",
    "jvac.axes.get_yaxis().set_visible(False) #tornando os valores do eixo y invisivel\n",
    "\n",
    "ticks = list(range(0, 7)) # pontos do eixo x\n",
    "labels = \"Seg Ter Qua Qui Sex Sáb Dom\".split()\n",
    "plt.xticks(ticks, labels)\n",
    "plt.show()\n",
    "\n",
    "# fevereiro\n",
    "fvac=sns.countplot(x='dia_semana', data=fevereiro)\n",
    "\n",
    "\n",
    "sns.despine(left=True, bottom=True) #retirando os eixos\n",
    "fvac.set(xlabel='',\n",
    "       ylabel='')\n",
    "fvac.set_title('Vacinação no DF por dias da semana em Fevereiro', y=1.09)\n",
    "\n",
    "# anotar porcentagem\n",
    "total = len(fevereiro['dia_semana'])*1.\n",
    "for p in fvac.patches:\n",
    "    percentage = '{:.1f}%'.format(100 * p.get_height()/total)\n",
    "    x = p.get_x() + 0.1\n",
    "    y = p.get_y() + p.get_height() + 500\n",
    "    fvac.annotate(percentage, (x, y))\n",
    "\n",
    "fvac.axes.get_yaxis().set_visible(False) #tornando os valores do eixo y invisivel\n",
    "\n",
    "ticks = list(range(0, 7)) # pontos do eixo x\n",
    "labels = \"Seg Ter Qua Qui Sex Sáb Dom\".split()\n",
    "plt.xticks(ticks, labels)\n",
    "plt.show()\n",
    "\n",
    "#março\n",
    "mvac=sns.countplot(x='dia_semana', data=marco)\n",
    "\n",
    "\n",
    "sns.despine(left=True, bottom=True) #retirando os eixos\n",
    "mvac.set(xlabel='',\n",
    "       ylabel='')\n",
    "mvac.set_title('Vacinação no DF por dias da semana em Março', y=1.09)\n",
    "\n",
    "# anotar porcentagem\n",
    "total = len(marco['dia_semana'])*1.\n",
    "for p in mvac.patches:\n",
    "    percentage = '{:.1f}%'.format(100 * p.get_height()/total)\n",
    "    x = p.get_x() + 0.1\n",
    "    y = p.get_y() + p.get_height() + 500\n",
    "    mvac.annotate(percentage, (x, y))\n",
    "\n",
    "mvac.axes.get_yaxis().set_visible(False) #tornando os valores do eixo y invisivel\n",
    "\n",
    "ticks = list(range(0, 7)) # pontos do eixo x\n",
    "labels = \"Seg Ter Qua Qui Sex Sáb Dom\".split()\n",
    "plt.xticks(ticks, labels)\n",
    "plt.show()\n",
    "\n",
    "#abril\n",
    "avac=sns.countplot(x='dia_semana', data=abril)\n",
    "\n",
    "\n",
    "sns.despine(left=True, bottom=True) #retirando os eixos\n",
    "avac.set(xlabel='',\n",
    "       ylabel='')\n",
    "avac.set_title('Vacinação no DF por dias da semana em Abril', y=1.09)\n",
    "\n",
    "# anotar porcentagem\n",
    "total = len(abril['dia_semana'])*1.\n",
    "for p in avac.patches:\n",
    "    percentage = '{:.1f}%'.format(100 * p.get_height()/total)\n",
    "    x = p.get_x() + 0.1\n",
    "    y = p.get_y() + p.get_height() + 1\n",
    "    avac.annotate(percentage, (x, y))\n",
    "\n",
    "avac.axes.get_yaxis().set_visible(False) #tornando os valores do eixo y invisivel\n",
    "\n",
    "ticks = list(range(0, 7)) # pontos do eixo x\n",
    "labels = \"Seg Ter Qua Qui Sex Sáb Dom\".split()\n",
    "plt.xticks(ticks, labels)\n",
    "plt.show()"
   ]
  },
  {
   "cell_type": "markdown",
   "id": "grand-pilot",
   "metadata": {
    "papermill": {
     "duration": 0.066866,
     "end_time": "2021-04-20T19:03:11.341577",
     "exception": false,
     "start_time": "2021-04-20T19:03:11.274711",
     "status": "completed"
    },
    "tags": []
   },
   "source": [
    "## Criando coluna idade"
   ]
  },
  {
   "cell_type": "code",
   "execution_count": 26,
   "id": "destroyed-milwaukee",
   "metadata": {
    "execution": {
     "iopub.execute_input": "2021-04-20T19:03:11.483180Z",
     "iopub.status.busy": "2021-04-20T19:03:11.482470Z",
     "iopub.status.idle": "2021-04-20T19:03:11.500617Z",
     "shell.execute_reply": "2021-04-20T19:03:11.501211Z"
    },
    "papermill": {
     "duration": 0.093352,
     "end_time": "2021-04-20T19:03:11.501403",
     "exception": false,
     "start_time": "2021-04-20T19:03:11.408051",
     "status": "completed"
    },
    "tags": []
   },
   "outputs": [
    {
     "data": {
      "text/html": [
       "<div>\n",
       "<style scoped>\n",
       "    .dataframe tbody tr th:only-of-type {\n",
       "        vertical-align: middle;\n",
       "    }\n",
       "\n",
       "    .dataframe tbody tr th {\n",
       "        vertical-align: top;\n",
       "    }\n",
       "\n",
       "    .dataframe thead th {\n",
       "        text-align: right;\n",
       "    }\n",
       "</style>\n",
       "<table border=\"1\" class=\"dataframe\">\n",
       "  <thead>\n",
       "    <tr style=\"text-align: right;\">\n",
       "      <th></th>\n",
       "      <th>0</th>\n",
       "      <th>1</th>\n",
       "      <th>2</th>\n",
       "      <th>3</th>\n",
       "      <th>4</th>\n",
       "    </tr>\n",
       "  </thead>\n",
       "  <tbody>\n",
       "    <tr>\n",
       "      <th>id</th>\n",
       "      <td>879456</td>\n",
       "      <td>884047</td>\n",
       "      <td>888358</td>\n",
       "      <td>888369</td>\n",
       "      <td>889362</td>\n",
       "    </tr>\n",
       "    <tr>\n",
       "      <th>id_documento</th>\n",
       "      <td>64f74027-f10c-4cc0-b223-fefce4e1175a-i0b0</td>\n",
       "      <td>baee6faa-f535-47e9-8631-66b345890e7d-i0b0</td>\n",
       "      <td>0c9d60cf-1471-4828-bb4e-bac8a6d7eb01-i0b0</td>\n",
       "      <td>808f7504-9886-4b37-b71a-3374c2b9aed2-i0b0</td>\n",
       "      <td>265d7fb6-c0d2-4be8-8680-6f2066ebfb8f-i0b0</td>\n",
       "    </tr>\n",
       "    <tr>\n",
       "      <th>hash_paciente</th>\n",
       "      <td>c5106f2b14b6a67309171462166c8d42b8737d45442f41...</td>\n",
       "      <td>079408d80b0aa596c1c41bdcc22cd78eb9a0e7dd380b93...</td>\n",
       "      <td>ce16533ab45e900429d29d30da63335c547b65f0ee0c58...</td>\n",
       "      <td>aa6080577d450fe7d631143550df2da1a4088285b20949...</td>\n",
       "      <td>f8baf1d1b8b6fbcdeeb9493e32fc88161af0a085a77a5a...</td>\n",
       "    </tr>\n",
       "    <tr>\n",
       "      <th>estabelecimento_id</th>\n",
       "      <td>7368895</td>\n",
       "      <td>2381524</td>\n",
       "      <td>10847</td>\n",
       "      <td>10626</td>\n",
       "      <td>9698752</td>\n",
       "    </tr>\n",
       "    <tr>\n",
       "      <th>data_aplicacao</th>\n",
       "      <td>2021-02-03 00:00:00</td>\n",
       "      <td>2021-02-19 00:00:00</td>\n",
       "      <td>2021-02-02 00:00:00</td>\n",
       "      <td>2021-02-02 00:00:00</td>\n",
       "      <td>2021-02-23 00:00:00</td>\n",
       "    </tr>\n",
       "    <tr>\n",
       "      <th>vacina_id</th>\n",
       "      <td>85</td>\n",
       "      <td>86</td>\n",
       "      <td>85</td>\n",
       "      <td>86</td>\n",
       "      <td>86</td>\n",
       "    </tr>\n",
       "    <tr>\n",
       "      <th>vacina_lote</th>\n",
       "      <td>4120Z005</td>\n",
       "      <td>200279</td>\n",
       "      <td>4120Z005</td>\n",
       "      <td>202010021</td>\n",
       "      <td>200279</td>\n",
       "    </tr>\n",
       "    <tr>\n",
       "      <th>dose_declarada</th>\n",
       "      <td>1</td>\n",
       "      <td>1</td>\n",
       "      <td>1</td>\n",
       "      <td>1</td>\n",
       "      <td>1</td>\n",
       "    </tr>\n",
       "    <tr>\n",
       "      <th>sistema_origem</th>\n",
       "      <td>Novo PNI</td>\n",
       "      <td>Novo PNI</td>\n",
       "      <td>Novo PNI</td>\n",
       "      <td>Novo PNI</td>\n",
       "      <td>Novo PNI</td>\n",
       "    </tr>\n",
       "    <tr>\n",
       "      <th>data_importacao</th>\n",
       "      <td>2021-02-09</td>\n",
       "      <td>2021-02-22</td>\n",
       "      <td>2021-02-02</td>\n",
       "      <td>2021-02-02</td>\n",
       "      <td>2021-02-23</td>\n",
       "    </tr>\n",
       "    <tr>\n",
       "      <th>id.1</th>\n",
       "      <td>8666289</td>\n",
       "      <td>333120</td>\n",
       "      <td>9062190</td>\n",
       "      <td>7493972</td>\n",
       "      <td>10939937</td>\n",
       "    </tr>\n",
       "    <tr>\n",
       "      <th>hash</th>\n",
       "      <td>c5106f2b14b6a67309171462166c8d42b8737d45442f41...</td>\n",
       "      <td>079408d80b0aa596c1c41bdcc22cd78eb9a0e7dd380b93...</td>\n",
       "      <td>ce16533ab45e900429d29d30da63335c547b65f0ee0c58...</td>\n",
       "      <td>aa6080577d450fe7d631143550df2da1a4088285b20949...</td>\n",
       "      <td>f8baf1d1b8b6fbcdeeb9493e32fc88161af0a085a77a5a...</td>\n",
       "    </tr>\n",
       "    <tr>\n",
       "      <th>nascimento</th>\n",
       "      <td>1940-01-10</td>\n",
       "      <td>1942-02-22</td>\n",
       "      <td>1937-12-06</td>\n",
       "      <td>1934-10-09</td>\n",
       "      <td>1940-12-15</td>\n",
       "    </tr>\n",
       "    <tr>\n",
       "      <th>sexo</th>\n",
       "      <td>M</td>\n",
       "      <td>F</td>\n",
       "      <td>M</td>\n",
       "      <td>M</td>\n",
       "      <td>F</td>\n",
       "    </tr>\n",
       "    <tr>\n",
       "      <th>nacionalidade</th>\n",
       "      <td>B</td>\n",
       "      <td>B</td>\n",
       "      <td>B</td>\n",
       "      <td>B</td>\n",
       "      <td>B</td>\n",
       "    </tr>\n",
       "    <tr>\n",
       "      <th>id_cidade</th>\n",
       "      <td>5300108</td>\n",
       "      <td>5300108</td>\n",
       "      <td>5300108</td>\n",
       "      <td>5300108</td>\n",
       "      <td>5300108</td>\n",
       "    </tr>\n",
       "    <tr>\n",
       "      <th>id_cep</th>\n",
       "      <td>NaN</td>\n",
       "      <td>76365.0</td>\n",
       "      <td>72450.0</td>\n",
       "      <td>NaN</td>\n",
       "      <td>72210.0</td>\n",
       "    </tr>\n",
       "    <tr>\n",
       "      <th>id_raca_cor</th>\n",
       "      <td>99</td>\n",
       "      <td>3</td>\n",
       "      <td>1</td>\n",
       "      <td>99</td>\n",
       "      <td>4</td>\n",
       "    </tr>\n",
       "    <tr>\n",
       "      <th>id_grupo</th>\n",
       "      <td>2.0</td>\n",
       "      <td>2.0</td>\n",
       "      <td>2.0</td>\n",
       "      <td>2.0</td>\n",
       "      <td>2.0</td>\n",
       "    </tr>\n",
       "    <tr>\n",
       "      <th>id_subgrupo</th>\n",
       "      <td>205</td>\n",
       "      <td>204</td>\n",
       "      <td>205</td>\n",
       "      <td>205</td>\n",
       "      <td>205</td>\n",
       "    </tr>\n",
       "    <tr>\n",
       "      <th>aplicacoes_por_data</th>\n",
       "      <td>7048</td>\n",
       "      <td>3665</td>\n",
       "      <td>14182</td>\n",
       "      <td>14182</td>\n",
       "      <td>3760</td>\n",
       "    </tr>\n",
       "    <tr>\n",
       "      <th>mes</th>\n",
       "      <td>2</td>\n",
       "      <td>2</td>\n",
       "      <td>2</td>\n",
       "      <td>2</td>\n",
       "      <td>2</td>\n",
       "    </tr>\n",
       "    <tr>\n",
       "      <th>dia</th>\n",
       "      <td>3</td>\n",
       "      <td>19</td>\n",
       "      <td>2</td>\n",
       "      <td>2</td>\n",
       "      <td>23</td>\n",
       "    </tr>\n",
       "    <tr>\n",
       "      <th>dia_semana</th>\n",
       "      <td>2</td>\n",
       "      <td>4</td>\n",
       "      <td>1</td>\n",
       "      <td>1</td>\n",
       "      <td>1</td>\n",
       "    </tr>\n",
       "  </tbody>\n",
       "</table>\n",
       "</div>"
      ],
      "text/plain": [
       "                                                                     0  \\\n",
       "id                                                              879456   \n",
       "id_documento                 64f74027-f10c-4cc0-b223-fefce4e1175a-i0b0   \n",
       "hash_paciente        c5106f2b14b6a67309171462166c8d42b8737d45442f41...   \n",
       "estabelecimento_id                                             7368895   \n",
       "data_aplicacao                                     2021-02-03 00:00:00   \n",
       "vacina_id                                                           85   \n",
       "vacina_lote                                                   4120Z005   \n",
       "dose_declarada                                                       1   \n",
       "sistema_origem                                                Novo PNI   \n",
       "data_importacao                                             2021-02-09   \n",
       "id.1                                                           8666289   \n",
       "hash                 c5106f2b14b6a67309171462166c8d42b8737d45442f41...   \n",
       "nascimento                                                  1940-01-10   \n",
       "sexo                                                                 M   \n",
       "nacionalidade                                                        B   \n",
       "id_cidade                                                      5300108   \n",
       "id_cep                                                             NaN   \n",
       "id_raca_cor                                                         99   \n",
       "id_grupo                                                           2.0   \n",
       "id_subgrupo                                                        205   \n",
       "aplicacoes_por_data                                               7048   \n",
       "mes                                                                  2   \n",
       "dia                                                                  3   \n",
       "dia_semana                                                           2   \n",
       "\n",
       "                                                                     1  \\\n",
       "id                                                              884047   \n",
       "id_documento                 baee6faa-f535-47e9-8631-66b345890e7d-i0b0   \n",
       "hash_paciente        079408d80b0aa596c1c41bdcc22cd78eb9a0e7dd380b93...   \n",
       "estabelecimento_id                                             2381524   \n",
       "data_aplicacao                                     2021-02-19 00:00:00   \n",
       "vacina_id                                                           86   \n",
       "vacina_lote                                                     200279   \n",
       "dose_declarada                                                       1   \n",
       "sistema_origem                                                Novo PNI   \n",
       "data_importacao                                             2021-02-22   \n",
       "id.1                                                            333120   \n",
       "hash                 079408d80b0aa596c1c41bdcc22cd78eb9a0e7dd380b93...   \n",
       "nascimento                                                  1942-02-22   \n",
       "sexo                                                                 F   \n",
       "nacionalidade                                                        B   \n",
       "id_cidade                                                      5300108   \n",
       "id_cep                                                         76365.0   \n",
       "id_raca_cor                                                          3   \n",
       "id_grupo                                                           2.0   \n",
       "id_subgrupo                                                        204   \n",
       "aplicacoes_por_data                                               3665   \n",
       "mes                                                                  2   \n",
       "dia                                                                 19   \n",
       "dia_semana                                                           4   \n",
       "\n",
       "                                                                     2  \\\n",
       "id                                                              888358   \n",
       "id_documento                 0c9d60cf-1471-4828-bb4e-bac8a6d7eb01-i0b0   \n",
       "hash_paciente        ce16533ab45e900429d29d30da63335c547b65f0ee0c58...   \n",
       "estabelecimento_id                                               10847   \n",
       "data_aplicacao                                     2021-02-02 00:00:00   \n",
       "vacina_id                                                           85   \n",
       "vacina_lote                                                   4120Z005   \n",
       "dose_declarada                                                       1   \n",
       "sistema_origem                                                Novo PNI   \n",
       "data_importacao                                             2021-02-02   \n",
       "id.1                                                           9062190   \n",
       "hash                 ce16533ab45e900429d29d30da63335c547b65f0ee0c58...   \n",
       "nascimento                                                  1937-12-06   \n",
       "sexo                                                                 M   \n",
       "nacionalidade                                                        B   \n",
       "id_cidade                                                      5300108   \n",
       "id_cep                                                         72450.0   \n",
       "id_raca_cor                                                          1   \n",
       "id_grupo                                                           2.0   \n",
       "id_subgrupo                                                        205   \n",
       "aplicacoes_por_data                                              14182   \n",
       "mes                                                                  2   \n",
       "dia                                                                  2   \n",
       "dia_semana                                                           1   \n",
       "\n",
       "                                                                     3  \\\n",
       "id                                                              888369   \n",
       "id_documento                 808f7504-9886-4b37-b71a-3374c2b9aed2-i0b0   \n",
       "hash_paciente        aa6080577d450fe7d631143550df2da1a4088285b20949...   \n",
       "estabelecimento_id                                               10626   \n",
       "data_aplicacao                                     2021-02-02 00:00:00   \n",
       "vacina_id                                                           86   \n",
       "vacina_lote                                                  202010021   \n",
       "dose_declarada                                                       1   \n",
       "sistema_origem                                                Novo PNI   \n",
       "data_importacao                                             2021-02-02   \n",
       "id.1                                                           7493972   \n",
       "hash                 aa6080577d450fe7d631143550df2da1a4088285b20949...   \n",
       "nascimento                                                  1934-10-09   \n",
       "sexo                                                                 M   \n",
       "nacionalidade                                                        B   \n",
       "id_cidade                                                      5300108   \n",
       "id_cep                                                             NaN   \n",
       "id_raca_cor                                                         99   \n",
       "id_grupo                                                           2.0   \n",
       "id_subgrupo                                                        205   \n",
       "aplicacoes_por_data                                              14182   \n",
       "mes                                                                  2   \n",
       "dia                                                                  2   \n",
       "dia_semana                                                           1   \n",
       "\n",
       "                                                                     4  \n",
       "id                                                              889362  \n",
       "id_documento                 265d7fb6-c0d2-4be8-8680-6f2066ebfb8f-i0b0  \n",
       "hash_paciente        f8baf1d1b8b6fbcdeeb9493e32fc88161af0a085a77a5a...  \n",
       "estabelecimento_id                                             9698752  \n",
       "data_aplicacao                                     2021-02-23 00:00:00  \n",
       "vacina_id                                                           86  \n",
       "vacina_lote                                                     200279  \n",
       "dose_declarada                                                       1  \n",
       "sistema_origem                                                Novo PNI  \n",
       "data_importacao                                             2021-02-23  \n",
       "id.1                                                          10939937  \n",
       "hash                 f8baf1d1b8b6fbcdeeb9493e32fc88161af0a085a77a5a...  \n",
       "nascimento                                                  1940-12-15  \n",
       "sexo                                                                 F  \n",
       "nacionalidade                                                        B  \n",
       "id_cidade                                                      5300108  \n",
       "id_cep                                                         72210.0  \n",
       "id_raca_cor                                                          4  \n",
       "id_grupo                                                           2.0  \n",
       "id_subgrupo                                                        205  \n",
       "aplicacoes_por_data                                               3760  \n",
       "mes                                                                  2  \n",
       "dia                                                                 23  \n",
       "dia_semana                                                           1  "
      ]
     },
     "execution_count": 26,
     "metadata": {},
     "output_type": "execute_result"
    }
   ],
   "source": [
    "vacinacao.head().T"
   ]
  },
  {
   "cell_type": "code",
   "execution_count": 27,
   "id": "thirty-sterling",
   "metadata": {
    "execution": {
     "iopub.execute_input": "2021-04-20T19:03:11.643718Z",
     "iopub.status.busy": "2021-04-20T19:03:11.643002Z",
     "iopub.status.idle": "2021-04-20T19:03:12.071206Z",
     "shell.execute_reply": "2021-04-20T19:03:12.071736Z"
    },
    "papermill": {
     "duration": 0.501717,
     "end_time": "2021-04-20T19:03:12.071941",
     "exception": false,
     "start_time": "2021-04-20T19:03:11.570224",
     "status": "completed"
    },
    "tags": []
   },
   "outputs": [],
   "source": [
    "# transformando em datetime\n",
    "vacinacao['nascimento'] = pd.to_datetime(vacinacao['nascimento'])\n",
    "\n",
    "vacinacao['idade'] = vacinacao['data_aplicacao'] - vacinacao['nascimento']\n",
    "vacinacao['idade'] = vacinacao['idade'].dt.days\n",
    "\n",
    "#transformando dias em anos\n",
    "vacinacao['idade'] = vacinacao['idade']/365.25\n",
    "\n",
    "# transformando pra int a coluna idade\n",
    "vacinacao['idade'] = vacinacao['idade'].apply(np.int64)"
   ]
  },
  {
   "cell_type": "code",
   "execution_count": 28,
   "id": "piano-correlation",
   "metadata": {
    "execution": {
     "iopub.execute_input": "2021-04-20T19:03:12.214329Z",
     "iopub.status.busy": "2021-04-20T19:03:12.213616Z",
     "iopub.status.idle": "2021-04-20T19:03:12.598731Z",
     "shell.execute_reply": "2021-04-20T19:03:12.597935Z"
    },
    "papermill": {
     "duration": 0.457113,
     "end_time": "2021-04-20T19:03:12.598901",
     "exception": false,
     "start_time": "2021-04-20T19:03:12.141788",
     "status": "completed"
    },
    "tags": []
   },
   "outputs": [
    {
     "data": {
      "image/png": "[encoded data removed]",
      "text/plain": [
       "<Figure size 432x288 with 1 Axes>"
      ]
     },
     "metadata": {
      "needs_background": "light"
     },
     "output_type": "display_data"
    },
    {
     "data": {
      "text/plain": [
       "(71.0, 63.25547730314399)"
      ]
     },
     "execution_count": 28,
     "metadata": {},
     "output_type": "execute_result"
    }
   ],
   "source": [
    "\n",
    "ax=sns.histplot(vacinacao['idade'], bins=10)\n",
    "\n",
    "sns.despine(left=True) #retirando os eixos\n",
    "ax.set(xlabel=\"\", \n",
    "       ylabel=\"\",\n",
    "       title=\"Idades de Vacinação no DF\")\n",
    "\n",
    "# linhas verticais com mediana e média\n",
    "mediana=vacinacao['idade'].median()\n",
    "media=vacinacao['idade'].mean()\n",
    "ax.axvline(x=mediana, color='#ffddbd', label='Mediana', linestyle='--', linewidth=2)\n",
    "ax.axvline(x=media, color='#ffddbd', label='Média', linestyle='-', linewidth=2)\n",
    "\n",
    "# apresenta a legenda e o gráfico\n",
    "ax.legend()\n",
    "plt.show()\n",
    "\n",
    "mediana, media"
   ]
  },
  {
   "cell_type": "code",
   "execution_count": 29,
   "id": "central-valentine",
   "metadata": {
    "execution": {
     "iopub.execute_input": "2021-04-20T19:03:12.742150Z",
     "iopub.status.busy": "2021-04-20T19:03:12.741195Z",
     "iopub.status.idle": "2021-04-20T19:03:12.747972Z",
     "shell.execute_reply": "2021-04-20T19:03:12.747299Z"
    },
    "papermill": {
     "duration": 0.080303,
     "end_time": "2021-04-20T19:03:12.748122",
     "exception": false,
     "start_time": "2021-04-20T19:03:12.667819",
     "status": "completed"
    },
    "tags": []
   },
   "outputs": [
    {
     "data": {
      "text/plain": [
       "121"
      ]
     },
     "execution_count": 29,
     "metadata": {},
     "output_type": "execute_result"
    }
   ],
   "source": [
    "vacinacao['idade'].max()"
   ]
  },
  {
   "cell_type": "code",
   "execution_count": 30,
   "id": "dynamic-triple",
   "metadata": {
    "execution": {
     "iopub.execute_input": "2021-04-20T19:03:12.890505Z",
     "iopub.status.busy": "2021-04-20T19:03:12.889804Z",
     "iopub.status.idle": "2021-04-20T19:03:12.895244Z",
     "shell.execute_reply": "2021-04-20T19:03:12.895726Z"
    },
    "papermill": {
     "duration": 0.078166,
     "end_time": "2021-04-20T19:03:12.895929",
     "exception": false,
     "start_time": "2021-04-20T19:03:12.817763",
     "status": "completed"
    },
    "tags": []
   },
   "outputs": [
    {
     "data": {
      "text/plain": [
       "10"
      ]
     },
     "execution_count": 30,
     "metadata": {},
     "output_type": "execute_result"
    }
   ],
   "source": [
    "vacinacao['idade'].min()"
   ]
  },
  {
   "cell_type": "markdown",
   "id": "supreme-productivity",
   "metadata": {
    "papermill": {
     "duration": 0.070356,
     "end_time": "2021-04-20T19:03:13.037758",
     "exception": false,
     "start_time": "2021-04-20T19:03:12.967402",
     "status": "completed"
    },
    "tags": []
   },
   "source": [
    "## as pessoas que estão com 121 anos são profissionais da saúde, entre eles médicos, enfermeiros e auxiliares de enfermagem... a pessoa mais velha identificada no Brasil tem 116 anos! "
   ]
  },
  {
   "cell_type": "code",
   "execution_count": 31,
   "id": "sound-negotiation",
   "metadata": {
    "execution": {
     "iopub.execute_input": "2021-04-20T19:03:13.183138Z",
     "iopub.status.busy": "2021-04-20T19:03:13.182452Z",
     "iopub.status.idle": "2021-04-20T19:03:13.250207Z",
     "shell.execute_reply": "2021-04-20T19:03:13.250708Z"
    },
    "papermill": {
     "duration": 0.140941,
     "end_time": "2021-04-20T19:03:13.250931",
     "exception": false,
     "start_time": "2021-04-20T19:03:13.109990",
     "status": "completed"
    },
    "tags": []
   },
   "outputs": [],
   "source": [
    "vacinacao=vacinacao[vacinacao['idade'] <= 115]"
   ]
  },
  {
   "cell_type": "markdown",
   "id": "trained-robin",
   "metadata": {
    "papermill": {
     "duration": 0.069744,
     "end_time": "2021-04-20T19:03:13.392707",
     "exception": false,
     "start_time": "2021-04-20T19:03:13.322963",
     "status": "completed"
    },
    "tags": []
   },
   "source": [
    "## ainda não foi vacinado nenhum menor de idade, porém os dados me retornaram 36 casos"
   ]
  },
  {
   "cell_type": "code",
   "execution_count": 32,
   "id": "pursuant-significance",
   "metadata": {
    "execution": {
     "iopub.execute_input": "2021-04-20T19:03:13.537211Z",
     "iopub.status.busy": "2021-04-20T19:03:13.536501Z",
     "iopub.status.idle": "2021-04-20T19:03:13.591767Z",
     "shell.execute_reply": "2021-04-20T19:03:13.592275Z"
    },
    "papermill": {
     "duration": 0.129763,
     "end_time": "2021-04-20T19:03:13.592443",
     "exception": false,
     "start_time": "2021-04-20T19:03:13.462680",
     "status": "completed"
    },
    "tags": []
   },
   "outputs": [
    {
     "data": {
      "text/html": [
       "<div>\n",
       "<style scoped>\n",
       "    .dataframe tbody tr th:only-of-type {\n",
       "        vertical-align: middle;\n",
       "    }\n",
       "\n",
       "    .dataframe tbody tr th {\n",
       "        vertical-align: top;\n",
       "    }\n",
       "\n",
       "    .dataframe thead th {\n",
       "        text-align: right;\n",
       "    }\n",
       "</style>\n",
       "<table border=\"1\" class=\"dataframe\">\n",
       "  <thead>\n",
       "    <tr style=\"text-align: right;\">\n",
       "      <th></th>\n",
       "      <th>id</th>\n",
       "      <th>id_documento</th>\n",
       "      <th>hash_paciente</th>\n",
       "      <th>estabelecimento_id</th>\n",
       "      <th>data_aplicacao</th>\n",
       "      <th>vacina_id</th>\n",
       "      <th>vacina_lote</th>\n",
       "      <th>dose_declarada</th>\n",
       "      <th>sistema_origem</th>\n",
       "      <th>data_importacao</th>\n",
       "      <th>...</th>\n",
       "      <th>id_cidade</th>\n",
       "      <th>id_cep</th>\n",
       "      <th>id_raca_cor</th>\n",
       "      <th>id_grupo</th>\n",
       "      <th>id_subgrupo</th>\n",
       "      <th>aplicacoes_por_data</th>\n",
       "      <th>mes</th>\n",
       "      <th>dia</th>\n",
       "      <th>dia_semana</th>\n",
       "      <th>idade</th>\n",
       "    </tr>\n",
       "  </thead>\n",
       "  <tbody>\n",
       "    <tr>\n",
       "      <th>3466</th>\n",
       "      <td>3482064</td>\n",
       "      <td>0b4f3d4d-5e7d-4950-9f0f-64a99649184e-i0b0</td>\n",
       "      <td>d700526f593e36224b87a67a892aa7cedae4e4cf4aedbf...</td>\n",
       "      <td>11010</td>\n",
       "      <td>2021-02-24</td>\n",
       "      <td>86</td>\n",
       "      <td>210013</td>\n",
       "      <td>2</td>\n",
       "      <td>Novo PNI</td>\n",
       "      <td>2021-02-24</td>\n",
       "      <td>...</td>\n",
       "      <td>5300108</td>\n",
       "      <td>NaN</td>\n",
       "      <td>99</td>\n",
       "      <td>9.0</td>\n",
       "      <td>926</td>\n",
       "      <td>3813</td>\n",
       "      <td>2</td>\n",
       "      <td>24</td>\n",
       "      <td>2</td>\n",
       "      <td>16</td>\n",
       "    </tr>\n",
       "    <tr>\n",
       "      <th>9214</th>\n",
       "      <td>7014618</td>\n",
       "      <td>480e9bb1-182d-4a47-8342-21cc1fcec9ee-i0b0</td>\n",
       "      <td>d700526f593e36224b87a67a892aa7cedae4e4cf4aedbf...</td>\n",
       "      <td>10995</td>\n",
       "      <td>2021-01-27</td>\n",
       "      <td>86</td>\n",
       "      <td>202010021</td>\n",
       "      <td>1</td>\n",
       "      <td>Novo PNI</td>\n",
       "      <td>2021-02-03</td>\n",
       "      <td>...</td>\n",
       "      <td>5300108</td>\n",
       "      <td>NaN</td>\n",
       "      <td>99</td>\n",
       "      <td>9.0</td>\n",
       "      <td>926</td>\n",
       "      <td>6379</td>\n",
       "      <td>1</td>\n",
       "      <td>27</td>\n",
       "      <td>2</td>\n",
       "      <td>16</td>\n",
       "    </tr>\n",
       "    <tr>\n",
       "      <th>9299</th>\n",
       "      <td>3766045</td>\n",
       "      <td>c4f71a4d-6a7b-40a0-8987-4776ef3297e2-i0b0</td>\n",
       "      <td>0fdf239467e44469ecba246513d3cea7891b4bffa63a06...</td>\n",
       "      <td>11150</td>\n",
       "      <td>2021-02-01</td>\n",
       "      <td>85</td>\n",
       "      <td>4120Z005</td>\n",
       "      <td>1</td>\n",
       "      <td>Novo PNI</td>\n",
       "      <td>2021-02-22</td>\n",
       "      <td>...</td>\n",
       "      <td>5300108</td>\n",
       "      <td>71571.0</td>\n",
       "      <td>99</td>\n",
       "      <td>9.0</td>\n",
       "      <td>926</td>\n",
       "      <td>11277</td>\n",
       "      <td>2</td>\n",
       "      <td>1</td>\n",
       "      <td>0</td>\n",
       "      <td>17</td>\n",
       "    </tr>\n",
       "    <tr>\n",
       "      <th>9939</th>\n",
       "      <td>7403889</td>\n",
       "      <td>7e442668-e761-4686-b41c-e3be530fccb5-i0b0</td>\n",
       "      <td>9cda726ba5b6da4ad6c674fcf5fa7a088b9c223b9695c2...</td>\n",
       "      <td>10723</td>\n",
       "      <td>2021-02-02</td>\n",
       "      <td>85</td>\n",
       "      <td>4120Z005</td>\n",
       "      <td>1</td>\n",
       "      <td>Novo PNI</td>\n",
       "      <td>2021-03-03</td>\n",
       "      <td>...</td>\n",
       "      <td>5300108</td>\n",
       "      <td>71050.0</td>\n",
       "      <td>1</td>\n",
       "      <td>9.0</td>\n",
       "      <td>926</td>\n",
       "      <td>14182</td>\n",
       "      <td>2</td>\n",
       "      <td>2</td>\n",
       "      <td>1</td>\n",
       "      <td>17</td>\n",
       "    </tr>\n",
       "    <tr>\n",
       "      <th>14419</th>\n",
       "      <td>6685473</td>\n",
       "      <td>ca83df44-fdac-44c4-9ee4-df55d6fe3396-i0b0</td>\n",
       "      <td>1ddcaaa25b5a44d42f2bece590681bd6dfa5cc9a529e04...</td>\n",
       "      <td>2437686</td>\n",
       "      <td>2021-02-04</td>\n",
       "      <td>85</td>\n",
       "      <td>4120Z005</td>\n",
       "      <td>1</td>\n",
       "      <td>Novo PNI</td>\n",
       "      <td>2021-02-18</td>\n",
       "      <td>...</td>\n",
       "      <td>5300108</td>\n",
       "      <td>NaN</td>\n",
       "      <td>99</td>\n",
       "      <td>9.0</td>\n",
       "      <td>920</td>\n",
       "      <td>4787</td>\n",
       "      <td>2</td>\n",
       "      <td>4</td>\n",
       "      <td>3</td>\n",
       "      <td>14</td>\n",
       "    </tr>\n",
       "    <tr>\n",
       "      <th>16209</th>\n",
       "      <td>11179635</td>\n",
       "      <td>80673cf3-5e7d-4151-816d-82212a657ba5-i0b0</td>\n",
       "      <td>1f27966172dd0c86b731db120c67346816bf23328c91a5...</td>\n",
       "      <td>9056963</td>\n",
       "      <td>2021-02-05</td>\n",
       "      <td>85</td>\n",
       "      <td>4120Z005</td>\n",
       "      <td>1</td>\n",
       "      <td>Novo PNI</td>\n",
       "      <td>2021-03-12</td>\n",
       "      <td>...</td>\n",
       "      <td>5300108</td>\n",
       "      <td>72308.0</td>\n",
       "      <td>3</td>\n",
       "      <td>9.0</td>\n",
       "      <td>926</td>\n",
       "      <td>3359</td>\n",
       "      <td>2</td>\n",
       "      <td>5</td>\n",
       "      <td>4</td>\n",
       "      <td>17</td>\n",
       "    </tr>\n",
       "    <tr>\n",
       "      <th>23941</th>\n",
       "      <td>16221854</td>\n",
       "      <td>5175d1d0-eb92-4858-bc10-343254264f32-i0b0</td>\n",
       "      <td>3248f247ab3b8913e410054c4f4f3138a22edfe8f24d66...</td>\n",
       "      <td>10723</td>\n",
       "      <td>2021-03-18</td>\n",
       "      <td>86</td>\n",
       "      <td>210049</td>\n",
       "      <td>1</td>\n",
       "      <td>Novo PNI</td>\n",
       "      <td>2021-03-31</td>\n",
       "      <td>...</td>\n",
       "      <td>5300108</td>\n",
       "      <td>71725.0</td>\n",
       "      <td>99</td>\n",
       "      <td>9.0</td>\n",
       "      <td>929</td>\n",
       "      <td>10131</td>\n",
       "      <td>3</td>\n",
       "      <td>18</td>\n",
       "      <td>3</td>\n",
       "      <td>16</td>\n",
       "    </tr>\n",
       "    <tr>\n",
       "      <th>29198</th>\n",
       "      <td>2176467</td>\n",
       "      <td>11de58c5-cbc4-4f8a-a5ce-6a20271799c4-i0b0</td>\n",
       "      <td>9278f957e781eef6bd9831807aacd9012eceae5dfa61d4...</td>\n",
       "      <td>10758</td>\n",
       "      <td>2021-02-10</td>\n",
       "      <td>86</td>\n",
       "      <td>202010036</td>\n",
       "      <td>2</td>\n",
       "      <td>Novo PNI</td>\n",
       "      <td>2021-02-22</td>\n",
       "      <td>...</td>\n",
       "      <td>5300108</td>\n",
       "      <td>72669.0</td>\n",
       "      <td>99</td>\n",
       "      <td>9.0</td>\n",
       "      <td>905</td>\n",
       "      <td>4379</td>\n",
       "      <td>2</td>\n",
       "      <td>10</td>\n",
       "      <td>2</td>\n",
       "      <td>17</td>\n",
       "    </tr>\n",
       "    <tr>\n",
       "      <th>35052</th>\n",
       "      <td>5556235</td>\n",
       "      <td>6a880125-90f8-46ff-a8cf-ddb8460d4f2e-i0b0</td>\n",
       "      <td>00dcabfd0689fc60fd128fc870cbd5f0cbfcf8d646801a...</td>\n",
       "      <td>2022699</td>\n",
       "      <td>2021-03-05</td>\n",
       "      <td>86</td>\n",
       "      <td>210041</td>\n",
       "      <td>2</td>\n",
       "      <td>VACIVIDA</td>\n",
       "      <td>2021-03-05</td>\n",
       "      <td>...</td>\n",
       "      <td>5300108</td>\n",
       "      <td>72620.0</td>\n",
       "      <td>3</td>\n",
       "      <td>9.0</td>\n",
       "      <td>926</td>\n",
       "      <td>5077</td>\n",
       "      <td>3</td>\n",
       "      <td>5</td>\n",
       "      <td>4</td>\n",
       "      <td>10</td>\n",
       "    </tr>\n",
       "    <tr>\n",
       "      <th>36167</th>\n",
       "      <td>6487800</td>\n",
       "      <td>4f0ae31d-551d-41e5-a00c-f169a6426898-i0b0</td>\n",
       "      <td>e4bd7406b3a3331720b3cac9d267ace1200cf9ae1b3df0...</td>\n",
       "      <td>11126</td>\n",
       "      <td>2021-02-10</td>\n",
       "      <td>86</td>\n",
       "      <td>202010036</td>\n",
       "      <td>2</td>\n",
       "      <td>Novo PNI</td>\n",
       "      <td>2021-02-13</td>\n",
       "      <td>...</td>\n",
       "      <td>5300108</td>\n",
       "      <td>NaN</td>\n",
       "      <td>3</td>\n",
       "      <td>3.0</td>\n",
       "      <td>301</td>\n",
       "      <td>4379</td>\n",
       "      <td>2</td>\n",
       "      <td>10</td>\n",
       "      <td>2</td>\n",
       "      <td>15</td>\n",
       "    </tr>\n",
       "    <tr>\n",
       "      <th>37280</th>\n",
       "      <td>7093233</td>\n",
       "      <td>c850705d-a354-48d1-ba41-3d80423fe451-i0b0</td>\n",
       "      <td>3efc02cafb3ac971339a8bec28581b7b20f546c7eaf17a...</td>\n",
       "      <td>9056963</td>\n",
       "      <td>2021-02-10</td>\n",
       "      <td>86</td>\n",
       "      <td>202010021</td>\n",
       "      <td>1</td>\n",
       "      <td>Novo PNI</td>\n",
       "      <td>2021-02-27</td>\n",
       "      <td>...</td>\n",
       "      <td>5300108</td>\n",
       "      <td>70655.0</td>\n",
       "      <td>1</td>\n",
       "      <td>9.0</td>\n",
       "      <td>926</td>\n",
       "      <td>4379</td>\n",
       "      <td>2</td>\n",
       "      <td>10</td>\n",
       "      <td>2</td>\n",
       "      <td>17</td>\n",
       "    </tr>\n",
       "    <tr>\n",
       "      <th>45308</th>\n",
       "      <td>11703932</td>\n",
       "      <td>eae963ea-ce1b-4f20-81a2-2748f1cbe50e-i0b0</td>\n",
       "      <td>86f9c4753fae75c84177d238b6bf6b3bb5facd439678d8...</td>\n",
       "      <td>11355</td>\n",
       "      <td>2021-02-12</td>\n",
       "      <td>86</td>\n",
       "      <td>202010021</td>\n",
       "      <td>2</td>\n",
       "      <td>Novo PNI</td>\n",
       "      <td>2021-03-22</td>\n",
       "      <td>...</td>\n",
       "      <td>5300108</td>\n",
       "      <td>NaN</td>\n",
       "      <td>99</td>\n",
       "      <td>9.0</td>\n",
       "      <td>905</td>\n",
       "      <td>2817</td>\n",
       "      <td>2</td>\n",
       "      <td>12</td>\n",
       "      <td>4</td>\n",
       "      <td>17</td>\n",
       "    </tr>\n",
       "    <tr>\n",
       "      <th>45381</th>\n",
       "      <td>11752919</td>\n",
       "      <td>c84101ef-c114-420a-98e1-97c60009b015-i0b0</td>\n",
       "      <td>86f9c4753fae75c84177d238b6bf6b3bb5facd439678d8...</td>\n",
       "      <td>11355</td>\n",
       "      <td>2021-01-21</td>\n",
       "      <td>86</td>\n",
       "      <td>202010021</td>\n",
       "      <td>1</td>\n",
       "      <td>Novo PNI</td>\n",
       "      <td>2021-03-22</td>\n",
       "      <td>...</td>\n",
       "      <td>5300108</td>\n",
       "      <td>NaN</td>\n",
       "      <td>99</td>\n",
       "      <td>9.0</td>\n",
       "      <td>905</td>\n",
       "      <td>3650</td>\n",
       "      <td>1</td>\n",
       "      <td>21</td>\n",
       "      <td>3</td>\n",
       "      <td>17</td>\n",
       "    </tr>\n",
       "    <tr>\n",
       "      <th>49552</th>\n",
       "      <td>14697422</td>\n",
       "      <td>a653096e-02d7-4e49-b064-ab6885a39d31-i0b0</td>\n",
       "      <td>3efc02cafb3ac971339a8bec28581b7b20f546c7eaf17a...</td>\n",
       "      <td>11150</td>\n",
       "      <td>2021-03-11</td>\n",
       "      <td>86</td>\n",
       "      <td>200278</td>\n",
       "      <td>2</td>\n",
       "      <td>Novo PNI</td>\n",
       "      <td>2021-03-17</td>\n",
       "      <td>...</td>\n",
       "      <td>5300108</td>\n",
       "      <td>70655.0</td>\n",
       "      <td>1</td>\n",
       "      <td>9.0</td>\n",
       "      <td>926</td>\n",
       "      <td>6233</td>\n",
       "      <td>3</td>\n",
       "      <td>11</td>\n",
       "      <td>3</td>\n",
       "      <td>17</td>\n",
       "    </tr>\n",
       "    <tr>\n",
       "      <th>54869</th>\n",
       "      <td>689110</td>\n",
       "      <td>e5419669-61ad-409a-9cc6-2c1939599e03-i0b0</td>\n",
       "      <td>605b214cd34059643114aadac15caa49244e5db18fa8ee...</td>\n",
       "      <td>2361493</td>\n",
       "      <td>2021-02-10</td>\n",
       "      <td>85</td>\n",
       "      <td>4120Z005</td>\n",
       "      <td>1</td>\n",
       "      <td>Novo PNI</td>\n",
       "      <td>2021-02-10</td>\n",
       "      <td>...</td>\n",
       "      <td>5300108</td>\n",
       "      <td>72210.0</td>\n",
       "      <td>3</td>\n",
       "      <td>9.0</td>\n",
       "      <td>917</td>\n",
       "      <td>4379</td>\n",
       "      <td>2</td>\n",
       "      <td>10</td>\n",
       "      <td>2</td>\n",
       "      <td>16</td>\n",
       "    </tr>\n",
       "    <tr>\n",
       "      <th>57384</th>\n",
       "      <td>2377416</td>\n",
       "      <td>100a68e1-798f-4381-a872-5aea65e711d1-i0b0</td>\n",
       "      <td>e4bd7406b3a3331720b3cac9d267ace1200cf9ae1b3df0...</td>\n",
       "      <td>11126</td>\n",
       "      <td>2021-01-19</td>\n",
       "      <td>86</td>\n",
       "      <td>202010021</td>\n",
       "      <td>1</td>\n",
       "      <td>Novo PNI</td>\n",
       "      <td>2021-01-29</td>\n",
       "      <td>...</td>\n",
       "      <td>5300108</td>\n",
       "      <td>NaN</td>\n",
       "      <td>3</td>\n",
       "      <td>3.0</td>\n",
       "      <td>301</td>\n",
       "      <td>2136</td>\n",
       "      <td>1</td>\n",
       "      <td>19</td>\n",
       "      <td>1</td>\n",
       "      <td>15</td>\n",
       "    </tr>\n",
       "    <tr>\n",
       "      <th>67075</th>\n",
       "      <td>7552112</td>\n",
       "      <td>1eb5656a-fbe1-4682-9b7b-90694697350c-i0b0</td>\n",
       "      <td>9278f957e781eef6bd9831807aacd9012eceae5dfa61d4...</td>\n",
       "      <td>10758</td>\n",
       "      <td>2021-01-27</td>\n",
       "      <td>86</td>\n",
       "      <td>202010021</td>\n",
       "      <td>1</td>\n",
       "      <td>Novo PNI</td>\n",
       "      <td>2021-02-22</td>\n",
       "      <td>...</td>\n",
       "      <td>5300108</td>\n",
       "      <td>72669.0</td>\n",
       "      <td>99</td>\n",
       "      <td>9.0</td>\n",
       "      <td>905</td>\n",
       "      <td>6379</td>\n",
       "      <td>1</td>\n",
       "      <td>27</td>\n",
       "      <td>2</td>\n",
       "      <td>17</td>\n",
       "    </tr>\n",
       "    <tr>\n",
       "      <th>73876</th>\n",
       "      <td>12049871</td>\n",
       "      <td>e259cf52-3ba6-46ff-9b66-3555964994da-i0b0</td>\n",
       "      <td>acbb17b871c928db159911aa32fa7098ba09667b754ab6...</td>\n",
       "      <td>2023040</td>\n",
       "      <td>2021-03-16</td>\n",
       "      <td>86</td>\n",
       "      <td>210052A</td>\n",
       "      <td>1</td>\n",
       "      <td>VACIVIDA</td>\n",
       "      <td>2021-03-16</td>\n",
       "      <td>...</td>\n",
       "      <td>5300108</td>\n",
       "      <td>73930.0</td>\n",
       "      <td>3</td>\n",
       "      <td>2.0</td>\n",
       "      <td>203</td>\n",
       "      <td>1590</td>\n",
       "      <td>3</td>\n",
       "      <td>16</td>\n",
       "      <td>1</td>\n",
       "      <td>16</td>\n",
       "    </tr>\n",
       "    <tr>\n",
       "      <th>87757</th>\n",
       "      <td>67930</td>\n",
       "      <td>8c34b029-28cf-4c31-acc8-f5c73c87844a-i0b0</td>\n",
       "      <td>2c0f496c68820403801af4404f6b15fb34682364361923...</td>\n",
       "      <td>10626</td>\n",
       "      <td>2021-01-20</td>\n",
       "      <td>86</td>\n",
       "      <td>202010021</td>\n",
       "      <td>1</td>\n",
       "      <td>Novo PNI</td>\n",
       "      <td>2021-02-02</td>\n",
       "      <td>...</td>\n",
       "      <td>5300108</td>\n",
       "      <td>72215.0</td>\n",
       "      <td>99</td>\n",
       "      <td>9.0</td>\n",
       "      <td>926</td>\n",
       "      <td>5197</td>\n",
       "      <td>1</td>\n",
       "      <td>20</td>\n",
       "      <td>2</td>\n",
       "      <td>17</td>\n",
       "    </tr>\n",
       "    <tr>\n",
       "      <th>94294</th>\n",
       "      <td>3449428</td>\n",
       "      <td>b047cf97-e14b-40bf-99e3-72c634e49192-i0b0</td>\n",
       "      <td>5a75d5e7ae7de27e34ade792d29b3b5f74814569275898...</td>\n",
       "      <td>11010</td>\n",
       "      <td>2021-02-24</td>\n",
       "      <td>86</td>\n",
       "      <td>210013</td>\n",
       "      <td>2</td>\n",
       "      <td>Novo PNI</td>\n",
       "      <td>2021-02-24</td>\n",
       "      <td>...</td>\n",
       "      <td>5300108</td>\n",
       "      <td>72236.0</td>\n",
       "      <td>3</td>\n",
       "      <td>9.0</td>\n",
       "      <td>926</td>\n",
       "      <td>3813</td>\n",
       "      <td>2</td>\n",
       "      <td>24</td>\n",
       "      <td>2</td>\n",
       "      <td>17</td>\n",
       "    </tr>\n",
       "    <tr>\n",
       "      <th>105359</th>\n",
       "      <td>10142127</td>\n",
       "      <td>72972da7-ffb4-4630-a12f-0e7ee93d7691-i0b0</td>\n",
       "      <td>9664e2b0954c7f5f3f2d902602cc8be7647070e92221d4...</td>\n",
       "      <td>9056963</td>\n",
       "      <td>2021-02-03</td>\n",
       "      <td>85</td>\n",
       "      <td>4120Z005</td>\n",
       "      <td>1</td>\n",
       "      <td>Novo PNI</td>\n",
       "      <td>2021-02-28</td>\n",
       "      <td>...</td>\n",
       "      <td>5300108</td>\n",
       "      <td>72316.0</td>\n",
       "      <td>1</td>\n",
       "      <td>9.0</td>\n",
       "      <td>926</td>\n",
       "      <td>7048</td>\n",
       "      <td>2</td>\n",
       "      <td>3</td>\n",
       "      <td>2</td>\n",
       "      <td>16</td>\n",
       "    </tr>\n",
       "    <tr>\n",
       "      <th>114387</th>\n",
       "      <td>2157965</td>\n",
       "      <td>eba409a6-10c8-42b4-a03e-64773f3d4aa3-i0b0</td>\n",
       "      <td>5557ec86c23bf04a12392968462c10e9b5aed0699f3e6e...</td>\n",
       "      <td>2437686</td>\n",
       "      <td>2021-02-02</td>\n",
       "      <td>85</td>\n",
       "      <td>4120Z005</td>\n",
       "      <td>1</td>\n",
       "      <td>Novo PNI</td>\n",
       "      <td>2021-02-18</td>\n",
       "      <td>...</td>\n",
       "      <td>5300108</td>\n",
       "      <td>72715.0</td>\n",
       "      <td>3</td>\n",
       "      <td>9.0</td>\n",
       "      <td>928</td>\n",
       "      <td>14182</td>\n",
       "      <td>2</td>\n",
       "      <td>2</td>\n",
       "      <td>1</td>\n",
       "      <td>17</td>\n",
       "    </tr>\n",
       "    <tr>\n",
       "      <th>127066</th>\n",
       "      <td>6038346</td>\n",
       "      <td>6b7d7279-cf7a-4547-b2cd-9892acddb335-i0b0</td>\n",
       "      <td>ddfbe5970add790f12ceb4236b5644007bc62a151ba1bd...</td>\n",
       "      <td>11037</td>\n",
       "      <td>2021-02-09</td>\n",
       "      <td>86</td>\n",
       "      <td>202010021</td>\n",
       "      <td>1</td>\n",
       "      <td>Novo PNI</td>\n",
       "      <td>2021-02-09</td>\n",
       "      <td>...</td>\n",
       "      <td>5300108</td>\n",
       "      <td>71805.0</td>\n",
       "      <td>3</td>\n",
       "      <td>2.0</td>\n",
       "      <td>205</td>\n",
       "      <td>4293</td>\n",
       "      <td>2</td>\n",
       "      <td>9</td>\n",
       "      <td>1</td>\n",
       "      <td>15</td>\n",
       "    </tr>\n",
       "    <tr>\n",
       "      <th>128604</th>\n",
       "      <td>6869973</td>\n",
       "      <td>702f9079-ee98-404c-acb8-c4346709ac80-i0b0</td>\n",
       "      <td>5a75d5e7ae7de27e34ade792d29b3b5f74814569275898...</td>\n",
       "      <td>10995</td>\n",
       "      <td>2021-01-27</td>\n",
       "      <td>86</td>\n",
       "      <td>202010021</td>\n",
       "      <td>1</td>\n",
       "      <td>Novo PNI</td>\n",
       "      <td>2021-02-06</td>\n",
       "      <td>...</td>\n",
       "      <td>5300108</td>\n",
       "      <td>72236.0</td>\n",
       "      <td>3</td>\n",
       "      <td>9.0</td>\n",
       "      <td>926</td>\n",
       "      <td>6379</td>\n",
       "      <td>1</td>\n",
       "      <td>27</td>\n",
       "      <td>2</td>\n",
       "      <td>17</td>\n",
       "    </tr>\n",
       "    <tr>\n",
       "      <th>139658</th>\n",
       "      <td>13979932</td>\n",
       "      <td>b7761d97-45a2-4814-8978-8bbf5eff35d9-i0b0</td>\n",
       "      <td>ddfbe5970add790f12ceb4236b5644007bc62a151ba1bd...</td>\n",
       "      <td>11037</td>\n",
       "      <td>2021-03-08</td>\n",
       "      <td>86</td>\n",
       "      <td>210038</td>\n",
       "      <td>2</td>\n",
       "      <td>Novo PNI</td>\n",
       "      <td>2021-03-11</td>\n",
       "      <td>...</td>\n",
       "      <td>5300108</td>\n",
       "      <td>71805.0</td>\n",
       "      <td>3</td>\n",
       "      <td>2.0</td>\n",
       "      <td>205</td>\n",
       "      <td>2318</td>\n",
       "      <td>3</td>\n",
       "      <td>8</td>\n",
       "      <td>0</td>\n",
       "      <td>15</td>\n",
       "    </tr>\n",
       "    <tr>\n",
       "      <th>140839</th>\n",
       "      <td>1027888</td>\n",
       "      <td>7845c0e3-db70-49b1-a192-4e89968f5dc7-i0b0</td>\n",
       "      <td>9e0b4262a91824e5a7cddf31a050707d62cba56daaaa7d...</td>\n",
       "      <td>3385116</td>\n",
       "      <td>2021-03-03</td>\n",
       "      <td>86</td>\n",
       "      <td>210041</td>\n",
       "      <td>2</td>\n",
       "      <td>VACIVIDA</td>\n",
       "      <td>2021-03-03</td>\n",
       "      <td>...</td>\n",
       "      <td>5300108</td>\n",
       "      <td>72405.0</td>\n",
       "      <td>3</td>\n",
       "      <td>9.0</td>\n",
       "      <td>926</td>\n",
       "      <td>3007</td>\n",
       "      <td>3</td>\n",
       "      <td>3</td>\n",
       "      <td>2</td>\n",
       "      <td>15</td>\n",
       "    </tr>\n",
       "    <tr>\n",
       "      <th>152579</th>\n",
       "      <td>7679931</td>\n",
       "      <td>6e8dbf4f-7fe1-47e9-8a38-361ddf5f68cc-i0b0</td>\n",
       "      <td>23eb7c7f853452b1aabd06b30a651e4601d4c0fa202a12...</td>\n",
       "      <td>3297284</td>\n",
       "      <td>2021-02-03</td>\n",
       "      <td>86</td>\n",
       "      <td>202010028</td>\n",
       "      <td>1</td>\n",
       "      <td>Novo PNI</td>\n",
       "      <td>2021-02-26</td>\n",
       "      <td>...</td>\n",
       "      <td>5300108</td>\n",
       "      <td>71693.0</td>\n",
       "      <td>3</td>\n",
       "      <td>9.0</td>\n",
       "      <td>923</td>\n",
       "      <td>7048</td>\n",
       "      <td>2</td>\n",
       "      <td>3</td>\n",
       "      <td>2</td>\n",
       "      <td>13</td>\n",
       "    </tr>\n",
       "    <tr>\n",
       "      <th>167030</th>\n",
       "      <td>16650409</td>\n",
       "      <td>686af56c-c2c6-4742-8953-a8e55fcb15b0-i0b0</td>\n",
       "      <td>16190faa72ae6f8a506e345b28491bca7f448b54989a6a...</td>\n",
       "      <td>11150</td>\n",
       "      <td>2021-03-26</td>\n",
       "      <td>86</td>\n",
       "      <td>210049</td>\n",
       "      <td>1</td>\n",
       "      <td>Novo PNI</td>\n",
       "      <td>2021-03-30</td>\n",
       "      <td>...</td>\n",
       "      <td>5300108</td>\n",
       "      <td>72310.0</td>\n",
       "      <td>1</td>\n",
       "      <td>9.0</td>\n",
       "      <td>926</td>\n",
       "      <td>5910</td>\n",
       "      <td>3</td>\n",
       "      <td>26</td>\n",
       "      <td>4</td>\n",
       "      <td>17</td>\n",
       "    </tr>\n",
       "    <tr>\n",
       "      <th>169878</th>\n",
       "      <td>1082852</td>\n",
       "      <td>82ae7cd3-dfbc-4151-99a5-1b37e75c9202-i0b0</td>\n",
       "      <td>a72efb3332a75d49ec3d3a9b755b94e9ca6eb2958f443a...</td>\n",
       "      <td>10995</td>\n",
       "      <td>2021-01-27</td>\n",
       "      <td>86</td>\n",
       "      <td>202010021</td>\n",
       "      <td>1</td>\n",
       "      <td>Novo PNI</td>\n",
       "      <td>2021-02-05</td>\n",
       "      <td>...</td>\n",
       "      <td>5300108</td>\n",
       "      <td>72600.0</td>\n",
       "      <td>3</td>\n",
       "      <td>9.0</td>\n",
       "      <td>926</td>\n",
       "      <td>6379</td>\n",
       "      <td>1</td>\n",
       "      <td>27</td>\n",
       "      <td>2</td>\n",
       "      <td>17</td>\n",
       "    </tr>\n",
       "    <tr>\n",
       "      <th>173423</th>\n",
       "      <td>215054</td>\n",
       "      <td>8b575efc-2fe6-4387-909d-06b4e8b5471b-i0b0</td>\n",
       "      <td>926b85f701eb879256a00d9746134a09e2a601524db5cb...</td>\n",
       "      <td>6869009</td>\n",
       "      <td>2021-01-30</td>\n",
       "      <td>85</td>\n",
       "      <td>4120Z005</td>\n",
       "      <td>1</td>\n",
       "      <td>Novo PNI</td>\n",
       "      <td>2021-02-01</td>\n",
       "      <td>...</td>\n",
       "      <td>5300108</td>\n",
       "      <td>NaN</td>\n",
       "      <td>99</td>\n",
       "      <td>9.0</td>\n",
       "      <td>926</td>\n",
       "      <td>125</td>\n",
       "      <td>1</td>\n",
       "      <td>30</td>\n",
       "      <td>5</td>\n",
       "      <td>10</td>\n",
       "    </tr>\n",
       "    <tr>\n",
       "      <th>179728</th>\n",
       "      <td>6541541</td>\n",
       "      <td>ce0d410c-1f44-4e83-ac34-549ddbd1b780-i0b0</td>\n",
       "      <td>0e5ea789e358002692f3059e87d0ea84f75e673d16cbbb...</td>\n",
       "      <td>11010</td>\n",
       "      <td>2021-02-24</td>\n",
       "      <td>86</td>\n",
       "      <td>210013</td>\n",
       "      <td>2</td>\n",
       "      <td>Novo PNI</td>\n",
       "      <td>2021-02-24</td>\n",
       "      <td>...</td>\n",
       "      <td>5300108</td>\n",
       "      <td>71805.0</td>\n",
       "      <td>3</td>\n",
       "      <td>9.0</td>\n",
       "      <td>926</td>\n",
       "      <td>3813</td>\n",
       "      <td>2</td>\n",
       "      <td>24</td>\n",
       "      <td>2</td>\n",
       "      <td>17</td>\n",
       "    </tr>\n",
       "    <tr>\n",
       "      <th>182841</th>\n",
       "      <td>8366830</td>\n",
       "      <td>6673f345-cc97-49e3-a3d2-2201f0e0655e-i0b0</td>\n",
       "      <td>0e5ea789e358002692f3059e87d0ea84f75e673d16cbbb...</td>\n",
       "      <td>10995</td>\n",
       "      <td>2021-01-27</td>\n",
       "      <td>86</td>\n",
       "      <td>202010021</td>\n",
       "      <td>1</td>\n",
       "      <td>Novo PNI</td>\n",
       "      <td>2021-02-05</td>\n",
       "      <td>...</td>\n",
       "      <td>5300108</td>\n",
       "      <td>71805.0</td>\n",
       "      <td>3</td>\n",
       "      <td>9.0</td>\n",
       "      <td>926</td>\n",
       "      <td>6379</td>\n",
       "      <td>1</td>\n",
       "      <td>27</td>\n",
       "      <td>2</td>\n",
       "      <td>17</td>\n",
       "    </tr>\n",
       "    <tr>\n",
       "      <th>184637</th>\n",
       "      <td>9559280</td>\n",
       "      <td>e86a5089-3f81-40ea-be5f-3857ae0ac8d8-i0b0</td>\n",
       "      <td>21dd21f210d8a24466f1bd064b4afed25530f1531ab809...</td>\n",
       "      <td>2672197</td>\n",
       "      <td>2021-01-20</td>\n",
       "      <td>86</td>\n",
       "      <td>202010021</td>\n",
       "      <td>1</td>\n",
       "      <td>Novo PNI</td>\n",
       "      <td>2021-02-02</td>\n",
       "      <td>...</td>\n",
       "      <td>5300108</td>\n",
       "      <td>NaN</td>\n",
       "      <td>1</td>\n",
       "      <td>9.0</td>\n",
       "      <td>929</td>\n",
       "      <td>5197</td>\n",
       "      <td>1</td>\n",
       "      <td>20</td>\n",
       "      <td>2</td>\n",
       "      <td>16</td>\n",
       "    </tr>\n",
       "    <tr>\n",
       "      <th>185717</th>\n",
       "      <td>7093765</td>\n",
       "      <td>880a322a-e206-44d0-b9c3-f80b0a92bc92-i0b0</td>\n",
       "      <td>a72efb3332a75d49ec3d3a9b755b94e9ca6eb2958f443a...</td>\n",
       "      <td>11010</td>\n",
       "      <td>2021-02-24</td>\n",
       "      <td>86</td>\n",
       "      <td>210013</td>\n",
       "      <td>2</td>\n",
       "      <td>Novo PNI</td>\n",
       "      <td>2021-02-25</td>\n",
       "      <td>...</td>\n",
       "      <td>5300108</td>\n",
       "      <td>72600.0</td>\n",
       "      <td>3</td>\n",
       "      <td>9.0</td>\n",
       "      <td>926</td>\n",
       "      <td>3813</td>\n",
       "      <td>2</td>\n",
       "      <td>24</td>\n",
       "      <td>2</td>\n",
       "      <td>17</td>\n",
       "    </tr>\n",
       "    <tr>\n",
       "      <th>199867</th>\n",
       "      <td>1992745</td>\n",
       "      <td>94d2cece-5667-47d0-8f34-fa0279053023-i0b0</td>\n",
       "      <td>910186fc00f181f4fb4900ffe32d7f703820f498136e1f...</td>\n",
       "      <td>2437686</td>\n",
       "      <td>2021-02-04</td>\n",
       "      <td>85</td>\n",
       "      <td>4120Z005</td>\n",
       "      <td>1</td>\n",
       "      <td>Novo PNI</td>\n",
       "      <td>2021-02-18</td>\n",
       "      <td>...</td>\n",
       "      <td>5300108</td>\n",
       "      <td>NaN</td>\n",
       "      <td>99</td>\n",
       "      <td>9.0</td>\n",
       "      <td>920</td>\n",
       "      <td>4787</td>\n",
       "      <td>2</td>\n",
       "      <td>4</td>\n",
       "      <td>3</td>\n",
       "      <td>17</td>\n",
       "    </tr>\n",
       "    <tr>\n",
       "      <th>225473</th>\n",
       "      <td>13055850</td>\n",
       "      <td>93710b10-dffd-479c-8b68-3deaa9de377f-i0b0</td>\n",
       "      <td>06f4b51bbede9a6d12e6ec2c8443eed2fcb44d41572a40...</td>\n",
       "      <td>10669</td>\n",
       "      <td>2021-03-19</td>\n",
       "      <td>86</td>\n",
       "      <td>210049</td>\n",
       "      <td>1</td>\n",
       "      <td>Novo PNI</td>\n",
       "      <td>2021-03-22</td>\n",
       "      <td>...</td>\n",
       "      <td>5300108</td>\n",
       "      <td>72543.0</td>\n",
       "      <td>5</td>\n",
       "      <td>7.0</td>\n",
       "      <td>701</td>\n",
       "      <td>3787</td>\n",
       "      <td>3</td>\n",
       "      <td>19</td>\n",
       "      <td>4</td>\n",
       "      <td>13</td>\n",
       "    </tr>\n",
       "  </tbody>\n",
       "</table>\n",
       "<p>36 rows × 25 columns</p>\n",
       "</div>"
      ],
      "text/plain": [
       "              id                               id_documento  \\\n",
       "3466     3482064  0b4f3d4d-5e7d-4950-9f0f-64a99649184e-i0b0   \n",
       "9214     7014618  480e9bb1-182d-4a47-8342-21cc1fcec9ee-i0b0   \n",
       "9299     3766045  c4f71a4d-6a7b-40a0-8987-4776ef3297e2-i0b0   \n",
       "9939     7403889  7e442668-e761-4686-b41c-e3be530fccb5-i0b0   \n",
       "14419    6685473  ca83df44-fdac-44c4-9ee4-df55d6fe3396-i0b0   \n",
       "16209   11179635  80673cf3-5e7d-4151-816d-82212a657ba5-i0b0   \n",
       "23941   16221854  5175d1d0-eb92-4858-bc10-343254264f32-i0b0   \n",
       "29198    2176467  11de58c5-cbc4-4f8a-a5ce-6a20271799c4-i0b0   \n",
       "35052    5556235  6a880125-90f8-46ff-a8cf-ddb8460d4f2e-i0b0   \n",
       "36167    6487800  4f0ae31d-551d-41e5-a00c-f169a6426898-i0b0   \n",
       "37280    7093233  c850705d-a354-48d1-ba41-3d80423fe451-i0b0   \n",
       "45308   11703932  eae963ea-ce1b-4f20-81a2-2748f1cbe50e-i0b0   \n",
       "45381   11752919  c84101ef-c114-420a-98e1-97c60009b015-i0b0   \n",
       "49552   14697422  a653096e-02d7-4e49-b064-ab6885a39d31-i0b0   \n",
       "54869     689110  e5419669-61ad-409a-9cc6-2c1939599e03-i0b0   \n",
       "57384    2377416  100a68e1-798f-4381-a872-5aea65e711d1-i0b0   \n",
       "67075    7552112  1eb5656a-fbe1-4682-9b7b-90694697350c-i0b0   \n",
       "73876   12049871  e259cf52-3ba6-46ff-9b66-3555964994da-i0b0   \n",
       "87757      67930  8c34b029-28cf-4c31-acc8-f5c73c87844a-i0b0   \n",
       "94294    3449428  b047cf97-e14b-40bf-99e3-72c634e49192-i0b0   \n",
       "105359  10142127  72972da7-ffb4-4630-a12f-0e7ee93d7691-i0b0   \n",
       "114387   2157965  eba409a6-10c8-42b4-a03e-64773f3d4aa3-i0b0   \n",
       "127066   6038346  6b7d7279-cf7a-4547-b2cd-9892acddb335-i0b0   \n",
       "128604   6869973  702f9079-ee98-404c-acb8-c4346709ac80-i0b0   \n",
       "139658  13979932  b7761d97-45a2-4814-8978-8bbf5eff35d9-i0b0   \n",
       "140839   1027888  7845c0e3-db70-49b1-a192-4e89968f5dc7-i0b0   \n",
       "152579   7679931  6e8dbf4f-7fe1-47e9-8a38-361ddf5f68cc-i0b0   \n",
       "167030  16650409  686af56c-c2c6-4742-8953-a8e55fcb15b0-i0b0   \n",
       "169878   1082852  82ae7cd3-dfbc-4151-99a5-1b37e75c9202-i0b0   \n",
       "173423    215054  8b575efc-2fe6-4387-909d-06b4e8b5471b-i0b0   \n",
       "179728   6541541  ce0d410c-1f44-4e83-ac34-549ddbd1b780-i0b0   \n",
       "182841   8366830  6673f345-cc97-49e3-a3d2-2201f0e0655e-i0b0   \n",
       "184637   9559280  e86a5089-3f81-40ea-be5f-3857ae0ac8d8-i0b0   \n",
       "185717   7093765  880a322a-e206-44d0-b9c3-f80b0a92bc92-i0b0   \n",
       "199867   1992745  94d2cece-5667-47d0-8f34-fa0279053023-i0b0   \n",
       "225473  13055850  93710b10-dffd-479c-8b68-3deaa9de377f-i0b0   \n",
       "\n",
       "                                            hash_paciente  estabelecimento_id  \\\n",
       "3466    d700526f593e36224b87a67a892aa7cedae4e4cf4aedbf...               11010   \n",
       "9214    d700526f593e36224b87a67a892aa7cedae4e4cf4aedbf...               10995   \n",
       "9299    0fdf239467e44469ecba246513d3cea7891b4bffa63a06...               11150   \n",
       "9939    9cda726ba5b6da4ad6c674fcf5fa7a088b9c223b9695c2...               10723   \n",
       "14419   1ddcaaa25b5a44d42f2bece590681bd6dfa5cc9a529e04...             2437686   \n",
       "16209   1f27966172dd0c86b731db120c67346816bf23328c91a5...             9056963   \n",
       "23941   3248f247ab3b8913e410054c4f4f3138a22edfe8f24d66...               10723   \n",
       "29198   9278f957e781eef6bd9831807aacd9012eceae5dfa61d4...               10758   \n",
       "35052   00dcabfd0689fc60fd128fc870cbd5f0cbfcf8d646801a...             2022699   \n",
       "36167   e4bd7406b3a3331720b3cac9d267ace1200cf9ae1b3df0...               11126   \n",
       "37280   3efc02cafb3ac971339a8bec28581b7b20f546c7eaf17a...             9056963   \n",
       "45308   86f9c4753fae75c84177d238b6bf6b3bb5facd439678d8...               11355   \n",
       "45381   86f9c4753fae75c84177d238b6bf6b3bb5facd439678d8...               11355   \n",
       "49552   3efc02cafb3ac971339a8bec28581b7b20f546c7eaf17a...               11150   \n",
       "54869   605b214cd34059643114aadac15caa49244e5db18fa8ee...             2361493   \n",
       "57384   e4bd7406b3a3331720b3cac9d267ace1200cf9ae1b3df0...               11126   \n",
       "67075   9278f957e781eef6bd9831807aacd9012eceae5dfa61d4...               10758   \n",
       "73876   acbb17b871c928db159911aa32fa7098ba09667b754ab6...             2023040   \n",
       "87757   2c0f496c68820403801af4404f6b15fb34682364361923...               10626   \n",
       "94294   5a75d5e7ae7de27e34ade792d29b3b5f74814569275898...               11010   \n",
       "105359  9664e2b0954c7f5f3f2d902602cc8be7647070e92221d4...             9056963   \n",
       "114387  5557ec86c23bf04a12392968462c10e9b5aed0699f3e6e...             2437686   \n",
       "127066  ddfbe5970add790f12ceb4236b5644007bc62a151ba1bd...               11037   \n",
       "128604  5a75d5e7ae7de27e34ade792d29b3b5f74814569275898...               10995   \n",
       "139658  ddfbe5970add790f12ceb4236b5644007bc62a151ba1bd...               11037   \n",
       "140839  9e0b4262a91824e5a7cddf31a050707d62cba56daaaa7d...             3385116   \n",
       "152579  23eb7c7f853452b1aabd06b30a651e4601d4c0fa202a12...             3297284   \n",
       "167030  16190faa72ae6f8a506e345b28491bca7f448b54989a6a...               11150   \n",
       "169878  a72efb3332a75d49ec3d3a9b755b94e9ca6eb2958f443a...               10995   \n",
       "173423  926b85f701eb879256a00d9746134a09e2a601524db5cb...             6869009   \n",
       "179728  0e5ea789e358002692f3059e87d0ea84f75e673d16cbbb...               11010   \n",
       "182841  0e5ea789e358002692f3059e87d0ea84f75e673d16cbbb...               10995   \n",
       "184637  21dd21f210d8a24466f1bd064b4afed25530f1531ab809...             2672197   \n",
       "185717  a72efb3332a75d49ec3d3a9b755b94e9ca6eb2958f443a...               11010   \n",
       "199867  910186fc00f181f4fb4900ffe32d7f703820f498136e1f...             2437686   \n",
       "225473  06f4b51bbede9a6d12e6ec2c8443eed2fcb44d41572a40...               10669   \n",
       "\n",
       "       data_aplicacao  vacina_id vacina_lote  dose_declarada sistema_origem  \\\n",
       "3466       2021-02-24         86      210013               2       Novo PNI   \n",
       "9214       2021-01-27         86   202010021               1       Novo PNI   \n",
       "9299       2021-02-01         85    4120Z005               1       Novo PNI   \n",
       "9939       2021-02-02         85    4120Z005               1       Novo PNI   \n",
       "14419      2021-02-04         85    4120Z005               1       Novo PNI   \n",
       "16209      2021-02-05         85    4120Z005               1       Novo PNI   \n",
       "23941      2021-03-18         86      210049               1       Novo PNI   \n",
       "29198      2021-02-10         86   202010036               2       Novo PNI   \n",
       "35052      2021-03-05         86      210041               2       VACIVIDA   \n",
       "36167      2021-02-10         86   202010036               2       Novo PNI   \n",
       "37280      2021-02-10         86   202010021               1       Novo PNI   \n",
       "45308      2021-02-12         86   202010021               2       Novo PNI   \n",
       "45381      2021-01-21         86   202010021               1       Novo PNI   \n",
       "49552      2021-03-11         86      200278               2       Novo PNI   \n",
       "54869      2021-02-10         85    4120Z005               1       Novo PNI   \n",
       "57384      2021-01-19         86   202010021               1       Novo PNI   \n",
       "67075      2021-01-27         86   202010021               1       Novo PNI   \n",
       "73876      2021-03-16         86     210052A               1       VACIVIDA   \n",
       "87757      2021-01-20         86   202010021               1       Novo PNI   \n",
       "94294      2021-02-24         86      210013               2       Novo PNI   \n",
       "105359     2021-02-03         85    4120Z005               1       Novo PNI   \n",
       "114387     2021-02-02         85    4120Z005               1       Novo PNI   \n",
       "127066     2021-02-09         86   202010021               1       Novo PNI   \n",
       "128604     2021-01-27         86   202010021               1       Novo PNI   \n",
       "139658     2021-03-08         86      210038               2       Novo PNI   \n",
       "140839     2021-03-03         86      210041               2       VACIVIDA   \n",
       "152579     2021-02-03         86   202010028               1       Novo PNI   \n",
       "167030     2021-03-26         86      210049               1       Novo PNI   \n",
       "169878     2021-01-27         86   202010021               1       Novo PNI   \n",
       "173423     2021-01-30         85    4120Z005               1       Novo PNI   \n",
       "179728     2021-02-24         86      210013               2       Novo PNI   \n",
       "182841     2021-01-27         86   202010021               1       Novo PNI   \n",
       "184637     2021-01-20         86   202010021               1       Novo PNI   \n",
       "185717     2021-02-24         86      210013               2       Novo PNI   \n",
       "199867     2021-02-04         85    4120Z005               1       Novo PNI   \n",
       "225473     2021-03-19         86      210049               1       Novo PNI   \n",
       "\n",
       "       data_importacao  ...  id_cidade   id_cep id_raca_cor id_grupo  \\\n",
       "3466        2021-02-24  ...    5300108      NaN          99      9.0   \n",
       "9214        2021-02-03  ...    5300108      NaN          99      9.0   \n",
       "9299        2021-02-22  ...    5300108  71571.0          99      9.0   \n",
       "9939        2021-03-03  ...    5300108  71050.0           1      9.0   \n",
       "14419       2021-02-18  ...    5300108      NaN          99      9.0   \n",
       "16209       2021-03-12  ...    5300108  72308.0           3      9.0   \n",
       "23941       2021-03-31  ...    5300108  71725.0          99      9.0   \n",
       "29198       2021-02-22  ...    5300108  72669.0          99      9.0   \n",
       "35052       2021-03-05  ...    5300108  72620.0           3      9.0   \n",
       "36167       2021-02-13  ...    5300108      NaN           3      3.0   \n",
       "37280       2021-02-27  ...    5300108  70655.0           1      9.0   \n",
       "45308       2021-03-22  ...    5300108      NaN          99      9.0   \n",
       "45381       2021-03-22  ...    5300108      NaN          99      9.0   \n",
       "49552       2021-03-17  ...    5300108  70655.0           1      9.0   \n",
       "54869       2021-02-10  ...    5300108  72210.0           3      9.0   \n",
       "57384       2021-01-29  ...    5300108      NaN           3      3.0   \n",
       "67075       2021-02-22  ...    5300108  72669.0          99      9.0   \n",
       "73876       2021-03-16  ...    5300108  73930.0           3      2.0   \n",
       "87757       2021-02-02  ...    5300108  72215.0          99      9.0   \n",
       "94294       2021-02-24  ...    5300108  72236.0           3      9.0   \n",
       "105359      2021-02-28  ...    5300108  72316.0           1      9.0   \n",
       "114387      2021-02-18  ...    5300108  72715.0           3      9.0   \n",
       "127066      2021-02-09  ...    5300108  71805.0           3      2.0   \n",
       "128604      2021-02-06  ...    5300108  72236.0           3      9.0   \n",
       "139658      2021-03-11  ...    5300108  71805.0           3      2.0   \n",
       "140839      2021-03-03  ...    5300108  72405.0           3      9.0   \n",
       "152579      2021-02-26  ...    5300108  71693.0           3      9.0   \n",
       "167030      2021-03-30  ...    5300108  72310.0           1      9.0   \n",
       "169878      2021-02-05  ...    5300108  72600.0           3      9.0   \n",
       "173423      2021-02-01  ...    5300108      NaN          99      9.0   \n",
       "179728      2021-02-24  ...    5300108  71805.0           3      9.0   \n",
       "182841      2021-02-05  ...    5300108  71805.0           3      9.0   \n",
       "184637      2021-02-02  ...    5300108      NaN           1      9.0   \n",
       "185717      2021-02-25  ...    5300108  72600.0           3      9.0   \n",
       "199867      2021-02-18  ...    5300108      NaN          99      9.0   \n",
       "225473      2021-03-22  ...    5300108  72543.0           5      7.0   \n",
       "\n",
       "       id_subgrupo  aplicacoes_por_data  mes  dia  dia_semana  idade  \n",
       "3466           926                 3813    2   24           2     16  \n",
       "9214           926                 6379    1   27           2     16  \n",
       "9299           926                11277    2    1           0     17  \n",
       "9939           926                14182    2    2           1     17  \n",
       "14419          920                 4787    2    4           3     14  \n",
       "16209          926                 3359    2    5           4     17  \n",
       "23941          929                10131    3   18           3     16  \n",
       "29198          905                 4379    2   10           2     17  \n",
       "35052          926                 5077    3    5           4     10  \n",
       "36167          301                 4379    2   10           2     15  \n",
       "37280          926                 4379    2   10           2     17  \n",
       "45308          905                 2817    2   12           4     17  \n",
       "45381          905                 3650    1   21           3     17  \n",
       "49552          926                 6233    3   11           3     17  \n",
       "54869          917                 4379    2   10           2     16  \n",
       "57384          301                 2136    1   19           1     15  \n",
       "67075          905                 6379    1   27           2     17  \n",
       "73876          203                 1590    3   16           1     16  \n",
       "87757          926                 5197    1   20           2     17  \n",
       "94294          926                 3813    2   24           2     17  \n",
       "105359         926                 7048    2    3           2     16  \n",
       "114387         928                14182    2    2           1     17  \n",
       "127066         205                 4293    2    9           1     15  \n",
       "128604         926                 6379    1   27           2     17  \n",
       "139658         205                 2318    3    8           0     15  \n",
       "140839         926                 3007    3    3           2     15  \n",
       "152579         923                 7048    2    3           2     13  \n",
       "167030         926                 5910    3   26           4     17  \n",
       "169878         926                 6379    1   27           2     17  \n",
       "173423         926                  125    1   30           5     10  \n",
       "179728         926                 3813    2   24           2     17  \n",
       "182841         926                 6379    1   27           2     17  \n",
       "184637         929                 5197    1   20           2     16  \n",
       "185717         926                 3813    2   24           2     17  \n",
       "199867         920                 4787    2    4           3     17  \n",
       "225473         701                 3787    3   19           4     13  \n",
       "\n",
       "[36 rows x 25 columns]"
      ]
     },
     "execution_count": 32,
     "metadata": {},
     "output_type": "execute_result"
    }
   ],
   "source": [
    "vacinacao[vacinacao['idade'] < 18]"
   ]
  },
  {
   "cell_type": "code",
   "execution_count": 33,
   "id": "uniform-honey",
   "metadata": {
    "execution": {
     "iopub.execute_input": "2021-04-20T19:03:13.741618Z",
     "iopub.status.busy": "2021-04-20T19:03:13.740894Z",
     "iopub.status.idle": "2021-04-20T19:03:13.751769Z",
     "shell.execute_reply": "2021-04-20T19:03:13.751212Z"
    },
    "papermill": {
     "duration": 0.085771,
     "end_time": "2021-04-20T19:03:13.751934",
     "exception": false,
     "start_time": "2021-04-20T19:03:13.666163",
     "status": "completed"
    },
    "tags": []
   },
   "outputs": [
    {
     "data": {
      "text/html": [
       "<div>\n",
       "<style scoped>\n",
       "    .dataframe tbody tr th:only-of-type {\n",
       "        vertical-align: middle;\n",
       "    }\n",
       "\n",
       "    .dataframe tbody tr th {\n",
       "        vertical-align: top;\n",
       "    }\n",
       "\n",
       "    .dataframe thead th {\n",
       "        text-align: right;\n",
       "    }\n",
       "</style>\n",
       "<table border=\"1\" class=\"dataframe\">\n",
       "  <thead>\n",
       "    <tr style=\"text-align: right;\">\n",
       "      <th></th>\n",
       "      <th>id</th>\n",
       "      <th>grupo</th>\n",
       "    </tr>\n",
       "  </thead>\n",
       "  <tbody>\n",
       "    <tr>\n",
       "      <th>0</th>\n",
       "      <td>1</td>\n",
       "      <td>Comorbidades</td>\n",
       "    </tr>\n",
       "    <tr>\n",
       "      <th>1</th>\n",
       "      <td>11</td>\n",
       "      <td>Pessoas com Deficiência</td>\n",
       "    </tr>\n",
       "    <tr>\n",
       "      <th>2</th>\n",
       "      <td>12</td>\n",
       "      <td>Pessoas em Situação de Rua</td>\n",
       "    </tr>\n",
       "    <tr>\n",
       "      <th>3</th>\n",
       "      <td>13</td>\n",
       "      <td>Trabalhadores Portuários</td>\n",
       "    </tr>\n",
       "    <tr>\n",
       "      <th>4</th>\n",
       "      <td>14</td>\n",
       "      <td>Funcionário do Sistema de Privação de Liberdade</td>\n",
       "    </tr>\n",
       "    <tr>\n",
       "      <th>5</th>\n",
       "      <td>15</td>\n",
       "      <td>População Privada de Liberdade</td>\n",
       "    </tr>\n",
       "    <tr>\n",
       "      <th>6</th>\n",
       "      <td>16</td>\n",
       "      <td>Trabalhadores Industriais</td>\n",
       "    </tr>\n",
       "    <tr>\n",
       "      <th>7</th>\n",
       "      <td>2</td>\n",
       "      <td>Faixa Etária</td>\n",
       "    </tr>\n",
       "    <tr>\n",
       "      <th>8</th>\n",
       "      <td>3</td>\n",
       "      <td>Pessoas de 60 anos ou mais institucionalizadas</td>\n",
       "    </tr>\n",
       "    <tr>\n",
       "      <th>9</th>\n",
       "      <td>4</td>\n",
       "      <td>Forças Armadas (membros ativos)</td>\n",
       "    </tr>\n",
       "    <tr>\n",
       "      <th>10</th>\n",
       "      <td>5</td>\n",
       "      <td>Forças de Segurança e Salvamento</td>\n",
       "    </tr>\n",
       "    <tr>\n",
       "      <th>11</th>\n",
       "      <td>6</td>\n",
       "      <td>Povos e Comunidades Tradicionais</td>\n",
       "    </tr>\n",
       "    <tr>\n",
       "      <th>12</th>\n",
       "      <td>7</td>\n",
       "      <td>Povos Indígenas</td>\n",
       "    </tr>\n",
       "    <tr>\n",
       "      <th>13</th>\n",
       "      <td>8</td>\n",
       "      <td>Trabalhadores da Educação</td>\n",
       "    </tr>\n",
       "    <tr>\n",
       "      <th>14</th>\n",
       "      <td>9</td>\n",
       "      <td>Trabalhadores de Saúde</td>\n",
       "    </tr>\n",
       "  </tbody>\n",
       "</table>\n",
       "</div>"
      ],
      "text/plain": [
       "    id                                            grupo\n",
       "0    1                                     Comorbidades\n",
       "1   11                          Pessoas com Deficiência\n",
       "2   12                       Pessoas em Situação de Rua\n",
       "3   13                         Trabalhadores Portuários\n",
       "4   14  Funcionário do Sistema de Privação de Liberdade\n",
       "5   15                   População Privada de Liberdade\n",
       "6   16                        Trabalhadores Industriais\n",
       "7    2                                     Faixa Etária\n",
       "8    3   Pessoas de 60 anos ou mais institucionalizadas\n",
       "9    4                  Forças Armadas (membros ativos)\n",
       "10   5                 Forças de Segurança e Salvamento\n",
       "11   6                 Povos e Comunidades Tradicionais\n",
       "12   7                                  Povos Indígenas\n",
       "13   8                        Trabalhadores da Educação\n",
       "14   9                           Trabalhadores de Saúde"
      ]
     },
     "execution_count": 33,
     "metadata": {},
     "output_type": "execute_result"
    }
   ],
   "source": [
    "grupo"
   ]
  },
  {
   "cell_type": "code",
   "execution_count": 34,
   "id": "adapted-working",
   "metadata": {
    "execution": {
     "iopub.execute_input": "2021-04-20T19:03:13.904363Z",
     "iopub.status.busy": "2021-04-20T19:03:13.903635Z",
     "iopub.status.idle": "2021-04-20T19:03:13.948331Z",
     "shell.execute_reply": "2021-04-20T19:03:13.947750Z"
    },
    "papermill": {
     "duration": 0.123961,
     "end_time": "2021-04-20T19:03:13.948496",
     "exception": false,
     "start_time": "2021-04-20T19:03:13.824535",
     "status": "completed"
    },
    "tags": []
   },
   "outputs": [],
   "source": [
    "vacinacao_idosos = vacinacao.loc[(vacinacao['id_grupo'] == 2)]\n",
    "vacinacao_saude = vacinacao.loc[(vacinacao['id_grupo'] == 9)]"
   ]
  },
  {
   "cell_type": "code",
   "execution_count": 35,
   "id": "manufactured-fluid",
   "metadata": {
    "execution": {
     "iopub.execute_input": "2021-04-20T19:03:14.101242Z",
     "iopub.status.busy": "2021-04-20T19:03:14.100528Z",
     "iopub.status.idle": "2021-04-20T19:03:14.110152Z",
     "shell.execute_reply": "2021-04-20T19:03:14.109429Z"
    },
    "papermill": {
     "duration": 0.08884,
     "end_time": "2021-04-20T19:03:14.110301",
     "exception": false,
     "start_time": "2021-04-20T19:03:14.021461",
     "status": "completed"
    },
    "tags": []
   },
   "outputs": [],
   "source": [
    "#substituindo idade de grupo faixa etária que está menor que 18 pela mediana de idade\n",
    "vacinacao.loc[(vacinacao['idade'] < 18) & (vacinacao['id_grupo'] == 2), 'idade'] = vacinacao_idosos['idade'].median()"
   ]
  },
  {
   "cell_type": "code",
   "execution_count": 36,
   "id": "educated-replacement",
   "metadata": {
    "execution": {
     "iopub.execute_input": "2021-04-20T19:03:14.264817Z",
     "iopub.status.busy": "2021-04-20T19:03:14.263891Z",
     "iopub.status.idle": "2021-04-20T19:03:14.284775Z",
     "shell.execute_reply": "2021-04-20T19:03:14.284222Z"
    },
    "papermill": {
     "duration": 0.101268,
     "end_time": "2021-04-20T19:03:14.284952",
     "exception": false,
     "start_time": "2021-04-20T19:03:14.183684",
     "status": "completed"
    },
    "tags": []
   },
   "outputs": [
    {
     "data": {
      "text/html": [
       "<div>\n",
       "<style scoped>\n",
       "    .dataframe tbody tr th:only-of-type {\n",
       "        vertical-align: middle;\n",
       "    }\n",
       "\n",
       "    .dataframe tbody tr th {\n",
       "        vertical-align: top;\n",
       "    }\n",
       "\n",
       "    .dataframe thead th {\n",
       "        text-align: right;\n",
       "    }\n",
       "</style>\n",
       "<table border=\"1\" class=\"dataframe\">\n",
       "  <thead>\n",
       "    <tr style=\"text-align: right;\">\n",
       "      <th></th>\n",
       "      <th>id</th>\n",
       "      <th>id_documento</th>\n",
       "      <th>hash_paciente</th>\n",
       "      <th>estabelecimento_id</th>\n",
       "      <th>data_aplicacao</th>\n",
       "      <th>vacina_id</th>\n",
       "      <th>vacina_lote</th>\n",
       "      <th>dose_declarada</th>\n",
       "      <th>sistema_origem</th>\n",
       "      <th>data_importacao</th>\n",
       "      <th>...</th>\n",
       "      <th>id_cidade</th>\n",
       "      <th>id_cep</th>\n",
       "      <th>id_raca_cor</th>\n",
       "      <th>id_grupo</th>\n",
       "      <th>id_subgrupo</th>\n",
       "      <th>aplicacoes_por_data</th>\n",
       "      <th>mes</th>\n",
       "      <th>dia</th>\n",
       "      <th>dia_semana</th>\n",
       "      <th>idade</th>\n",
       "    </tr>\n",
       "  </thead>\n",
       "  <tbody>\n",
       "  </tbody>\n",
       "</table>\n",
       "<p>0 rows × 25 columns</p>\n",
       "</div>"
      ],
      "text/plain": [
       "Empty DataFrame\n",
       "Columns: [id, id_documento, hash_paciente, estabelecimento_id, data_aplicacao, vacina_id, vacina_lote, dose_declarada, sistema_origem, data_importacao, id.1, hash, nascimento, sexo, nacionalidade, id_cidade, id_cep, id_raca_cor, id_grupo, id_subgrupo, aplicacoes_por_data, mes, dia, dia_semana, idade]\n",
       "Index: []\n",
       "\n",
       "[0 rows x 25 columns]"
      ]
     },
     "execution_count": 36,
     "metadata": {},
     "output_type": "execute_result"
    }
   ],
   "source": [
    "vacinacao.loc[(vacinacao['idade'] < 18) & (vacinacao['id_grupo'] == 2)]"
   ]
  },
  {
   "cell_type": "code",
   "execution_count": 37,
   "id": "upset-beauty",
   "metadata": {
    "execution": {
     "iopub.execute_input": "2021-04-20T19:03:14.445486Z",
     "iopub.status.busy": "2021-04-20T19:03:14.439982Z",
     "iopub.status.idle": "2021-04-20T19:03:14.829459Z",
     "shell.execute_reply": "2021-04-20T19:03:14.828799Z"
    },
    "papermill": {
     "duration": 0.470282,
     "end_time": "2021-04-20T19:03:14.829605",
     "exception": false,
     "start_time": "2021-04-20T19:03:14.359323",
     "status": "completed"
    },
    "tags": []
   },
   "outputs": [
    {
     "data": {
      "image/png": "[encoded data removed]",
      "text/plain": [
       "<Figure size 432x288 with 1 Axes>"
      ]
     },
     "metadata": {
      "needs_background": "light"
     },
     "output_type": "display_data"
    },
    {
     "data": {
      "text/plain": [
       "(71.0, 63.25528871258628)"
      ]
     },
     "execution_count": 37,
     "metadata": {},
     "output_type": "execute_result"
    }
   ],
   "source": [
    "ax=sns.histplot(vacinacao['idade'], bins=10)\n",
    "\n",
    "sns.despine(left=True) #retirando os eixos\n",
    "ax.set(xlabel=\"\", \n",
    "       ylabel=\"\",\n",
    "       title=\"Idades de Vacinação no DF\")\n",
    "\n",
    "# linhas verticais com mediana e média\n",
    "mediana=vacinacao['idade'].median()\n",
    "media=vacinacao['idade'].mean()\n",
    "ax.axvline(x=mediana, color='#ffddbd', label='Mediana', linestyle='--', linewidth=2)\n",
    "ax.axvline(x=media, color='#ffddbd', label='Média', linestyle='-', linewidth=2)\n",
    "\n",
    "# apresenta a legenda e o gráfico\n",
    "ax.legend()\n",
    "plt.show()\n",
    "mediana, media"
   ]
  },
  {
   "cell_type": "code",
   "execution_count": 38,
   "id": "everyday-nylon",
   "metadata": {
    "execution": {
     "iopub.execute_input": "2021-04-20T19:03:14.987686Z",
     "iopub.status.busy": "2021-04-20T19:03:14.987010Z",
     "iopub.status.idle": "2021-04-20T19:03:15.004768Z",
     "shell.execute_reply": "2021-04-20T19:03:15.004017Z"
    },
    "papermill": {
     "duration": 0.099399,
     "end_time": "2021-04-20T19:03:15.004937",
     "exception": false,
     "start_time": "2021-04-20T19:03:14.905538",
     "status": "completed"
    },
    "tags": []
   },
   "outputs": [
    {
     "data": {
      "text/plain": [
       "count    227891.000000\n",
       "mean         63.255289\n",
       "std          20.268256\n",
       "min          10.000000\n",
       "25%          44.000000\n",
       "50%          71.000000\n",
       "75%          79.000000\n",
       "max         115.000000\n",
       "Name: idade, dtype: float64"
      ]
     },
     "execution_count": 38,
     "metadata": {},
     "output_type": "execute_result"
    }
   ],
   "source": [
    "vacinacao['idade'].describe()"
   ]
  },
  {
   "cell_type": "code",
   "execution_count": 39,
   "id": "revised-vienna",
   "metadata": {
    "execution": {
     "iopub.execute_input": "2021-04-20T19:03:15.167161Z",
     "iopub.status.busy": "2021-04-20T19:03:15.165995Z",
     "iopub.status.idle": "2021-04-20T19:03:15.687373Z",
     "shell.execute_reply": "2021-04-20T19:03:15.686785Z"
    },
    "papermill": {
     "duration": 0.604134,
     "end_time": "2021-04-20T19:03:15.687514",
     "exception": false,
     "start_time": "2021-04-20T19:03:15.083380",
     "status": "completed"
    },
    "tags": []
   },
   "outputs": [],
   "source": [
    "# unindo o DF vacinacao com grupo p/ ter os nomes referentes aos grupos\n",
    "vacinacao = pd.merge(vacinacao, grupo, right_on=\"id\", left_on=\"id_grupo\")\n",
    "vacinacao.drop(columns='id_grupo', axis=1, inplace=True)"
   ]
  },
  {
   "cell_type": "code",
   "execution_count": 40,
   "id": "lonely-dialogue",
   "metadata": {
    "execution": {
     "iopub.execute_input": "2021-04-20T19:03:15.862905Z",
     "iopub.status.busy": "2021-04-20T19:03:15.846826Z",
     "iopub.status.idle": "2021-04-20T19:03:15.868380Z",
     "shell.execute_reply": "2021-04-20T19:03:15.867787Z"
    },
    "papermill": {
     "duration": 0.10555,
     "end_time": "2021-04-20T19:03:15.868554",
     "exception": false,
     "start_time": "2021-04-20T19:03:15.763004",
     "status": "completed"
    },
    "tags": []
   },
   "outputs": [
    {
     "data": {
      "text/html": [
       "<div>\n",
       "<style scoped>\n",
       "    .dataframe tbody tr th:only-of-type {\n",
       "        vertical-align: middle;\n",
       "    }\n",
       "\n",
       "    .dataframe tbody tr th {\n",
       "        vertical-align: top;\n",
       "    }\n",
       "\n",
       "    .dataframe thead th {\n",
       "        text-align: right;\n",
       "    }\n",
       "</style>\n",
       "<table border=\"1\" class=\"dataframe\">\n",
       "  <thead>\n",
       "    <tr style=\"text-align: right;\">\n",
       "      <th></th>\n",
       "      <th>0</th>\n",
       "      <th>1</th>\n",
       "      <th>2</th>\n",
       "      <th>3</th>\n",
       "      <th>4</th>\n",
       "    </tr>\n",
       "  </thead>\n",
       "  <tbody>\n",
       "    <tr>\n",
       "      <th>id_x</th>\n",
       "      <td>879456</td>\n",
       "      <td>884047</td>\n",
       "      <td>888358</td>\n",
       "      <td>888369</td>\n",
       "      <td>889362</td>\n",
       "    </tr>\n",
       "    <tr>\n",
       "      <th>id_documento</th>\n",
       "      <td>64f74027-f10c-4cc0-b223-fefce4e1175a-i0b0</td>\n",
       "      <td>baee6faa-f535-47e9-8631-66b345890e7d-i0b0</td>\n",
       "      <td>0c9d60cf-1471-4828-bb4e-bac8a6d7eb01-i0b0</td>\n",
       "      <td>808f7504-9886-4b37-b71a-3374c2b9aed2-i0b0</td>\n",
       "      <td>265d7fb6-c0d2-4be8-8680-6f2066ebfb8f-i0b0</td>\n",
       "    </tr>\n",
       "    <tr>\n",
       "      <th>hash_paciente</th>\n",
       "      <td>c5106f2b14b6a67309171462166c8d42b8737d45442f41...</td>\n",
       "      <td>079408d80b0aa596c1c41bdcc22cd78eb9a0e7dd380b93...</td>\n",
       "      <td>ce16533ab45e900429d29d30da63335c547b65f0ee0c58...</td>\n",
       "      <td>aa6080577d450fe7d631143550df2da1a4088285b20949...</td>\n",
       "      <td>f8baf1d1b8b6fbcdeeb9493e32fc88161af0a085a77a5a...</td>\n",
       "    </tr>\n",
       "    <tr>\n",
       "      <th>estabelecimento_id</th>\n",
       "      <td>7368895</td>\n",
       "      <td>2381524</td>\n",
       "      <td>10847</td>\n",
       "      <td>10626</td>\n",
       "      <td>9698752</td>\n",
       "    </tr>\n",
       "    <tr>\n",
       "      <th>data_aplicacao</th>\n",
       "      <td>2021-02-03 00:00:00</td>\n",
       "      <td>2021-02-19 00:00:00</td>\n",
       "      <td>2021-02-02 00:00:00</td>\n",
       "      <td>2021-02-02 00:00:00</td>\n",
       "      <td>2021-02-23 00:00:00</td>\n",
       "    </tr>\n",
       "    <tr>\n",
       "      <th>vacina_id</th>\n",
       "      <td>85</td>\n",
       "      <td>86</td>\n",
       "      <td>85</td>\n",
       "      <td>86</td>\n",
       "      <td>86</td>\n",
       "    </tr>\n",
       "    <tr>\n",
       "      <th>vacina_lote</th>\n",
       "      <td>4120Z005</td>\n",
       "      <td>200279</td>\n",
       "      <td>4120Z005</td>\n",
       "      <td>202010021</td>\n",
       "      <td>200279</td>\n",
       "    </tr>\n",
       "    <tr>\n",
       "      <th>dose_declarada</th>\n",
       "      <td>1</td>\n",
       "      <td>1</td>\n",
       "      <td>1</td>\n",
       "      <td>1</td>\n",
       "      <td>1</td>\n",
       "    </tr>\n",
       "    <tr>\n",
       "      <th>sistema_origem</th>\n",
       "      <td>Novo PNI</td>\n",
       "      <td>Novo PNI</td>\n",
       "      <td>Novo PNI</td>\n",
       "      <td>Novo PNI</td>\n",
       "      <td>Novo PNI</td>\n",
       "    </tr>\n",
       "    <tr>\n",
       "      <th>data_importacao</th>\n",
       "      <td>2021-02-09</td>\n",
       "      <td>2021-02-22</td>\n",
       "      <td>2021-02-02</td>\n",
       "      <td>2021-02-02</td>\n",
       "      <td>2021-02-23</td>\n",
       "    </tr>\n",
       "    <tr>\n",
       "      <th>id.1</th>\n",
       "      <td>8666289</td>\n",
       "      <td>333120</td>\n",
       "      <td>9062190</td>\n",
       "      <td>7493972</td>\n",
       "      <td>10939937</td>\n",
       "    </tr>\n",
       "    <tr>\n",
       "      <th>hash</th>\n",
       "      <td>c5106f2b14b6a67309171462166c8d42b8737d45442f41...</td>\n",
       "      <td>079408d80b0aa596c1c41bdcc22cd78eb9a0e7dd380b93...</td>\n",
       "      <td>ce16533ab45e900429d29d30da63335c547b65f0ee0c58...</td>\n",
       "      <td>aa6080577d450fe7d631143550df2da1a4088285b20949...</td>\n",
       "      <td>f8baf1d1b8b6fbcdeeb9493e32fc88161af0a085a77a5a...</td>\n",
       "    </tr>\n",
       "    <tr>\n",
       "      <th>nascimento</th>\n",
       "      <td>1940-01-10 00:00:00</td>\n",
       "      <td>1942-02-22 00:00:00</td>\n",
       "      <td>1937-12-06 00:00:00</td>\n",
       "      <td>1934-10-09 00:00:00</td>\n",
       "      <td>1940-12-15 00:00:00</td>\n",
       "    </tr>\n",
       "    <tr>\n",
       "      <th>sexo</th>\n",
       "      <td>M</td>\n",
       "      <td>F</td>\n",
       "      <td>M</td>\n",
       "      <td>M</td>\n",
       "      <td>F</td>\n",
       "    </tr>\n",
       "    <tr>\n",
       "      <th>nacionalidade</th>\n",
       "      <td>B</td>\n",
       "      <td>B</td>\n",
       "      <td>B</td>\n",
       "      <td>B</td>\n",
       "      <td>B</td>\n",
       "    </tr>\n",
       "    <tr>\n",
       "      <th>id_cidade</th>\n",
       "      <td>5300108</td>\n",
       "      <td>5300108</td>\n",
       "      <td>5300108</td>\n",
       "      <td>5300108</td>\n",
       "      <td>5300108</td>\n",
       "    </tr>\n",
       "    <tr>\n",
       "      <th>id_cep</th>\n",
       "      <td>NaN</td>\n",
       "      <td>76365.0</td>\n",
       "      <td>72450.0</td>\n",
       "      <td>NaN</td>\n",
       "      <td>72210.0</td>\n",
       "    </tr>\n",
       "    <tr>\n",
       "      <th>id_raca_cor</th>\n",
       "      <td>99</td>\n",
       "      <td>3</td>\n",
       "      <td>1</td>\n",
       "      <td>99</td>\n",
       "      <td>4</td>\n",
       "    </tr>\n",
       "    <tr>\n",
       "      <th>id_subgrupo</th>\n",
       "      <td>205</td>\n",
       "      <td>204</td>\n",
       "      <td>205</td>\n",
       "      <td>205</td>\n",
       "      <td>205</td>\n",
       "    </tr>\n",
       "    <tr>\n",
       "      <th>aplicacoes_por_data</th>\n",
       "      <td>7048</td>\n",
       "      <td>3665</td>\n",
       "      <td>14182</td>\n",
       "      <td>14182</td>\n",
       "      <td>3760</td>\n",
       "    </tr>\n",
       "    <tr>\n",
       "      <th>mes</th>\n",
       "      <td>2</td>\n",
       "      <td>2</td>\n",
       "      <td>2</td>\n",
       "      <td>2</td>\n",
       "      <td>2</td>\n",
       "    </tr>\n",
       "    <tr>\n",
       "      <th>dia</th>\n",
       "      <td>3</td>\n",
       "      <td>19</td>\n",
       "      <td>2</td>\n",
       "      <td>2</td>\n",
       "      <td>23</td>\n",
       "    </tr>\n",
       "    <tr>\n",
       "      <th>dia_semana</th>\n",
       "      <td>2</td>\n",
       "      <td>4</td>\n",
       "      <td>1</td>\n",
       "      <td>1</td>\n",
       "      <td>1</td>\n",
       "    </tr>\n",
       "    <tr>\n",
       "      <th>idade</th>\n",
       "      <td>81</td>\n",
       "      <td>78</td>\n",
       "      <td>83</td>\n",
       "      <td>86</td>\n",
       "      <td>80</td>\n",
       "    </tr>\n",
       "    <tr>\n",
       "      <th>id_y</th>\n",
       "      <td>2</td>\n",
       "      <td>2</td>\n",
       "      <td>2</td>\n",
       "      <td>2</td>\n",
       "      <td>2</td>\n",
       "    </tr>\n",
       "    <tr>\n",
       "      <th>grupo</th>\n",
       "      <td>Faixa Etária</td>\n",
       "      <td>Faixa Etária</td>\n",
       "      <td>Faixa Etária</td>\n",
       "      <td>Faixa Etária</td>\n",
       "      <td>Faixa Etária</td>\n",
       "    </tr>\n",
       "  </tbody>\n",
       "</table>\n",
       "</div>"
      ],
      "text/plain": [
       "                                                                     0  \\\n",
       "id_x                                                            879456   \n",
       "id_documento                 64f74027-f10c-4cc0-b223-fefce4e1175a-i0b0   \n",
       "hash_paciente        c5106f2b14b6a67309171462166c8d42b8737d45442f41...   \n",
       "estabelecimento_id                                             7368895   \n",
       "data_aplicacao                                     2021-02-03 00:00:00   \n",
       "vacina_id                                                           85   \n",
       "vacina_lote                                                   4120Z005   \n",
       "dose_declarada                                                       1   \n",
       "sistema_origem                                                Novo PNI   \n",
       "data_importacao                                             2021-02-09   \n",
       "id.1                                                           8666289   \n",
       "hash                 c5106f2b14b6a67309171462166c8d42b8737d45442f41...   \n",
       "nascimento                                         1940-01-10 00:00:00   \n",
       "sexo                                                                 M   \n",
       "nacionalidade                                                        B   \n",
       "id_cidade                                                      5300108   \n",
       "id_cep                                                             NaN   \n",
       "id_raca_cor                                                         99   \n",
       "id_subgrupo                                                        205   \n",
       "aplicacoes_por_data                                               7048   \n",
       "mes                                                                  2   \n",
       "dia                                                                  3   \n",
       "dia_semana                                                           2   \n",
       "idade                                                               81   \n",
       "id_y                                                                 2   \n",
       "grupo                                                     Faixa Etária   \n",
       "\n",
       "                                                                     1  \\\n",
       "id_x                                                            884047   \n",
       "id_documento                 baee6faa-f535-47e9-8631-66b345890e7d-i0b0   \n",
       "hash_paciente        079408d80b0aa596c1c41bdcc22cd78eb9a0e7dd380b93...   \n",
       "estabelecimento_id                                             2381524   \n",
       "data_aplicacao                                     2021-02-19 00:00:00   \n",
       "vacina_id                                                           86   \n",
       "vacina_lote                                                     200279   \n",
       "dose_declarada                                                       1   \n",
       "sistema_origem                                                Novo PNI   \n",
       "data_importacao                                             2021-02-22   \n",
       "id.1                                                            333120   \n",
       "hash                 079408d80b0aa596c1c41bdcc22cd78eb9a0e7dd380b93...   \n",
       "nascimento                                         1942-02-22 00:00:00   \n",
       "sexo                                                                 F   \n",
       "nacionalidade                                                        B   \n",
       "id_cidade                                                      5300108   \n",
       "id_cep                                                         76365.0   \n",
       "id_raca_cor                                                          3   \n",
       "id_subgrupo                                                        204   \n",
       "aplicacoes_por_data                                               3665   \n",
       "mes                                                                  2   \n",
       "dia                                                                 19   \n",
       "dia_semana                                                           4   \n",
       "idade                                                               78   \n",
       "id_y                                                                 2   \n",
       "grupo                                                     Faixa Etária   \n",
       "\n",
       "                                                                     2  \\\n",
       "id_x                                                            888358   \n",
       "id_documento                 0c9d60cf-1471-4828-bb4e-bac8a6d7eb01-i0b0   \n",
       "hash_paciente        ce16533ab45e900429d29d30da63335c547b65f0ee0c58...   \n",
       "estabelecimento_id                                               10847   \n",
       "data_aplicacao                                     2021-02-02 00:00:00   \n",
       "vacina_id                                                           85   \n",
       "vacina_lote                                                   4120Z005   \n",
       "dose_declarada                                                       1   \n",
       "sistema_origem                                                Novo PNI   \n",
       "data_importacao                                             2021-02-02   \n",
       "id.1                                                           9062190   \n",
       "hash                 ce16533ab45e900429d29d30da63335c547b65f0ee0c58...   \n",
       "nascimento                                         1937-12-06 00:00:00   \n",
       "sexo                                                                 M   \n",
       "nacionalidade                                                        B   \n",
       "id_cidade                                                      5300108   \n",
       "id_cep                                                         72450.0   \n",
       "id_raca_cor                                                          1   \n",
       "id_subgrupo                                                        205   \n",
       "aplicacoes_por_data                                              14182   \n",
       "mes                                                                  2   \n",
       "dia                                                                  2   \n",
       "dia_semana                                                           1   \n",
       "idade                                                               83   \n",
       "id_y                                                                 2   \n",
       "grupo                                                     Faixa Etária   \n",
       "\n",
       "                                                                     3  \\\n",
       "id_x                                                            888369   \n",
       "id_documento                 808f7504-9886-4b37-b71a-3374c2b9aed2-i0b0   \n",
       "hash_paciente        aa6080577d450fe7d631143550df2da1a4088285b20949...   \n",
       "estabelecimento_id                                               10626   \n",
       "data_aplicacao                                     2021-02-02 00:00:00   \n",
       "vacina_id                                                           86   \n",
       "vacina_lote                                                  202010021   \n",
       "dose_declarada                                                       1   \n",
       "sistema_origem                                                Novo PNI   \n",
       "data_importacao                                             2021-02-02   \n",
       "id.1                                                           7493972   \n",
       "hash                 aa6080577d450fe7d631143550df2da1a4088285b20949...   \n",
       "nascimento                                         1934-10-09 00:00:00   \n",
       "sexo                                                                 M   \n",
       "nacionalidade                                                        B   \n",
       "id_cidade                                                      5300108   \n",
       "id_cep                                                             NaN   \n",
       "id_raca_cor                                                         99   \n",
       "id_subgrupo                                                        205   \n",
       "aplicacoes_por_data                                              14182   \n",
       "mes                                                                  2   \n",
       "dia                                                                  2   \n",
       "dia_semana                                                           1   \n",
       "idade                                                               86   \n",
       "id_y                                                                 2   \n",
       "grupo                                                     Faixa Etária   \n",
       "\n",
       "                                                                     4  \n",
       "id_x                                                            889362  \n",
       "id_documento                 265d7fb6-c0d2-4be8-8680-6f2066ebfb8f-i0b0  \n",
       "hash_paciente        f8baf1d1b8b6fbcdeeb9493e32fc88161af0a085a77a5a...  \n",
       "estabelecimento_id                                             9698752  \n",
       "data_aplicacao                                     2021-02-23 00:00:00  \n",
       "vacina_id                                                           86  \n",
       "vacina_lote                                                     200279  \n",
       "dose_declarada                                                       1  \n",
       "sistema_origem                                                Novo PNI  \n",
       "data_importacao                                             2021-02-23  \n",
       "id.1                                                          10939937  \n",
       "hash                 f8baf1d1b8b6fbcdeeb9493e32fc88161af0a085a77a5a...  \n",
       "nascimento                                         1940-12-15 00:00:00  \n",
       "sexo                                                                 F  \n",
       "nacionalidade                                                        B  \n",
       "id_cidade                                                      5300108  \n",
       "id_cep                                                         72210.0  \n",
       "id_raca_cor                                                          4  \n",
       "id_subgrupo                                                        205  \n",
       "aplicacoes_por_data                                               3760  \n",
       "mes                                                                  2  \n",
       "dia                                                                 23  \n",
       "dia_semana                                                           1  \n",
       "idade                                                               80  \n",
       "id_y                                                                 2  \n",
       "grupo                                                     Faixa Etária  "
      ]
     },
     "execution_count": 40,
     "metadata": {},
     "output_type": "execute_result"
    }
   ],
   "source": [
    "vacinacao.head().T"
   ]
  },
  {
   "cell_type": "code",
   "execution_count": 41,
   "id": "worse-investigator",
   "metadata": {
    "execution": {
     "iopub.execute_input": "2021-04-20T19:03:16.088130Z",
     "iopub.status.busy": "2021-04-20T19:03:16.085175Z",
     "iopub.status.idle": "2021-04-20T19:03:16.092556Z",
     "shell.execute_reply": "2021-04-20T19:03:16.091895Z"
    },
    "papermill": {
     "duration": 0.144063,
     "end_time": "2021-04-20T19:03:16.092696",
     "exception": false,
     "start_time": "2021-04-20T19:03:15.948633",
     "status": "completed"
    },
    "tags": []
   },
   "outputs": [
    {
     "data": {
      "text/plain": [
       "Faixa Etária                                       133928\n",
       "Trabalhadores de Saúde                              88915\n",
       "Pessoas de 60 anos ou mais institucionalizadas       2471\n",
       "Pessoas com Deficiência                               643\n",
       "Comorbidades                                          634\n",
       "Forças de Segurança e Salvamento                      566\n",
       "Povos Indígenas                                       172\n",
       "Povos e Comunidades Tradicionais                      149\n",
       "Forças Armadas (membros ativos)                        88\n",
       "Trabalhadores da Educação                              41\n",
       "População Privada de Liberdade                         13\n",
       "Funcionário do Sistema de Privação de Liberdade        11\n",
       "Pessoas em Situação de Rua                              6\n",
       "Trabalhadores Industriais                               3\n",
       "Trabalhadores Portuários                                1\n",
       "Name: grupo, dtype: int64"
      ]
     },
     "execution_count": 41,
     "metadata": {},
     "output_type": "execute_result"
    }
   ],
   "source": [
    "vacinacao['grupo'].value_counts()"
   ]
  },
  {
   "cell_type": "code",
   "execution_count": 42,
   "id": "double-clothing",
   "metadata": {
    "execution": {
     "iopub.execute_input": "2021-04-20T19:03:16.261462Z",
     "iopub.status.busy": "2021-04-20T19:03:16.260572Z",
     "iopub.status.idle": "2021-04-20T19:03:16.306429Z",
     "shell.execute_reply": "2021-04-20T19:03:16.305858Z"
    },
    "papermill": {
     "duration": 0.135317,
     "end_time": "2021-04-20T19:03:16.306581",
     "exception": false,
     "start_time": "2021-04-20T19:03:16.171264",
     "status": "completed"
    },
    "tags": []
   },
   "outputs": [],
   "source": [
    "vacinacao_ = vacinacao.loc[(vacinacao['id_y'] == 9)| (vacinacao['id_y'] == 2)]"
   ]
  },
  {
   "cell_type": "code",
   "execution_count": 43,
   "id": "million-sending",
   "metadata": {
    "execution": {
     "iopub.execute_input": "2021-04-20T19:03:16.470940Z",
     "iopub.status.busy": "2021-04-20T19:03:16.469778Z",
     "iopub.status.idle": "2021-04-20T19:03:19.140986Z",
     "shell.execute_reply": "2021-04-20T19:03:19.140333Z"
    },
    "papermill": {
     "duration": 2.754901,
     "end_time": "2021-04-20T19:03:19.141137",
     "exception": false,
     "start_time": "2021-04-20T19:03:16.386236",
     "status": "completed"
    },
    "tags": []
   },
   "outputs": [
    {
     "data": {
      "image/png": "[encoded data removed]",
      "text/plain": [
       "<Figure size 720x360 with 2 Axes>"
      ]
     },
     "metadata": {
      "needs_background": "light"
     },
     "output_type": "display_data"
    }
   ],
   "source": [
    "vacgp= sns.displot(vacinacao_, x=\"idade\", col=\"grupo\", col_wrap=2, kde=True,color='#d4add4')\n",
    "\n",
    "#m.fig.suptitle('Pessoas vacinadas no DF', y=1.03)\n",
    "\n",
    "vacgp.set(ylabel='',\n",
    "       xlabel='Idade')\n",
    "vacgp.set_titles('{col_name}')\n",
    "plt.show()"
   ]
  },
  {
   "cell_type": "code",
   "execution_count": 44,
   "id": "exciting-hundred",
   "metadata": {
    "execution": {
     "iopub.execute_input": "2021-04-20T19:03:19.310073Z",
     "iopub.status.busy": "2021-04-20T19:03:19.308522Z",
     "iopub.status.idle": "2021-04-20T19:03:19.362573Z",
     "shell.execute_reply": "2021-04-20T19:03:19.361955Z"
    },
    "papermill": {
     "duration": 0.140669,
     "end_time": "2021-04-20T19:03:19.362715",
     "exception": false,
     "start_time": "2021-04-20T19:03:19.222046",
     "status": "completed"
    },
    "tags": []
   },
   "outputs": [],
   "source": [
    "vacinacao_idosos = vacinacao.loc[(vacinacao['id_y'] == 2)]\n",
    "vacinacao_saude = vacinacao.loc[(vacinacao['id_y'] == 9)]"
   ]
  },
  {
   "cell_type": "code",
   "execution_count": 45,
   "id": "crude-peace",
   "metadata": {
    "execution": {
     "iopub.execute_input": "2021-04-20T19:03:19.537750Z",
     "iopub.status.busy": "2021-04-20T19:03:19.527271Z",
     "iopub.status.idle": "2021-04-20T19:03:19.868359Z",
     "shell.execute_reply": "2021-04-20T19:03:19.868885Z"
    },
    "papermill": {
     "duration": 0.427813,
     "end_time": "2021-04-20T19:03:19.869086",
     "exception": false,
     "start_time": "2021-04-20T19:03:19.441273",
     "status": "completed"
    },
    "tags": []
   },
   "outputs": [
    {
     "data": {
      "image/png": "[encoded data removed]",
      "text/plain": [
       "<Figure size 432x288 with 1 Axes>"
      ]
     },
     "metadata": {
      "needs_background": "light"
     },
     "output_type": "display_data"
    },
    {
     "data": {
      "text/plain": [
       "(78.0, 78.09929962367839)"
      ]
     },
     "execution_count": 45,
     "metadata": {},
     "output_type": "execute_result"
    }
   ],
   "source": [
    "ax=sns.histplot(vacinacao_idosos['idade'], bins=10)\n",
    "\n",
    "sns.despine(left=True) #retirando os eixos\n",
    "ax.set(xlabel=\"\", \n",
    "       ylabel=\"\",\n",
    "       title=\"Idades do grupo de Faixa Etária no DF\")\n",
    "\n",
    "# linhas verticais com mediana e média\n",
    "mediana=vacinacao_idosos['idade'].median()\n",
    "media=vacinacao_idosos['idade'].mean()\n",
    "ax.axvline(x=mediana, color='#ffddbd', label='Mediana', linestyle='--', linewidth=2)\n",
    "ax.axvline(x=media, color='#ffddbd', label='Média', linestyle='-', linewidth=2)\n",
    "\n",
    "# apresenta a legenda e o gráfico\n",
    "ax.legend()\n",
    "plt.show()\n",
    "mediana,media"
   ]
  },
  {
   "cell_type": "code",
   "execution_count": 46,
   "id": "alternate-beauty",
   "metadata": {
    "execution": {
     "iopub.execute_input": "2021-04-20T19:03:20.040938Z",
     "iopub.status.busy": "2021-04-20T19:03:20.040199Z",
     "iopub.status.idle": "2021-04-20T19:03:20.055284Z",
     "shell.execute_reply": "2021-04-20T19:03:20.055801Z"
    },
    "papermill": {
     "duration": 0.103182,
     "end_time": "2021-04-20T19:03:20.056016",
     "exception": false,
     "start_time": "2021-04-20T19:03:19.952834",
     "status": "completed"
    },
    "tags": []
   },
   "outputs": [
    {
     "data": {
      "text/plain": [
       "count    133928.000000\n",
       "mean         78.099300\n",
       "std           7.001465\n",
       "min          18.000000\n",
       "25%          73.000000\n",
       "50%          78.000000\n",
       "75%          82.000000\n",
       "max         115.000000\n",
       "Name: idade, dtype: float64"
      ]
     },
     "execution_count": 46,
     "metadata": {},
     "output_type": "execute_result"
    }
   ],
   "source": [
    "vacinacao_idosos['idade'].describe()"
   ]
  },
  {
   "cell_type": "code",
   "execution_count": 47,
   "id": "through-veteran",
   "metadata": {
    "execution": {
     "iopub.execute_input": "2021-04-20T19:03:20.219565Z",
     "iopub.status.busy": "2021-04-20T19:03:20.218818Z",
     "iopub.status.idle": "2021-04-20T19:03:20.532438Z",
     "shell.execute_reply": "2021-04-20T19:03:20.532971Z"
    },
    "papermill": {
     "duration": 0.397349,
     "end_time": "2021-04-20T19:03:20.533145",
     "exception": false,
     "start_time": "2021-04-20T19:03:20.135796",
     "status": "completed"
    },
    "tags": []
   },
   "outputs": [
    {
     "data": {
      "image/png": "[encoded data removed]",
      "text/plain": [
       "<Figure size 432x288 with 1 Axes>"
      ]
     },
     "metadata": {
      "needs_background": "light"
     },
     "output_type": "display_data"
    },
    {
     "data": {
      "text/plain": [
       "(40.0, 40.89473092279143)"
      ]
     },
     "execution_count": 47,
     "metadata": {},
     "output_type": "execute_result"
    }
   ],
   "source": [
    "ax=sns.histplot(vacinacao_saude['idade'], bins=10)\n",
    "\n",
    "sns.despine(left=True) #retirando os eixos\n",
    "ax.set(xlabel=\"\", \n",
    "       ylabel=\"\",\n",
    "       title=\"Idades do grupo Profissionais da Saúde no DF\")\n",
    "\n",
    "# linhas verticais com mediana e média\n",
    "mediana=vacinacao_saude['idade'].median()\n",
    "media=vacinacao_saude['idade'].mean()\n",
    "ax.axvline(x=mediana, color='#ffddbd', label='Mediana', linestyle='--', linewidth=2)\n",
    "ax.axvline(x=media, color='#ffddbd', label='Média', linestyle='-', linewidth=2)\n",
    "\n",
    "# apresenta a legenda e o gráfico\n",
    "ax.legend()\n",
    "plt.show()\n",
    "mediana, media"
   ]
  },
  {
   "cell_type": "code",
   "execution_count": 48,
   "id": "located-salvation",
   "metadata": {
    "execution": {
     "iopub.execute_input": "2021-04-20T19:03:20.703791Z",
     "iopub.status.busy": "2021-04-20T19:03:20.702617Z",
     "iopub.status.idle": "2021-04-20T19:03:20.714860Z",
     "shell.execute_reply": "2021-04-20T19:03:20.715461Z"
    },
    "papermill": {
     "duration": 0.100503,
     "end_time": "2021-04-20T19:03:20.715638",
     "exception": false,
     "start_time": "2021-04-20T19:03:20.615135",
     "status": "completed"
    },
    "tags": []
   },
   "outputs": [
    {
     "data": {
      "text/plain": [
       "count    88915.000000\n",
       "mean        40.894731\n",
       "std         11.136216\n",
       "min         10.000000\n",
       "25%         32.000000\n",
       "50%         40.000000\n",
       "75%         49.000000\n",
       "max        102.000000\n",
       "Name: idade, dtype: float64"
      ]
     },
     "execution_count": 48,
     "metadata": {},
     "output_type": "execute_result"
    }
   ],
   "source": [
    "vacinacao_saude['idade'].describe()"
   ]
  },
  {
   "cell_type": "code",
   "execution_count": 49,
   "id": "worthy-transmission",
   "metadata": {
    "execution": {
     "iopub.execute_input": "2021-04-20T19:03:20.912432Z",
     "iopub.status.busy": "2021-04-20T19:03:20.910146Z",
     "iopub.status.idle": "2021-04-20T19:03:20.919079Z",
     "shell.execute_reply": "2021-04-20T19:03:20.918269Z"
    },
    "papermill": {
     "duration": 0.121546,
     "end_time": "2021-04-20T19:03:20.919286",
     "exception": false,
     "start_time": "2021-04-20T19:03:20.797740",
     "status": "completed"
    },
    "tags": []
   },
   "outputs": [
    {
     "data": {
      "text/plain": [
       "array([19, 28, 22, 29, 20, 27, 21, 26, 25, 23, 30, 24, 31, 18, 17])"
      ]
     },
     "execution_count": 49,
     "metadata": {},
     "output_type": "execute_result"
    }
   ],
   "source": [
    "janeiro['dia'].unique()"
   ]
  },
  {
   "cell_type": "markdown",
   "id": "funky-manufacturer",
   "metadata": {
    "papermill": {
     "duration": 0.088062,
     "end_time": "2021-04-20T19:03:21.103339",
     "exception": false,
     "start_time": "2021-04-20T19:03:21.015277",
     "status": "completed"
    },
    "tags": []
   },
   "source": [
    "## analisar o df óbito"
   ]
  },
  {
   "cell_type": "markdown",
   "id": "australian-stanley",
   "metadata": {
    "papermill": {
     "duration": 0.085428,
     "end_time": "2021-04-20T19:03:21.274626",
     "exception": false,
     "start_time": "2021-04-20T19:03:21.189198",
     "status": "completed"
    },
    "tags": []
   },
   "source": [
    "## a vacinação começou dia 17/01, p/ analisar se o perfil de idade de obitos mudou dividirei o dado a partir de 7 dias do início da vacinaçao no DF 24/01"
   ]
  },
  {
   "cell_type": "code",
   "execution_count": 50,
   "id": "adolescent-reunion",
   "metadata": {
    "execution": {
     "iopub.execute_input": "2021-04-20T19:03:21.476166Z",
     "iopub.status.busy": "2021-04-20T19:03:21.475118Z",
     "iopub.status.idle": "2021-04-20T19:03:21.480154Z",
     "shell.execute_reply": "2021-04-20T19:03:21.479476Z"
    },
    "papermill": {
     "duration": 0.120228,
     "end_time": "2021-04-20T19:03:21.480296",
     "exception": false,
     "start_time": "2021-04-20T19:03:21.360068",
     "status": "completed"
    },
    "tags": []
   },
   "outputs": [
    {
     "data": {
      "text/html": [
       "<div>\n",
       "<style scoped>\n",
       "    .dataframe tbody tr th:only-of-type {\n",
       "        vertical-align: middle;\n",
       "    }\n",
       "\n",
       "    .dataframe tbody tr th {\n",
       "        vertical-align: top;\n",
       "    }\n",
       "\n",
       "    .dataframe thead th {\n",
       "        text-align: right;\n",
       "    }\n",
       "</style>\n",
       "<table border=\"1\" class=\"dataframe\">\n",
       "  <thead>\n",
       "    <tr style=\"text-align: right;\">\n",
       "      <th></th>\n",
       "      <th>Data Cadastro</th>\n",
       "      <th>Sexo</th>\n",
       "      <th>Faixa Etária</th>\n",
       "      <th>RA</th>\n",
       "      <th>UF</th>\n",
       "      <th>Óbito</th>\n",
       "      <th>dataPrimeirosintomas</th>\n",
       "      <th>Idade</th>\n",
       "      <th>Pneumopatia</th>\n",
       "      <th>Nefropatia</th>\n",
       "      <th>Doença Hematológica</th>\n",
       "      <th>Distúrbios Metabólicos</th>\n",
       "      <th>Imunopressão</th>\n",
       "      <th>Obesidade</th>\n",
       "      <th>Outros</th>\n",
       "      <th>Cardiovasculopatia</th>\n",
       "    </tr>\n",
       "    <tr>\n",
       "      <th>Data</th>\n",
       "      <th></th>\n",
       "      <th></th>\n",
       "      <th></th>\n",
       "      <th></th>\n",
       "      <th></th>\n",
       "      <th></th>\n",
       "      <th></th>\n",
       "      <th></th>\n",
       "      <th></th>\n",
       "      <th></th>\n",
       "      <th></th>\n",
       "      <th></th>\n",
       "      <th></th>\n",
       "      <th></th>\n",
       "      <th></th>\n",
       "      <th></th>\n",
       "    </tr>\n",
       "  </thead>\n",
       "  <tbody>\n",
       "    <tr>\n",
       "      <th>04/04/2021</th>\n",
       "      <td>2020-03-18</td>\n",
       "      <td>Masculino</td>\n",
       "      <td>50 a 59 anos</td>\n",
       "      <td>Plano Piloto</td>\n",
       "      <td>DISTRITO FEDERAL</td>\n",
       "      <td>Não</td>\n",
       "      <td>23/04/2020</td>\n",
       "      <td>54</td>\n",
       "      <td>NaN</td>\n",
       "      <td>NaN</td>\n",
       "      <td>NaN</td>\n",
       "      <td>NaN</td>\n",
       "      <td>NaN</td>\n",
       "      <td>NaN</td>\n",
       "      <td>NaN</td>\n",
       "      <td>NaN</td>\n",
       "    </tr>\n",
       "    <tr>\n",
       "      <th>04/04/2021</th>\n",
       "      <td>2020-03-18</td>\n",
       "      <td>Masculino</td>\n",
       "      <td>50 a 59 anos</td>\n",
       "      <td>Plano Piloto</td>\n",
       "      <td>DISTRITO FEDERAL</td>\n",
       "      <td>Não</td>\n",
       "      <td>03/08/2020</td>\n",
       "      <td>51</td>\n",
       "      <td>NaN</td>\n",
       "      <td>NaN</td>\n",
       "      <td>NaN</td>\n",
       "      <td>NaN</td>\n",
       "      <td>NaN</td>\n",
       "      <td>NaN</td>\n",
       "      <td>NaN</td>\n",
       "      <td>NaN</td>\n",
       "    </tr>\n",
       "    <tr>\n",
       "      <th>04/04/2021</th>\n",
       "      <td>2020-03-18</td>\n",
       "      <td>Masculino</td>\n",
       "      <td>40 a 49 anos</td>\n",
       "      <td>Lago Sul</td>\n",
       "      <td>DISTRITO FEDERAL</td>\n",
       "      <td>Não</td>\n",
       "      <td>09/03/2020</td>\n",
       "      <td>46</td>\n",
       "      <td>NaN</td>\n",
       "      <td>NaN</td>\n",
       "      <td>NaN</td>\n",
       "      <td>NaN</td>\n",
       "      <td>NaN</td>\n",
       "      <td>NaN</td>\n",
       "      <td>NaN</td>\n",
       "      <td>NaN</td>\n",
       "    </tr>\n",
       "    <tr>\n",
       "      <th>04/04/2021</th>\n",
       "      <td>2020-03-18</td>\n",
       "      <td>Masculino</td>\n",
       "      <td>&gt;= 60 anos</td>\n",
       "      <td>Águas Claras</td>\n",
       "      <td>DISTRITO FEDERAL</td>\n",
       "      <td>Não</td>\n",
       "      <td>14/03/2020</td>\n",
       "      <td>63</td>\n",
       "      <td>NaN</td>\n",
       "      <td>NaN</td>\n",
       "      <td>NaN</td>\n",
       "      <td>Sim</td>\n",
       "      <td>NaN</td>\n",
       "      <td>NaN</td>\n",
       "      <td>NaN</td>\n",
       "      <td>Sim</td>\n",
       "    </tr>\n",
       "    <tr>\n",
       "      <th>04/04/2021</th>\n",
       "      <td>2020-03-18</td>\n",
       "      <td>Feminino</td>\n",
       "      <td>20 a 29 anos</td>\n",
       "      <td>Plano Piloto</td>\n",
       "      <td>DISTRITO FEDERAL</td>\n",
       "      <td>Não</td>\n",
       "      <td>14/03/2020</td>\n",
       "      <td>29</td>\n",
       "      <td>NaN</td>\n",
       "      <td>NaN</td>\n",
       "      <td>NaN</td>\n",
       "      <td>NaN</td>\n",
       "      <td>NaN</td>\n",
       "      <td>NaN</td>\n",
       "      <td>NaN</td>\n",
       "      <td>NaN</td>\n",
       "    </tr>\n",
       "    <tr>\n",
       "      <th>...</th>\n",
       "      <td>...</td>\n",
       "      <td>...</td>\n",
       "      <td>...</td>\n",
       "      <td>...</td>\n",
       "      <td>...</td>\n",
       "      <td>...</td>\n",
       "      <td>...</td>\n",
       "      <td>...</td>\n",
       "      <td>...</td>\n",
       "      <td>...</td>\n",
       "      <td>...</td>\n",
       "      <td>...</td>\n",
       "      <td>...</td>\n",
       "      <td>...</td>\n",
       "      <td>...</td>\n",
       "      <td>...</td>\n",
       "    </tr>\n",
       "    <tr>\n",
       "      <th>04/04/2021</th>\n",
       "      <td>04/04/2021</td>\n",
       "      <td>Masculino</td>\n",
       "      <td>&lt;= 19 anos</td>\n",
       "      <td>Taguatinga</td>\n",
       "      <td>DISTRITO FEDERAL</td>\n",
       "      <td>Não</td>\n",
       "      <td>07/03/2021</td>\n",
       "      <td>15</td>\n",
       "      <td>NaN</td>\n",
       "      <td>NaN</td>\n",
       "      <td>NaN</td>\n",
       "      <td>NaN</td>\n",
       "      <td>NaN</td>\n",
       "      <td>Sim</td>\n",
       "      <td>NaN</td>\n",
       "      <td>NaN</td>\n",
       "    </tr>\n",
       "    <tr>\n",
       "      <th>04/04/2021</th>\n",
       "      <td>04/04/2021</td>\n",
       "      <td>Feminino</td>\n",
       "      <td>20 a 29 anos</td>\n",
       "      <td>Ceilândia</td>\n",
       "      <td>DISTRITO FEDERAL</td>\n",
       "      <td>Não</td>\n",
       "      <td>15/03/2021</td>\n",
       "      <td>25</td>\n",
       "      <td>NaN</td>\n",
       "      <td>NaN</td>\n",
       "      <td>NaN</td>\n",
       "      <td>NaN</td>\n",
       "      <td>NaN</td>\n",
       "      <td>NaN</td>\n",
       "      <td>NaN</td>\n",
       "      <td>NaN</td>\n",
       "    </tr>\n",
       "    <tr>\n",
       "      <th>04/04/2021</th>\n",
       "      <td>04/04/2021</td>\n",
       "      <td>Masculino</td>\n",
       "      <td>20 a 29 anos</td>\n",
       "      <td>Guará</td>\n",
       "      <td>DISTRITO FEDERAL</td>\n",
       "      <td>Não</td>\n",
       "      <td>08/02/2021</td>\n",
       "      <td>29</td>\n",
       "      <td>NaN</td>\n",
       "      <td>NaN</td>\n",
       "      <td>NaN</td>\n",
       "      <td>NaN</td>\n",
       "      <td>NaN</td>\n",
       "      <td>NaN</td>\n",
       "      <td>NaN</td>\n",
       "      <td>NaN</td>\n",
       "    </tr>\n",
       "    <tr>\n",
       "      <th>04/04/2021</th>\n",
       "      <td>04/04/2021</td>\n",
       "      <td>Feminino</td>\n",
       "      <td>&lt;= 19 anos</td>\n",
       "      <td>Sobradinho</td>\n",
       "      <td>DISTRITO FEDERAL</td>\n",
       "      <td>Não</td>\n",
       "      <td>06/03/2021</td>\n",
       "      <td>2</td>\n",
       "      <td>NaN</td>\n",
       "      <td>NaN</td>\n",
       "      <td>NaN</td>\n",
       "      <td>NaN</td>\n",
       "      <td>NaN</td>\n",
       "      <td>NaN</td>\n",
       "      <td>NaN</td>\n",
       "      <td>NaN</td>\n",
       "    </tr>\n",
       "    <tr>\n",
       "      <th>04/04/2021</th>\n",
       "      <td>04/04/2021</td>\n",
       "      <td>Feminino</td>\n",
       "      <td>20 a 29 anos</td>\n",
       "      <td>Varjão</td>\n",
       "      <td>DISTRITO FEDERAL</td>\n",
       "      <td>Não</td>\n",
       "      <td>26/02/2021</td>\n",
       "      <td>24</td>\n",
       "      <td>NaN</td>\n",
       "      <td>NaN</td>\n",
       "      <td>NaN</td>\n",
       "      <td>NaN</td>\n",
       "      <td>NaN</td>\n",
       "      <td>NaN</td>\n",
       "      <td>NaN</td>\n",
       "      <td>NaN</td>\n",
       "    </tr>\n",
       "  </tbody>\n",
       "</table>\n",
       "<p>349775 rows × 16 columns</p>\n",
       "</div>"
      ],
      "text/plain": [
       "           Data Cadastro       Sexo  Faixa Etária            RA  \\\n",
       "Data                                                              \n",
       "04/04/2021    2020-03-18  Masculino  50 a 59 anos  Plano Piloto   \n",
       "04/04/2021    2020-03-18  Masculino  50 a 59 anos  Plano Piloto   \n",
       "04/04/2021    2020-03-18  Masculino  40 a 49 anos      Lago Sul   \n",
       "04/04/2021    2020-03-18  Masculino    >= 60 anos  Águas Claras   \n",
       "04/04/2021    2020-03-18   Feminino  20 a 29 anos  Plano Piloto   \n",
       "...                  ...        ...           ...           ...   \n",
       "04/04/2021    04/04/2021  Masculino    <= 19 anos    Taguatinga   \n",
       "04/04/2021    04/04/2021   Feminino  20 a 29 anos     Ceilândia   \n",
       "04/04/2021    04/04/2021  Masculino  20 a 29 anos         Guará   \n",
       "04/04/2021    04/04/2021   Feminino    <= 19 anos    Sobradinho   \n",
       "04/04/2021    04/04/2021   Feminino  20 a 29 anos        Varjão   \n",
       "\n",
       "                          UF Óbito dataPrimeirosintomas  Idade Pneumopatia  \\\n",
       "Data                                                                         \n",
       "04/04/2021  DISTRITO FEDERAL   Não           23/04/2020     54         NaN   \n",
       "04/04/2021  DISTRITO FEDERAL   Não           03/08/2020     51         NaN   \n",
       "04/04/2021  DISTRITO FEDERAL   Não           09/03/2020     46         NaN   \n",
       "04/04/2021  DISTRITO FEDERAL   Não           14/03/2020     63         NaN   \n",
       "04/04/2021  DISTRITO FEDERAL   Não           14/03/2020     29         NaN   \n",
       "...                      ...   ...                  ...    ...         ...   \n",
       "04/04/2021  DISTRITO FEDERAL   Não           07/03/2021     15         NaN   \n",
       "04/04/2021  DISTRITO FEDERAL   Não           15/03/2021     25         NaN   \n",
       "04/04/2021  DISTRITO FEDERAL   Não           08/02/2021     29         NaN   \n",
       "04/04/2021  DISTRITO FEDERAL   Não           06/03/2021      2         NaN   \n",
       "04/04/2021  DISTRITO FEDERAL   Não           26/02/2021     24         NaN   \n",
       "\n",
       "           Nefropatia Doença Hematológica Distúrbios Metabólicos Imunopressão  \\\n",
       "Data                                                                            \n",
       "04/04/2021        NaN                 NaN                    NaN          NaN   \n",
       "04/04/2021        NaN                 NaN                    NaN          NaN   \n",
       "04/04/2021        NaN                 NaN                    NaN          NaN   \n",
       "04/04/2021        NaN                 NaN                    Sim          NaN   \n",
       "04/04/2021        NaN                 NaN                    NaN          NaN   \n",
       "...               ...                 ...                    ...          ...   \n",
       "04/04/2021        NaN                 NaN                    NaN          NaN   \n",
       "04/04/2021        NaN                 NaN                    NaN          NaN   \n",
       "04/04/2021        NaN                 NaN                    NaN          NaN   \n",
       "04/04/2021        NaN                 NaN                    NaN          NaN   \n",
       "04/04/2021        NaN                 NaN                    NaN          NaN   \n",
       "\n",
       "           Obesidade Outros Cardiovasculopatia  \n",
       "Data                                            \n",
       "04/04/2021       NaN    NaN                NaN  \n",
       "04/04/2021       NaN    NaN                NaN  \n",
       "04/04/2021       NaN    NaN                NaN  \n",
       "04/04/2021       NaN    NaN                Sim  \n",
       "04/04/2021       NaN    NaN                NaN  \n",
       "...              ...    ...                ...  \n",
       "04/04/2021       Sim    NaN                NaN  \n",
       "04/04/2021       NaN    NaN                NaN  \n",
       "04/04/2021       NaN    NaN                NaN  \n",
       "04/04/2021       NaN    NaN                NaN  \n",
       "04/04/2021       NaN    NaN                NaN  \n",
       "\n",
       "[349775 rows x 16 columns]"
      ]
     },
     "execution_count": 50,
     "metadata": {},
     "output_type": "execute_result"
    }
   ],
   "source": [
    "obitodf"
   ]
  },
  {
   "cell_type": "code",
   "execution_count": 51,
   "id": "nearby-maldives",
   "metadata": {
    "execution": {
     "iopub.execute_input": "2021-04-20T19:03:21.695837Z",
     "iopub.status.busy": "2021-04-20T19:03:21.694733Z",
     "iopub.status.idle": "2021-04-20T19:03:21.699962Z",
     "shell.execute_reply": "2021-04-20T19:03:21.700584Z"
    },
    "papermill": {
     "duration": 0.132941,
     "end_time": "2021-04-20T19:03:21.700782",
     "exception": false,
     "start_time": "2021-04-20T19:03:21.567841",
     "status": "completed"
    },
    "tags": []
   },
   "outputs": [
    {
     "data": {
      "text/plain": [
       "array(['DISTRITO FEDERAL', 'SÃO PAULO', 'RIO DE JANEIRO', 'MINAS GERAIS',\n",
       "       'SANTA CATARINA', 'AMAPÁ', 'PARANÁ', 'PARAÍBA', 'GOIÁS', 'ACRE',\n",
       "       'BAHIA', 'MARANHÃO', 'TOCANTINS', 'PARÁ', 'PERNAMBUCO', 'PIAUÍ',\n",
       "       nan, ' ', 'RIO GRANDE DO SUL', 'ESPÍRITO SANTO',\n",
       "       'MATO GROSSO DO SUL', 'AMAZONAS', 'RORAIMA', 'RIO GRANDE DO NORTE',\n",
       "       'CEARÁ', 'RONDÔNIA', 'ALAGOAS', 'MATO GROSSO', 'SERGIPE'],\n",
       "      dtype=object)"
      ]
     },
     "execution_count": 51,
     "metadata": {},
     "output_type": "execute_result"
    }
   ],
   "source": [
    "obitodf['UF'].unique()"
   ]
  },
  {
   "cell_type": "code",
   "execution_count": 52,
   "id": "universal-wagon",
   "metadata": {
    "execution": {
     "iopub.execute_input": "2021-04-20T19:03:21.877559Z",
     "iopub.status.busy": "2021-04-20T19:03:21.876851Z",
     "iopub.status.idle": "2021-04-20T19:03:22.251166Z",
     "shell.execute_reply": "2021-04-20T19:03:22.251845Z"
    },
    "papermill": {
     "duration": 0.465295,
     "end_time": "2021-04-20T19:03:22.252113",
     "exception": false,
     "start_time": "2021-04-20T19:03:21.786818",
     "status": "completed"
    },
    "tags": []
   },
   "outputs": [
    {
     "name": "stdout",
     "output_type": "stream",
     "text": [
      "<class 'pandas.core.frame.DataFrame'>\n",
      "Index: 349775 entries, 04/04/2021 to 04/04/2021\n",
      "Data columns (total 16 columns):\n",
      " #   Column                  Non-Null Count   Dtype \n",
      "---  ------                  --------------   ----- \n",
      " 0   Data Cadastro           349724 non-null  object\n",
      " 1   Sexo                    349775 non-null  object\n",
      " 2   Faixa Etária            349775 non-null  object\n",
      " 3   RA                      335603 non-null  object\n",
      " 4   UF                      334618 non-null  object\n",
      " 5   Óbito                   349775 non-null  object\n",
      " 6   dataPrimeirosintomas    349775 non-null  object\n",
      " 7   Idade                   349775 non-null  int64 \n",
      " 8   Pneumopatia             4968 non-null    object\n",
      " 9   Nefropatia              2102 non-null    object\n",
      " 10  Doença Hematológica     1055 non-null    object\n",
      " 11  Distúrbios Metabólicos  9734 non-null    object\n",
      " 12  Imunopressão            2692 non-null    object\n",
      " 13  Obesidade               2939 non-null    object\n",
      " 14  Outros                  2506 non-null    object\n",
      " 15  Cardiovasculopatia      14603 non-null   object\n",
      "dtypes: int64(1), object(15)\n",
      "memory usage: 45.4+ MB\n"
     ]
    }
   ],
   "source": [
    "obitodf.info()"
   ]
  },
  {
   "cell_type": "code",
   "execution_count": 53,
   "id": "welcome-highland",
   "metadata": {
    "execution": {
     "iopub.execute_input": "2021-04-20T19:03:22.485375Z",
     "iopub.status.busy": "2021-04-20T19:03:22.484514Z",
     "iopub.status.idle": "2021-04-20T19:03:22.542065Z",
     "shell.execute_reply": "2021-04-20T19:03:22.541340Z"
    },
    "papermill": {
     "duration": 0.202645,
     "end_time": "2021-04-20T19:03:22.542212",
     "exception": false,
     "start_time": "2021-04-20T19:03:22.339567",
     "status": "completed"
    },
    "tags": []
   },
   "outputs": [],
   "source": [
    "# selecionando quem mora no DF\n",
    "obitodf=obitodf[obitodf['UF'] == 'DISTRITO FEDERAL']"
   ]
  },
  {
   "cell_type": "code",
   "execution_count": 54,
   "id": "ideal-bleeding",
   "metadata": {
    "execution": {
     "iopub.execute_input": "2021-04-20T19:03:22.758543Z",
     "iopub.status.busy": "2021-04-20T19:03:22.757815Z",
     "iopub.status.idle": "2021-04-20T19:03:23.207280Z",
     "shell.execute_reply": "2021-04-20T19:03:23.206666Z"
    },
    "papermill": {
     "duration": 0.577508,
     "end_time": "2021-04-20T19:03:23.207428",
     "exception": false,
     "start_time": "2021-04-20T19:03:22.629920",
     "status": "completed"
    },
    "tags": []
   },
   "outputs": [
    {
     "data": {
      "image/png": "[encoded data removed]",
      "text/plain": [
       "<Figure size 432x288 with 1 Axes>"
      ]
     },
     "metadata": {
      "needs_background": "light"
     },
     "output_type": "display_data"
    }
   ],
   "source": [
    "ax= sns.countplot(x='Óbito',data=obitodf)\n",
    "\n",
    "ax.set_title('Sobreviveu a Covid-19?', y=1.03)\n",
    "sns.despine(left=True, bottom=True) #retirando os eixos\n",
    "ax.set(xlabel='',\n",
    "            ylabel='')\n",
    "\n",
    "total = len(obitodf['Óbito'])*1.\n",
    "for p in ax.patches:\n",
    "    percentage = '{:.1f}%'.format(100 * p.get_height()/total)\n",
    "    x = p.get_x() + 0.3\n",
    "    y = p.get_y() + p.get_height() + 1000\n",
    "    ax.annotate(percentage, (x, y))\n",
    "\n",
    "ax.axes.get_yaxis().set_visible(False) #tornando os valores do eixo y invisivel\n",
    "plt.xticks(np.arange(2), ['Sim', 'Não'])\n",
    "plt.show()"
   ]
  },
  {
   "cell_type": "code",
   "execution_count": 55,
   "id": "civil-system",
   "metadata": {
    "execution": {
     "iopub.execute_input": "2021-04-20T19:03:23.408156Z",
     "iopub.status.busy": "2021-04-20T19:03:23.395562Z",
     "iopub.status.idle": "2021-04-20T19:03:23.522296Z",
     "shell.execute_reply": "2021-04-20T19:03:23.521677Z"
    },
    "papermill": {
     "duration": 0.227194,
     "end_time": "2021-04-20T19:03:23.522480",
     "exception": false,
     "start_time": "2021-04-20T19:03:23.295286",
     "status": "completed"
    },
    "tags": []
   },
   "outputs": [],
   "source": [
    "obitodf['dataPrimeirosintomas']= pd.to_datetime(obitodf['dataPrimeirosintomas'], format=\"%d/%m/%Y\")"
   ]
  },
  {
   "cell_type": "code",
   "execution_count": 56,
   "id": "casual-logging",
   "metadata": {
    "execution": {
     "iopub.execute_input": "2021-04-20T19:03:23.706290Z",
     "iopub.status.busy": "2021-04-20T19:03:23.705633Z",
     "iopub.status.idle": "2021-04-20T19:03:23.798391Z",
     "shell.execute_reply": "2021-04-20T19:03:23.798942Z"
    },
    "papermill": {
     "duration": 0.187468,
     "end_time": "2021-04-20T19:03:23.799182",
     "exception": false,
     "start_time": "2021-04-20T19:03:23.611714",
     "status": "completed"
    },
    "tags": []
   },
   "outputs": [],
   "source": [
    "obitodf['ano'] = obitodf['dataPrimeirosintomas'].dt.year\n",
    "obitodf['mes'] = obitodf['dataPrimeirosintomas'].dt.month\n",
    "obitodf['dia'] = obitodf['dataPrimeirosintomas'].dt.day"
   ]
  },
  {
   "cell_type": "code",
   "execution_count": 57,
   "id": "together-maple",
   "metadata": {
    "execution": {
     "iopub.execute_input": "2021-04-20T19:03:23.985266Z",
     "iopub.status.busy": "2021-04-20T19:03:23.984487Z",
     "iopub.status.idle": "2021-04-20T19:03:23.992532Z",
     "shell.execute_reply": "2021-04-20T19:03:23.991934Z"
    },
    "papermill": {
     "duration": 0.103621,
     "end_time": "2021-04-20T19:03:23.992684",
     "exception": false,
     "start_time": "2021-04-20T19:03:23.889063",
     "status": "completed"
    },
    "tags": []
   },
   "outputs": [
    {
     "data": {
      "text/plain": [
       "array([ 4,  8,  3,  2,  5,  6,  7, 10, 12,  9,  1, 11])"
      ]
     },
     "execution_count": 57,
     "metadata": {},
     "output_type": "execute_result"
    }
   ],
   "source": [
    "obitodf['mes'].unique()"
   ]
  },
  {
   "cell_type": "code",
   "execution_count": 58,
   "id": "artificial-browser",
   "metadata": {
    "execution": {
     "iopub.execute_input": "2021-04-20T19:03:24.182042Z",
     "iopub.status.busy": "2021-04-20T19:03:24.181317Z",
     "iopub.status.idle": "2021-04-20T19:03:24.203972Z",
     "shell.execute_reply": "2021-04-20T19:03:24.204462Z"
    },
    "papermill": {
     "duration": 0.119601,
     "end_time": "2021-04-20T19:03:24.204647",
     "exception": false,
     "start_time": "2021-04-20T19:03:24.085046",
     "status": "completed"
    },
    "tags": []
   },
   "outputs": [
    {
     "data": {
      "text/html": [
       "<div>\n",
       "<style scoped>\n",
       "    .dataframe tbody tr th:only-of-type {\n",
       "        vertical-align: middle;\n",
       "    }\n",
       "\n",
       "    .dataframe tbody tr th {\n",
       "        vertical-align: top;\n",
       "    }\n",
       "\n",
       "    .dataframe thead th {\n",
       "        text-align: right;\n",
       "    }\n",
       "</style>\n",
       "<table border=\"1\" class=\"dataframe\">\n",
       "  <thead>\n",
       "    <tr style=\"text-align: right;\">\n",
       "      <th></th>\n",
       "      <th>Data Cadastro</th>\n",
       "      <th>Sexo</th>\n",
       "      <th>Faixa Etária</th>\n",
       "      <th>RA</th>\n",
       "      <th>UF</th>\n",
       "      <th>Óbito</th>\n",
       "      <th>dataPrimeirosintomas</th>\n",
       "      <th>Idade</th>\n",
       "      <th>Pneumopatia</th>\n",
       "      <th>Nefropatia</th>\n",
       "      <th>Doença Hematológica</th>\n",
       "      <th>Distúrbios Metabólicos</th>\n",
       "      <th>Imunopressão</th>\n",
       "      <th>Obesidade</th>\n",
       "      <th>Outros</th>\n",
       "      <th>Cardiovasculopatia</th>\n",
       "      <th>ano</th>\n",
       "      <th>mes</th>\n",
       "      <th>dia</th>\n",
       "    </tr>\n",
       "    <tr>\n",
       "      <th>Data</th>\n",
       "      <th></th>\n",
       "      <th></th>\n",
       "      <th></th>\n",
       "      <th></th>\n",
       "      <th></th>\n",
       "      <th></th>\n",
       "      <th></th>\n",
       "      <th></th>\n",
       "      <th></th>\n",
       "      <th></th>\n",
       "      <th></th>\n",
       "      <th></th>\n",
       "      <th></th>\n",
       "      <th></th>\n",
       "      <th></th>\n",
       "      <th></th>\n",
       "      <th></th>\n",
       "      <th></th>\n",
       "      <th></th>\n",
       "    </tr>\n",
       "  </thead>\n",
       "  <tbody>\n",
       "  </tbody>\n",
       "</table>\n",
       "</div>"
      ],
      "text/plain": [
       "Empty DataFrame\n",
       "Columns: [Data Cadastro, Sexo, Faixa Etária, RA, UF, Óbito, dataPrimeirosintomas, Idade, Pneumopatia, Nefropatia, Doença Hematológica, Distúrbios Metabólicos, Imunopressão, Obesidade, Outros, Cardiovasculopatia, ano, mes, dia]\n",
       "Index: []"
      ]
     },
     "execution_count": 58,
     "metadata": {},
     "output_type": "execute_result"
    }
   ],
   "source": [
    "#tirando datas que ainda nao passaram em 2021 para virar 2020\n",
    "obitodf.loc[(obitodf['ano'] >= 2021) & (obitodf['mes']>= 5)] "
   ]
  },
  {
   "cell_type": "code",
   "execution_count": 59,
   "id": "fuzzy-accident",
   "metadata": {
    "execution": {
     "iopub.execute_input": "2021-04-20T19:03:24.421216Z",
     "iopub.status.busy": "2021-04-20T19:03:24.420445Z",
     "iopub.status.idle": "2021-04-20T19:03:24.432203Z",
     "shell.execute_reply": "2021-04-20T19:03:24.431657Z"
    },
    "papermill": {
     "duration": 0.134394,
     "end_time": "2021-04-20T19:03:24.432354",
     "exception": false,
     "start_time": "2021-04-20T19:03:24.297960",
     "status": "completed"
    },
    "tags": []
   },
   "outputs": [
    {
     "data": {
      "text/plain": [
       "3"
      ]
     },
     "execution_count": 59,
     "metadata": {},
     "output_type": "execute_result"
    }
   ],
   "source": [
    "obito_abril=obitodf[(obitodf['ano'] == 2021) & (obitodf['mes']== 4)]\n",
    "obito_abril['dia'].max()"
   ]
  },
  {
   "cell_type": "markdown",
   "id": "eight-swaziland",
   "metadata": {
    "papermill": {
     "duration": 0.091129,
     "end_time": "2021-04-20T19:03:24.613057",
     "exception": false,
     "start_time": "2021-04-20T19:03:24.521928",
     "status": "completed"
    },
    "tags": []
   },
   "source": [
    "## ultimo dado do df óbito é em 3/4/2021"
   ]
  },
  {
   "cell_type": "code",
   "execution_count": 60,
   "id": "hundred-circle",
   "metadata": {
    "execution": {
     "iopub.execute_input": "2021-04-20T19:03:24.830383Z",
     "iopub.status.busy": "2021-04-20T19:03:24.829693Z",
     "iopub.status.idle": "2021-04-20T19:03:24.835789Z",
     "shell.execute_reply": "2021-04-20T19:03:24.835146Z"
    },
    "papermill": {
     "duration": 0.131152,
     "end_time": "2021-04-20T19:03:24.835952",
     "exception": false,
     "start_time": "2021-04-20T19:03:24.704800",
     "status": "completed"
    },
    "tags": []
   },
   "outputs": [
    {
     "data": {
      "text/html": [
       "<div>\n",
       "<style scoped>\n",
       "    .dataframe tbody tr th:only-of-type {\n",
       "        vertical-align: middle;\n",
       "    }\n",
       "\n",
       "    .dataframe tbody tr th {\n",
       "        vertical-align: top;\n",
       "    }\n",
       "\n",
       "    .dataframe thead th {\n",
       "        text-align: right;\n",
       "    }\n",
       "</style>\n",
       "<table border=\"1\" class=\"dataframe\">\n",
       "  <thead>\n",
       "    <tr style=\"text-align: right;\">\n",
       "      <th></th>\n",
       "      <th>Data Cadastro</th>\n",
       "      <th>Sexo</th>\n",
       "      <th>Faixa Etária</th>\n",
       "      <th>RA</th>\n",
       "      <th>UF</th>\n",
       "      <th>Óbito</th>\n",
       "      <th>dataPrimeirosintomas</th>\n",
       "      <th>Idade</th>\n",
       "      <th>Pneumopatia</th>\n",
       "      <th>Nefropatia</th>\n",
       "      <th>Doença Hematológica</th>\n",
       "      <th>Distúrbios Metabólicos</th>\n",
       "      <th>Imunopressão</th>\n",
       "      <th>Obesidade</th>\n",
       "      <th>Outros</th>\n",
       "      <th>Cardiovasculopatia</th>\n",
       "      <th>ano</th>\n",
       "      <th>mes</th>\n",
       "      <th>dia</th>\n",
       "    </tr>\n",
       "    <tr>\n",
       "      <th>Data</th>\n",
       "      <th></th>\n",
       "      <th></th>\n",
       "      <th></th>\n",
       "      <th></th>\n",
       "      <th></th>\n",
       "      <th></th>\n",
       "      <th></th>\n",
       "      <th></th>\n",
       "      <th></th>\n",
       "      <th></th>\n",
       "      <th></th>\n",
       "      <th></th>\n",
       "      <th></th>\n",
       "      <th></th>\n",
       "      <th></th>\n",
       "      <th></th>\n",
       "      <th></th>\n",
       "      <th></th>\n",
       "      <th></th>\n",
       "    </tr>\n",
       "  </thead>\n",
       "  <tbody>\n",
       "    <tr>\n",
       "      <th>04/04/2021</th>\n",
       "      <td>2020-03-18</td>\n",
       "      <td>Masculino</td>\n",
       "      <td>50 a 59 anos</td>\n",
       "      <td>Plano Piloto</td>\n",
       "      <td>DISTRITO FEDERAL</td>\n",
       "      <td>Não</td>\n",
       "      <td>2020-04-23</td>\n",
       "      <td>54</td>\n",
       "      <td>NaN</td>\n",
       "      <td>NaN</td>\n",
       "      <td>NaN</td>\n",
       "      <td>NaN</td>\n",
       "      <td>NaN</td>\n",
       "      <td>NaN</td>\n",
       "      <td>NaN</td>\n",
       "      <td>NaN</td>\n",
       "      <td>2020</td>\n",
       "      <td>4</td>\n",
       "      <td>23</td>\n",
       "    </tr>\n",
       "    <tr>\n",
       "      <th>04/04/2021</th>\n",
       "      <td>2020-03-18</td>\n",
       "      <td>Masculino</td>\n",
       "      <td>50 a 59 anos</td>\n",
       "      <td>Plano Piloto</td>\n",
       "      <td>DISTRITO FEDERAL</td>\n",
       "      <td>Não</td>\n",
       "      <td>2020-08-03</td>\n",
       "      <td>51</td>\n",
       "      <td>NaN</td>\n",
       "      <td>NaN</td>\n",
       "      <td>NaN</td>\n",
       "      <td>NaN</td>\n",
       "      <td>NaN</td>\n",
       "      <td>NaN</td>\n",
       "      <td>NaN</td>\n",
       "      <td>NaN</td>\n",
       "      <td>2020</td>\n",
       "      <td>8</td>\n",
       "      <td>3</td>\n",
       "    </tr>\n",
       "    <tr>\n",
       "      <th>04/04/2021</th>\n",
       "      <td>2020-03-18</td>\n",
       "      <td>Masculino</td>\n",
       "      <td>40 a 49 anos</td>\n",
       "      <td>Lago Sul</td>\n",
       "      <td>DISTRITO FEDERAL</td>\n",
       "      <td>Não</td>\n",
       "      <td>2020-03-09</td>\n",
       "      <td>46</td>\n",
       "      <td>NaN</td>\n",
       "      <td>NaN</td>\n",
       "      <td>NaN</td>\n",
       "      <td>NaN</td>\n",
       "      <td>NaN</td>\n",
       "      <td>NaN</td>\n",
       "      <td>NaN</td>\n",
       "      <td>NaN</td>\n",
       "      <td>2020</td>\n",
       "      <td>3</td>\n",
       "      <td>9</td>\n",
       "    </tr>\n",
       "    <tr>\n",
       "      <th>04/04/2021</th>\n",
       "      <td>2020-03-18</td>\n",
       "      <td>Masculino</td>\n",
       "      <td>&gt;= 60 anos</td>\n",
       "      <td>Águas Claras</td>\n",
       "      <td>DISTRITO FEDERAL</td>\n",
       "      <td>Não</td>\n",
       "      <td>2020-03-14</td>\n",
       "      <td>63</td>\n",
       "      <td>NaN</td>\n",
       "      <td>NaN</td>\n",
       "      <td>NaN</td>\n",
       "      <td>Sim</td>\n",
       "      <td>NaN</td>\n",
       "      <td>NaN</td>\n",
       "      <td>NaN</td>\n",
       "      <td>Sim</td>\n",
       "      <td>2020</td>\n",
       "      <td>3</td>\n",
       "      <td>14</td>\n",
       "    </tr>\n",
       "    <tr>\n",
       "      <th>04/04/2021</th>\n",
       "      <td>2020-03-18</td>\n",
       "      <td>Feminino</td>\n",
       "      <td>20 a 29 anos</td>\n",
       "      <td>Plano Piloto</td>\n",
       "      <td>DISTRITO FEDERAL</td>\n",
       "      <td>Não</td>\n",
       "      <td>2020-03-14</td>\n",
       "      <td>29</td>\n",
       "      <td>NaN</td>\n",
       "      <td>NaN</td>\n",
       "      <td>NaN</td>\n",
       "      <td>NaN</td>\n",
       "      <td>NaN</td>\n",
       "      <td>NaN</td>\n",
       "      <td>NaN</td>\n",
       "      <td>NaN</td>\n",
       "      <td>2020</td>\n",
       "      <td>3</td>\n",
       "      <td>14</td>\n",
       "    </tr>\n",
       "    <tr>\n",
       "      <th>...</th>\n",
       "      <td>...</td>\n",
       "      <td>...</td>\n",
       "      <td>...</td>\n",
       "      <td>...</td>\n",
       "      <td>...</td>\n",
       "      <td>...</td>\n",
       "      <td>...</td>\n",
       "      <td>...</td>\n",
       "      <td>...</td>\n",
       "      <td>...</td>\n",
       "      <td>...</td>\n",
       "      <td>...</td>\n",
       "      <td>...</td>\n",
       "      <td>...</td>\n",
       "      <td>...</td>\n",
       "      <td>...</td>\n",
       "      <td>...</td>\n",
       "      <td>...</td>\n",
       "      <td>...</td>\n",
       "    </tr>\n",
       "    <tr>\n",
       "      <th>04/04/2021</th>\n",
       "      <td>04/04/2021</td>\n",
       "      <td>Masculino</td>\n",
       "      <td>&lt;= 19 anos</td>\n",
       "      <td>Taguatinga</td>\n",
       "      <td>DISTRITO FEDERAL</td>\n",
       "      <td>Não</td>\n",
       "      <td>2021-03-07</td>\n",
       "      <td>15</td>\n",
       "      <td>NaN</td>\n",
       "      <td>NaN</td>\n",
       "      <td>NaN</td>\n",
       "      <td>NaN</td>\n",
       "      <td>NaN</td>\n",
       "      <td>Sim</td>\n",
       "      <td>NaN</td>\n",
       "      <td>NaN</td>\n",
       "      <td>2021</td>\n",
       "      <td>3</td>\n",
       "      <td>7</td>\n",
       "    </tr>\n",
       "    <tr>\n",
       "      <th>04/04/2021</th>\n",
       "      <td>04/04/2021</td>\n",
       "      <td>Feminino</td>\n",
       "      <td>20 a 29 anos</td>\n",
       "      <td>Ceilândia</td>\n",
       "      <td>DISTRITO FEDERAL</td>\n",
       "      <td>Não</td>\n",
       "      <td>2021-03-15</td>\n",
       "      <td>25</td>\n",
       "      <td>NaN</td>\n",
       "      <td>NaN</td>\n",
       "      <td>NaN</td>\n",
       "      <td>NaN</td>\n",
       "      <td>NaN</td>\n",
       "      <td>NaN</td>\n",
       "      <td>NaN</td>\n",
       "      <td>NaN</td>\n",
       "      <td>2021</td>\n",
       "      <td>3</td>\n",
       "      <td>15</td>\n",
       "    </tr>\n",
       "    <tr>\n",
       "      <th>04/04/2021</th>\n",
       "      <td>04/04/2021</td>\n",
       "      <td>Masculino</td>\n",
       "      <td>20 a 29 anos</td>\n",
       "      <td>Guará</td>\n",
       "      <td>DISTRITO FEDERAL</td>\n",
       "      <td>Não</td>\n",
       "      <td>2021-02-08</td>\n",
       "      <td>29</td>\n",
       "      <td>NaN</td>\n",
       "      <td>NaN</td>\n",
       "      <td>NaN</td>\n",
       "      <td>NaN</td>\n",
       "      <td>NaN</td>\n",
       "      <td>NaN</td>\n",
       "      <td>NaN</td>\n",
       "      <td>NaN</td>\n",
       "      <td>2021</td>\n",
       "      <td>2</td>\n",
       "      <td>8</td>\n",
       "    </tr>\n",
       "    <tr>\n",
       "      <th>04/04/2021</th>\n",
       "      <td>04/04/2021</td>\n",
       "      <td>Feminino</td>\n",
       "      <td>&lt;= 19 anos</td>\n",
       "      <td>Sobradinho</td>\n",
       "      <td>DISTRITO FEDERAL</td>\n",
       "      <td>Não</td>\n",
       "      <td>2021-03-06</td>\n",
       "      <td>2</td>\n",
       "      <td>NaN</td>\n",
       "      <td>NaN</td>\n",
       "      <td>NaN</td>\n",
       "      <td>NaN</td>\n",
       "      <td>NaN</td>\n",
       "      <td>NaN</td>\n",
       "      <td>NaN</td>\n",
       "      <td>NaN</td>\n",
       "      <td>2021</td>\n",
       "      <td>3</td>\n",
       "      <td>6</td>\n",
       "    </tr>\n",
       "    <tr>\n",
       "      <th>04/04/2021</th>\n",
       "      <td>04/04/2021</td>\n",
       "      <td>Feminino</td>\n",
       "      <td>20 a 29 anos</td>\n",
       "      <td>Varjão</td>\n",
       "      <td>DISTRITO FEDERAL</td>\n",
       "      <td>Não</td>\n",
       "      <td>2021-02-26</td>\n",
       "      <td>24</td>\n",
       "      <td>NaN</td>\n",
       "      <td>NaN</td>\n",
       "      <td>NaN</td>\n",
       "      <td>NaN</td>\n",
       "      <td>NaN</td>\n",
       "      <td>NaN</td>\n",
       "      <td>NaN</td>\n",
       "      <td>NaN</td>\n",
       "      <td>2021</td>\n",
       "      <td>2</td>\n",
       "      <td>26</td>\n",
       "    </tr>\n",
       "  </tbody>\n",
       "</table>\n",
       "<p>306766 rows × 19 columns</p>\n",
       "</div>"
      ],
      "text/plain": [
       "           Data Cadastro       Sexo  Faixa Etária            RA  \\\n",
       "Data                                                              \n",
       "04/04/2021    2020-03-18  Masculino  50 a 59 anos  Plano Piloto   \n",
       "04/04/2021    2020-03-18  Masculino  50 a 59 anos  Plano Piloto   \n",
       "04/04/2021    2020-03-18  Masculino  40 a 49 anos      Lago Sul   \n",
       "04/04/2021    2020-03-18  Masculino    >= 60 anos  Águas Claras   \n",
       "04/04/2021    2020-03-18   Feminino  20 a 29 anos  Plano Piloto   \n",
       "...                  ...        ...           ...           ...   \n",
       "04/04/2021    04/04/2021  Masculino    <= 19 anos    Taguatinga   \n",
       "04/04/2021    04/04/2021   Feminino  20 a 29 anos     Ceilândia   \n",
       "04/04/2021    04/04/2021  Masculino  20 a 29 anos         Guará   \n",
       "04/04/2021    04/04/2021   Feminino    <= 19 anos    Sobradinho   \n",
       "04/04/2021    04/04/2021   Feminino  20 a 29 anos        Varjão   \n",
       "\n",
       "                          UF Óbito dataPrimeirosintomas  Idade Pneumopatia  \\\n",
       "Data                                                                         \n",
       "04/04/2021  DISTRITO FEDERAL   Não           2020-04-23     54         NaN   \n",
       "04/04/2021  DISTRITO FEDERAL   Não           2020-08-03     51         NaN   \n",
       "04/04/2021  DISTRITO FEDERAL   Não           2020-03-09     46         NaN   \n",
       "04/04/2021  DISTRITO FEDERAL   Não           2020-03-14     63         NaN   \n",
       "04/04/2021  DISTRITO FEDERAL   Não           2020-03-14     29         NaN   \n",
       "...                      ...   ...                  ...    ...         ...   \n",
       "04/04/2021  DISTRITO FEDERAL   Não           2021-03-07     15         NaN   \n",
       "04/04/2021  DISTRITO FEDERAL   Não           2021-03-15     25         NaN   \n",
       "04/04/2021  DISTRITO FEDERAL   Não           2021-02-08     29         NaN   \n",
       "04/04/2021  DISTRITO FEDERAL   Não           2021-03-06      2         NaN   \n",
       "04/04/2021  DISTRITO FEDERAL   Não           2021-02-26     24         NaN   \n",
       "\n",
       "           Nefropatia Doença Hematológica Distúrbios Metabólicos Imunopressão  \\\n",
       "Data                                                                            \n",
       "04/04/2021        NaN                 NaN                    NaN          NaN   \n",
       "04/04/2021        NaN                 NaN                    NaN          NaN   \n",
       "04/04/2021        NaN                 NaN                    NaN          NaN   \n",
       "04/04/2021        NaN                 NaN                    Sim          NaN   \n",
       "04/04/2021        NaN                 NaN                    NaN          NaN   \n",
       "...               ...                 ...                    ...          ...   \n",
       "04/04/2021        NaN                 NaN                    NaN          NaN   \n",
       "04/04/2021        NaN                 NaN                    NaN          NaN   \n",
       "04/04/2021        NaN                 NaN                    NaN          NaN   \n",
       "04/04/2021        NaN                 NaN                    NaN          NaN   \n",
       "04/04/2021        NaN                 NaN                    NaN          NaN   \n",
       "\n",
       "           Obesidade Outros Cardiovasculopatia   ano  mes  dia  \n",
       "Data                                                            \n",
       "04/04/2021       NaN    NaN                NaN  2020    4   23  \n",
       "04/04/2021       NaN    NaN                NaN  2020    8    3  \n",
       "04/04/2021       NaN    NaN                NaN  2020    3    9  \n",
       "04/04/2021       NaN    NaN                Sim  2020    3   14  \n",
       "04/04/2021       NaN    NaN                NaN  2020    3   14  \n",
       "...              ...    ...                ...   ...  ...  ...  \n",
       "04/04/2021       Sim    NaN                NaN  2021    3    7  \n",
       "04/04/2021       NaN    NaN                NaN  2021    3   15  \n",
       "04/04/2021       NaN    NaN                NaN  2021    2    8  \n",
       "04/04/2021       NaN    NaN                NaN  2021    3    6  \n",
       "04/04/2021       NaN    NaN                NaN  2021    2   26  \n",
       "\n",
       "[306766 rows x 19 columns]"
      ]
     },
     "execution_count": 60,
     "metadata": {},
     "output_type": "execute_result"
    }
   ],
   "source": [
    "obitodf"
   ]
  },
  {
   "cell_type": "code",
   "execution_count": 61,
   "id": "affected-banner",
   "metadata": {
    "execution": {
     "iopub.execute_input": "2021-04-20T19:03:25.026575Z",
     "iopub.status.busy": "2021-04-20T19:03:25.025566Z",
     "iopub.status.idle": "2021-04-20T19:03:26.138261Z",
     "shell.execute_reply": "2021-04-20T19:03:26.137547Z"
    },
    "papermill": {
     "duration": 1.210058,
     "end_time": "2021-04-20T19:03:26.138406",
     "exception": false,
     "start_time": "2021-04-20T19:03:24.928348",
     "status": "completed"
    },
    "tags": []
   },
   "outputs": [],
   "source": [
    "obito_dvac=obitodf.loc[obitodf['dataPrimeirosintomas'] >= '2021-01-24']\n",
    "obito_avac = obitodf.merge(obito_dvac, how='left', indicator=True)\n",
    "obito_avac = obito_avac[obito_avac['_merge'] == 'left_only']"
   ]
  },
  {
   "cell_type": "code",
   "execution_count": 62,
   "id": "competent-malawi",
   "metadata": {
    "execution": {
     "iopub.execute_input": "2021-04-20T19:03:26.336895Z",
     "iopub.status.busy": "2021-04-20T19:03:26.336168Z",
     "iopub.status.idle": "2021-04-20T19:03:26.478080Z",
     "shell.execute_reply": "2021-04-20T19:03:26.477442Z"
    },
    "papermill": {
     "duration": 0.248025,
     "end_time": "2021-04-20T19:03:26.478228",
     "exception": false,
     "start_time": "2021-04-20T19:03:26.230203",
     "status": "completed"
    },
    "tags": []
   },
   "outputs": [
    {
     "data": {
      "image/png": "[encoded data removed]",
      "text/plain": [
       "<Figure size 432x288 with 1 Axes>"
      ]
     },
     "metadata": {
      "needs_background": "light"
     },
     "output_type": "display_data"
    }
   ],
   "source": [
    "ax= sns.countplot(x='Óbito',data=obito_dvac, order=['Não', 'Sim'])\n",
    "\n",
    "\n",
    "ax.set_title('Sobreviveu a Covid-19 após início da vacinação?', y=1.03)\n",
    "sns.despine(left=True, bottom=True) #retirando os eixos\n",
    "ax.set(xlabel='',\n",
    "            ylabel='')\n",
    "\n",
    "total = len(obito_dvac['Óbito'])*1.\n",
    "for p in ax.patches:\n",
    "    percentage = '{:.1f}%'.format(100 * p.get_height()/total)\n",
    "    x = p.get_x() + 0.3\n",
    "    y = p.get_y() + p.get_height() \n",
    "    ax.annotate(percentage, (x, y))\n",
    "    \n",
    "ax.axes.get_yaxis().set_visible(False) #tornando os valores do eixo y invisivel\n",
    "plt.xticks(np.arange(2), ['Sim', 'Não'])\n",
    "plt.show()"
   ]
  },
  {
   "cell_type": "code",
   "execution_count": 63,
   "id": "unsigned-syria",
   "metadata": {
    "execution": {
     "iopub.execute_input": "2021-04-20T19:03:26.717313Z",
     "iopub.status.busy": "2021-04-20T19:03:26.677399Z",
     "iopub.status.idle": "2021-04-20T19:03:26.727000Z",
     "shell.execute_reply": "2021-04-20T19:03:26.726294Z"
    },
    "papermill": {
     "duration": 0.156063,
     "end_time": "2021-04-20T19:03:26.727155",
     "exception": false,
     "start_time": "2021-04-20T19:03:26.571092",
     "status": "completed"
    },
    "tags": []
   },
   "outputs": [],
   "source": [
    "# df p/ mortes depois da vacinaçao\n",
    "morte_dvac=obito_dvac[obito_dvac['Óbito']== 'Sim']\n",
    "\n",
    "# df p/ mortes depois da vacinaçao\n",
    "morte_avac=obito_avac[obito_avac['Óbito']== 'Sim']"
   ]
  },
  {
   "cell_type": "code",
   "execution_count": 64,
   "id": "ambient-elder",
   "metadata": {
    "execution": {
     "iopub.execute_input": "2021-04-20T19:03:26.955310Z",
     "iopub.status.busy": "2021-04-20T19:03:26.954417Z",
     "iopub.status.idle": "2021-04-20T19:03:27.191810Z",
     "shell.execute_reply": "2021-04-20T19:03:27.191248Z"
    },
    "papermill": {
     "duration": 0.370333,
     "end_time": "2021-04-20T19:03:27.191971",
     "exception": false,
     "start_time": "2021-04-20T19:03:26.821638",
     "status": "completed"
    },
    "tags": []
   },
   "outputs": [
    {
     "data": {
      "image/png": "[encoded data removed]",
      "text/plain": [
       "<Figure size 432x288 with 1 Axes>"
      ]
     },
     "metadata": {
      "needs_background": "light"
     },
     "output_type": "display_data"
    },
    {
     "data": {
      "text/plain": [
       "(72.0, 70.16543608675589)"
      ]
     },
     "execution_count": 64,
     "metadata": {},
     "output_type": "execute_result"
    }
   ],
   "source": [
    "ax=sns.histplot(morte_avac['Idade'], bins=10)\n",
    "\n",
    "sns.despine(left=True) #retirando os eixos\n",
    "ax.set(xlabel=\"\", \n",
    "       ylabel=\"\",\n",
    "       title=\"Idades de Mortes antes do início Vacinação no DF\")\n",
    "\n",
    "# linhas verticais com mediana e média\n",
    "mediana=morte_avac['Idade'].median()\n",
    "media=morte_avac['Idade'].mean()\n",
    "ax.axvline(x=mediana, color='#ffddbd', label='Mediana', linestyle='--', linewidth=2)\n",
    "ax.axvline(x=media, color='#ffddbd', label='Média', linestyle='-', linewidth=2)\n",
    "\n",
    "# apresenta a legenda e o gráfico\n",
    "ax.legend()\n",
    "plt.show()\n",
    "mediana, media\n"
   ]
  },
  {
   "cell_type": "code",
   "execution_count": 65,
   "id": "interior-maple",
   "metadata": {
    "execution": {
     "iopub.execute_input": "2021-04-20T19:03:27.540198Z",
     "iopub.status.busy": "2021-04-20T19:03:27.386506Z",
     "iopub.status.idle": "2021-04-20T19:03:27.791160Z",
     "shell.execute_reply": "2021-04-20T19:03:27.791977Z"
    },
    "papermill": {
     "duration": 0.506932,
     "end_time": "2021-04-20T19:03:27.792180",
     "exception": false,
     "start_time": "2021-04-20T19:03:27.285248",
     "status": "completed"
    },
    "tags": []
   },
   "outputs": [
    {
     "data": {
      "image/png": "[encoded data removed]",
      "text/plain": [
       "<Figure size 432x288 with 1 Axes>"
      ]
     },
     "metadata": {
      "needs_background": "light"
     },
     "output_type": "display_data"
    },
    {
     "data": {
      "text/plain": [
       "(67.0, 65.40670859538784)"
      ]
     },
     "execution_count": 65,
     "metadata": {},
     "output_type": "execute_result"
    }
   ],
   "source": [
    "\n",
    "#DPS DA VACINA\n",
    "ax=sns.histplot(morte_dvac['Idade'], bins=10)\n",
    "\n",
    "sns.despine(left=True) #retirando os eixos\n",
    "ax.set(xlabel=\"\", \n",
    "       ylabel=\"\",\n",
    "       title=\"Idades de Mortes após início Vacinação no DF\")\n",
    "\n",
    "# linhas verticais com mediana e média\n",
    "mediana=morte_dvac['Idade'].median()\n",
    "media=morte_dvac['Idade'].mean()\n",
    "ax.axvline(x=mediana, color='#ffddbd', label='Mediana', linestyle='--', linewidth=2)\n",
    "ax.axvline(x=media, color='#ffddbd', label='Média', linestyle='-', linewidth=2)\n",
    "\n",
    "# apresenta a legenda e o gráfico\n",
    "ax.legend()\n",
    "plt.show()\n",
    "mediana, media"
   ]
  },
  {
   "cell_type": "code",
   "execution_count": 66,
   "id": "chubby-opportunity",
   "metadata": {
    "execution": {
     "iopub.execute_input": "2021-04-20T19:03:27.983722Z",
     "iopub.status.busy": "2021-04-20T19:03:27.983056Z",
     "iopub.status.idle": "2021-04-20T19:03:27.990502Z",
     "shell.execute_reply": "2021-04-20T19:03:27.990995Z"
    },
    "papermill": {
     "duration": 0.106875,
     "end_time": "2021-04-20T19:03:27.991182",
     "exception": false,
     "start_time": "2021-04-20T19:03:27.884307",
     "status": "completed"
    },
    "tags": []
   },
   "outputs": [
    {
     "data": {
      "text/plain": [
       "count    4334.000000\n",
       "mean       70.165436\n",
       "std        15.026896\n",
       "min         0.000000\n",
       "25%        61.000000\n",
       "50%        72.000000\n",
       "75%        81.000000\n",
       "max       108.000000\n",
       "Name: Idade, dtype: float64"
      ]
     },
     "execution_count": 66,
     "metadata": {},
     "output_type": "execute_result"
    }
   ],
   "source": [
    "morte_avac['Idade'].describe()"
   ]
  },
  {
   "cell_type": "code",
   "execution_count": 67,
   "id": "classical-directory",
   "metadata": {
    "execution": {
     "iopub.execute_input": "2021-04-20T19:03:28.183923Z",
     "iopub.status.busy": "2021-04-20T19:03:28.183058Z",
     "iopub.status.idle": "2021-04-20T19:03:28.191809Z",
     "shell.execute_reply": "2021-04-20T19:03:28.192359Z"
    },
    "papermill": {
     "duration": 0.107107,
     "end_time": "2021-04-20T19:03:28.192547",
     "exception": false,
     "start_time": "2021-04-20T19:03:28.085440",
     "status": "completed"
    },
    "tags": []
   },
   "outputs": [
    {
     "data": {
      "text/plain": [
       "count    1431.000000\n",
       "mean       65.406709\n",
       "std        15.270367\n",
       "min        21.000000\n",
       "25%        55.000000\n",
       "50%        67.000000\n",
       "75%        76.000000\n",
       "max       102.000000\n",
       "Name: Idade, dtype: float64"
      ]
     },
     "execution_count": 67,
     "metadata": {},
     "output_type": "execute_result"
    }
   ],
   "source": [
    "morte_dvac['Idade'].describe()"
   ]
  },
  {
   "cell_type": "code",
   "execution_count": 68,
   "id": "continuous-thirty",
   "metadata": {
    "execution": {
     "iopub.execute_input": "2021-04-20T19:03:28.382450Z",
     "iopub.status.busy": "2021-04-20T19:03:28.381340Z",
     "iopub.status.idle": "2021-04-20T19:03:31.291973Z",
     "shell.execute_reply": "2021-04-20T19:03:31.291387Z"
    },
    "papermill": {
     "duration": 3.00649,
     "end_time": "2021-04-20T19:03:31.292125",
     "exception": false,
     "start_time": "2021-04-20T19:03:28.285635",
     "status": "completed"
    },
    "tags": []
   },
   "outputs": [
    {
     "data": {
      "image/png": "[encoded data removed]",
      "text/plain": [
       "<Figure size 360x360 with 1 Axes>"
      ]
     },
     "metadata": {
      "needs_background": "light"
     },
     "output_type": "display_data"
    },
    {
     "data": {
      "image/png": "[encoded data removed]",
      "text/plain": [
       "<Figure size 360x360 with 1 Axes>"
      ]
     },
     "metadata": {
      "needs_background": "light"
     },
     "output_type": "display_data"
    }
   ],
   "source": [
    "# antes da vacinaçao\n",
    "\n",
    "ob=sns.catplot(y='Idade', x='Óbito', data= obito_avac, kind='box',  order=['Sim', 'Não'])\n",
    "sns.despine(left=True, bottom=True)\n",
    "ob.fig.suptitle('Idades de casos Covid-19 antes do início da Vacinação')\n",
    "ob.set(xlabel=\"Óbito?\", \n",
    "       ylabel=\"\")\n",
    "plt.show()\n",
    "#dps vacinacao\n",
    "\n",
    "ob=sns.catplot(y='Idade', x='Óbito', data= obito_dvac, kind='box')\n",
    "sns.despine(left=True, bottom=True)\n",
    "ob.fig.suptitle('Idades de casos Covid-19 após início da Vacinação')\n",
    "ob.set(xlabel=\"Óbito?\", \n",
    "       ylabel=\"\")\n",
    "plt.show()"
   ]
  },
  {
   "cell_type": "code",
   "execution_count": 69,
   "id": "fixed-moore",
   "metadata": {
    "execution": {
     "iopub.execute_input": "2021-04-20T19:03:31.530893Z",
     "iopub.status.busy": "2021-04-20T19:03:31.515827Z",
     "iopub.status.idle": "2021-04-20T19:03:31.756273Z",
     "shell.execute_reply": "2021-04-20T19:03:31.755693Z"
    },
    "papermill": {
     "duration": 0.367508,
     "end_time": "2021-04-20T19:03:31.756428",
     "exception": false,
     "start_time": "2021-04-20T19:03:31.388920",
     "status": "completed"
    },
    "tags": []
   },
   "outputs": [
    {
     "data": {
      "image/png": "[encoded data removed]",
      "text/plain": [
       "<Figure size 432x288 with 1 Axes>"
      ]
     },
     "metadata": {
      "needs_background": "light"
     },
     "output_type": "display_data"
    }
   ],
   "source": [
    "dosevac= sns.countplot(x='Óbito',data=obito_dvac, hue='Sexo')\n",
    "\n",
    "dosevac.set_title('Óbito de Covid-19 no DF após o início da vacinação', y=1.03)\n",
    "sns.despine(left=True, bottom=True) #retirando os eixos\n",
    "dosevac.set(xlabel='',\n",
    "            ylabel='')\n",
    "\n",
    "total = len(obito_dvac['Óbito'])*1.\n",
    "for p in dosevac.patches:\n",
    "    percentage = '{:.1f}%'.format(100 * p.get_height()/total)\n",
    "    x = p.get_x() + 0.1\n",
    "    y = p.get_y() + p.get_height() + 1000\n",
    "    dosevac.annotate(percentage, (x, y))\n",
    "\n",
    "dosevac.axes.get_yaxis().set_visible(False) #tornando os valores do eixo y invisivel\n",
    "plt.show()"
   ]
  },
  {
   "cell_type": "code",
   "execution_count": null,
   "id": "located-authorization",
   "metadata": {
    "papermill": {
     "duration": 0.114346,
     "end_time": "2021-04-20T19:03:31.976663",
     "exception": false,
     "start_time": "2021-04-20T19:03:31.862317",
     "status": "completed"
    },
    "tags": []
   },
   "outputs": [],
   "source": []
  }
 ],
 "metadata": {
  "kernelspec": {
   "display_name": "Python 3",
   "language": "python",
   "name": "python3"
  },
  "language_info": {
   "codemirror_mode": {
    "name": "ipython",
    "version": 3
   },
   "file_extension": ".py",
   "mimetype": "text/x-python",
   "name": "python",
   "nbconvert_exporter": "python",
   "pygments_lexer": "ipython3",
   "version": "3.7.9"
  },
  "papermill": {
   "default_parameters": {},
   "duration": 53.492278,
   "end_time": "2021-04-20T19:03:32.986710",
   "environment_variables": {},
   "exception": null,
   "input_path": "__notebook__.ipynb",
   "output_path": "__notebook__.ipynb",
   "parameters": {},
   "start_time": "2021-04-20T19:02:39.494432",
   "version": "2.3.2"
  }
 },
 "nbformat": 4,
 "nbformat_minor": 5
}
